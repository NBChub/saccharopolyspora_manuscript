{
 "cells": [
  {
   "cell_type": "markdown",
   "id": "ff651310-b41c-4963-8c42-91b8b692fde5",
   "metadata": {},
   "source": [
    "## Upload Dataset to Zenodo\n",
    "https://developers.zenodo.org/?python#quickstart-upload"
   ]
  },
  {
   "cell_type": "code",
   "execution_count": null,
   "id": "764b11ce-acb6-497b-9c88-9ee5bf7ab846",
   "metadata": {
    "tags": []
   },
   "outputs": [],
   "source": [
    "import requests\n",
    "r = requests.get(\"https://zenodo.org/api/deposit/depositions\")\n",
    "r.status_code\n",
    "# 401\n",
    "r.json()"
   ]
  },
  {
   "cell_type": "code",
   "execution_count": null,
   "id": "6fd25a21-c18e-45e3-afcc-5f30ef1ed0ed",
   "metadata": {
    "tags": []
   },
   "outputs": [],
   "source": [
    "ACCESS_TOKEN = CHANGE_THIS_FIELD\n",
    "\n",
    "r = requests.get('https://zenodo.org/api/deposit/depositions',\n",
    "                  params={'access_token': ACCESS_TOKEN})\n",
    "r.status_code\n",
    "# 200\n",
    "r.json()\n",
    "# []"
   ]
  },
  {
   "cell_type": "code",
   "execution_count": null,
   "id": "bd697963-081e-4e88-b3de-b375f9a254c7",
   "metadata": {},
   "outputs": [],
   "source": [
    "# pick your project, see docs to create project from scratch\n",
    "json = r.json()[0]\n",
    "json"
   ]
  },
  {
   "cell_type": "code",
   "execution_count": null,
   "id": "3d6fc6cc-0c96-4437-ace2-cdcd865aac99",
   "metadata": {
    "tags": []
   },
   "outputs": [],
   "source": [
    "headers = {\"Content-Type\": \"application/json\"}\n",
    "params = {'access_token': ACCESS_TOKEN}\n",
    "r = requests.post('https://zenodo.org/api/deposit/depositions',\n",
    "                   params=params,\n",
    "                   json=json)\n",
    "r.status_code\n",
    "# 201\n",
    "r.json()"
   ]
  },
  {
   "cell_type": "code",
   "execution_count": null,
   "id": "ec876515-71dc-481b-bd2c-4e4a5bc461ac",
   "metadata": {
    "tags": []
   },
   "outputs": [],
   "source": [
    "bucket_url = r.json()[\"links\"][\"bucket\"]\n",
    "bucket_url"
   ]
  },
  {
   "cell_type": "code",
   "execution_count": null,
   "id": "8379257a-838b-475c-a76c-ecacf4dd8e0f",
   "metadata": {
    "tags": []
   },
   "outputs": [],
   "source": [
    "filename = \"saccharopolyspora_dataset.zip\"\n",
    "path = \"../%s\" % filename\n",
    "\n",
    "''' \n",
    "The target URL is a combination of the bucket link with the desired filename\n",
    "seperated by a slash.\n",
    "'''\n",
    "with open(path, \"rb\") as fp:\n",
    "    r = requests.put(\n",
    "        \"%s/%s\" % (bucket_url, filename),\n",
    "        data=fp,\n",
    "        params=params,\n",
    "    )\n",
    "r.json()"
   ]
  }
 ],
 "metadata": {
  "kernelspec": {
   "display_name": "Python 3 (ipykernel)",
   "language": "python",
   "name": "python3"
  },
  "language_info": {
   "codemirror_mode": {
    "name": "ipython",
    "version": 3
   },
   "file_extension": ".py",
   "mimetype": "text/x-python",
   "name": "python",
   "nbconvert_exporter": "python",
   "pygments_lexer": "ipython3",
   "version": "3.11.3"
  }
 },
 "nbformat": 4,
 "nbformat_minor": 5
}
