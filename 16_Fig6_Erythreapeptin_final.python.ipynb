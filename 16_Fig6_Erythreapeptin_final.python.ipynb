{
 "cells": [
  {
   "cell_type": "markdown",
   "id": "153d186b-3ba6-42be-a94d-273bbd317025",
   "metadata": {},
   "source": [
    "## Merge Visualization"
   ]
  },
  {
   "cell_type": "code",
   "execution_count": null,
   "id": "d2671918-f82a-4bd3-89a2-c3da5ead8d5c",
   "metadata": {},
   "outputs": [],
   "source": [
    "from svgutils.compose import *\n",
    "from svgutils.compose import Figure\n",
    "from IPython.display import SVG as disp_SVG\n",
    "from pathlib import Path"
   ]
  },
  {
   "cell_type": "code",
   "execution_count": null,
   "id": "f53d825d-ea04-4349-895f-9fad888acbd7",
   "metadata": {},
   "outputs": [],
   "source": [
    "FIGURE = \"Figure_6\""
   ]
  },
  {
   "cell_type": "code",
   "execution_count": null,
   "id": "f763ac9d-fffd-483c-a9b5-c1e8b839f5ea",
   "metadata": {},
   "outputs": [],
   "source": [
    "#create lines\n",
    "heights = [30, 40, 50, 60, 70]\n",
    "\n",
    "for height in heights:\n",
    "    line = f\"\"\"<?xml version=\"1.0\" encoding=\"UTF-8\" standalone=\"no\"?>\n",
    "    <svg xmlns=\"http://www.w3.org/2000/svg\" width=\"10\" height=\"{height}\">\n",
    "      <line x1=\"10\" y1=\"0\" x2=\"10\" y2=\"{height}\" style=\"stroke: black;\"/>\n",
    "    </svg>\"\"\"\n",
    "\n",
    "    outfile = Path(f\"assets/figures/Figure_6/doodles/line_{height}.svg\")\n",
    "    outfile.parent.mkdir(parents=True, exist_ok=True)\n",
    "    with open(outfile, \"w\") as f:\n",
    "        f.write(line)"
   ]
  },
  {
   "cell_type": "code",
   "execution_count": null,
   "id": "5ca860d6-387f-4f6d-88de-817484f17f7a",
   "metadata": {},
   "outputs": [],
   "source": [
    "width, height = 10, 270\n",
    "# create boxes\n",
    "for width in [133, 31, 70, 51, 24, 190]:\n",
    "    rectangle = f\"\"\"<svg width=\"{width+50}\" height=\"{height+50}\">\n",
    "    <rect x=\"20\" y=\"20\" width=\"{width}\" height=\"{height}\"\n",
    "    style=\"fill:none;stroke:black;stroke-width:0.5;opacity:0.5\" />\n",
    "    </svg>\"\"\"\n",
    "\n",
    "    outfile = Path(f\"assets/figures/Figure_6/doodles/rectangle_{width}x{height}x.svg\")\n",
    "    outfile.parent.mkdir(parents=True, exist_ok=True)\n",
    "    with open(outfile, \"w\") as f:\n",
    "            f.write(rectangle)"
   ]
  },
  {
   "cell_type": "code",
   "execution_count": null,
   "id": "002b1c11-77ba-4e99-b0fc-0e48c7708149",
   "metadata": {},
   "outputs": [],
   "source": [
    "# precursor peptide\n",
    "\n",
    "color = \"red\"\n",
    "# create boxes\n",
    "precursor_box_width, precursor_box_height = 190, 320\n",
    "width, height = precursor_box_width, precursor_box_height\n",
    "for width in [width]:\n",
    "    rectangle = f\"\"\"<svg width=\"{width+50}\" height=\"{height+50}\">\n",
    "    <rect x=\"20\" y=\"20\" width=\"{width}\" height=\"{height}\"\n",
    "    style=\"fill:none;stroke:{color};stroke-width:1;opacity:1\" />\n",
    "    </svg>\"\"\"\n",
    "\n",
    "    outfile = Path(f\"assets/figures/Figure_6/doodles/rectangle_{width}x{height}_{color}.svg\")\n",
    "    outfile.parent.mkdir(parents=True, exist_ok=True)\n",
    "    with open(outfile, \"w\") as f:\n",
    "            f.write(rectangle)\n",
    "\n",
    "disp_SVG(rectangle)"
   ]
  },
  {
   "cell_type": "code",
   "execution_count": null,
   "id": "69c0f1ce-8d2d-4b4b-b790-2202e29631ca",
   "metadata": {},
   "outputs": [],
   "source": [
    "cutoff = \"0.30\"\n",
    "\n",
    "with open(f\"assets/figures/{FIGURE}/{FIGURE}d.svg\", \"r\") as f:\n",
    "    context = f.readlines()\n",
    "\n",
    "for num, i in enumerate(context):\n",
    "    if \"consensus\" in i:\n",
    "        for coor in context[num-1].split():\n",
    "            if 'x=' in coor:\n",
    "                precursor_x = float(coor.strip(\"x=\").strip(\"'\"))\n",
    "\n",
    "a_x, a_y = 0, 30  \n",
    "b_x, b_y = 450, 30\n",
    "c_x, c_y = 0, 450\n",
    "d_x, d_y = 450, 450\n",
    "gggenomes_x = c_x + 350\n",
    "\n",
    "precursor_scale = 1\n",
    "core_peptide_x, core_peptide_y = d_x+precursor_x-(200*precursor_scale), d_y+(300*precursor_scale)\n",
    "\n",
    "\n",
    "final_figure = Figure(\"1200\", \"1200\",\n",
    "                      Panel(\n",
    "                          SVG(f\"assets/figures/{FIGURE}/a_annotated.svg\").scale(0.75).move(a_x, a_y),\n",
    "                          Text(\"A\", a_x, a_y, size=18, weight='bold'),  \n",
    "                          SVG(f\"assets/figures/{FIGURE}/doodles/rectangle_133x270x.svg\").move(a_x+97, a_y+1),\n",
    "                          SVG(f\"assets/figures/{FIGURE}/doodles/rectangle_31x270x.svg\").move(a_x+110+120, a_y+1),\n",
    "                          SVG(f\"assets/figures/{FIGURE}/doodles/rectangle_70x270x.svg\").move(a_x+110+120+31, a_y+1),\n",
    "                          SVG(f\"assets/figures/{FIGURE}/doodles/rectangle_51x270x.svg\").move(a_x+110+120+31+70, a_y+1),\n",
    "                          SVG(f\"assets/figures/{FIGURE}/doodles/rectangle_24x270x.svg\").move(a_x+110+120+31+70+51, a_y+1),\n",
    "                          Text(\"I\", a_x+180, a_y+30, size=10, weight='bold'),  \n",
    "                          Text(\"II\", a_x+260, a_y+30, size=10, weight='bold'), \n",
    "                          Text(\"III\", a_x+305, a_y+30, size=10, weight='bold'), \n",
    "                          Text(\"IV\", a_x+370, a_y+30, size=10, weight='bold'), \n",
    "                          Text(\"V\", a_x+410, a_y+30, size=10, weight='bold'), \n",
    "                      ),                         \n",
    "                      Panel(\n",
    "                          SVG(f\"assets/figures/{FIGURE}/{FIGURE}BD_2_{cutoff}.svg\").scale(0.6).move(b_x+0, b_y + 0),\n",
    "                          SVG(f\"assets/figures/{FIGURE}/{FIGURE}BD_1_{cutoff}.svg\").scale(0.25).move(b_x+250, b_y - 20),\n",
    "                          Text(\"BGC0000513\", b_x+200, b_y+170, size=10, weight='bold'),\n",
    "                          Text(\"Erythreapeptin\", b_x+200, b_y+180, size=10, weight='light'),\n",
    "                          Text(\"GCF_150\", b_x+140, b_y+100, size=10, weight='bold'),\n",
    "                          Text(\"GCF_299\", b_x+160, b_y+120, size=10, weight='bold'),\n",
    "                          Text(\"GCF_77\", b_x+100, b_y+160, size=10, weight='bold'),\n",
    "                          Text(\"GCF_64\", b_x+80, b_y+260, size=10, weight='bold'),\n",
    "                          Text(\"GCF_164\", b_x+165, b_y+290, size=10, weight='bold'),\n",
    "                          Text(\"GCF_8\", b_x+290, b_y+220, size=10, weight='bold'),\n",
    "                          Text(\"B\", b_x, b_y, size=18, weight='bold'),\n",
    "                      ),\n",
    "                      Panel(\n",
    "                          SVG(f\"assets/figures/{FIGURE}/{FIGURE}c.svg\").scale(0.9).move(c_x, c_y-30),\n",
    "                          Text(\"C\", c_x, c_y , size=18, weight='bold'),\n",
    "                          #Text(\"P6 | NZ_JADDUE010000019.1.region001\", c_x+70, c_y+270, size=6.5, color=\"black\"), \n",
    "                          Text(\"GCF_8\", gggenomes_x, c_y+60, size=10, color=\"black\", weight='bold'), \n",
    "                          SVG(f\"assets/figures/{FIGURE}/doodles/line_70.svg\").move(gggenomes_x-15, c_y+18),\n",
    "                          #Text(\"GCF_77\", gggenomes_x+50+30, c_y+130, size=10, color=\"black\", weight='bold'),\n",
    "                          SVG(f\"assets/figures/{FIGURE}/doodles/line_40.svg\").move(gggenomes_x+55, c_y+105),\n",
    "                          Text(\"GCF_299\", gggenomes_x, c_y+162.5, size=10, color=\"black\", weight='bold'),\n",
    "                          Text(\"GCF_150\", gggenomes_x+35, c_y+180, size=10, color=\"black\", weight='bold'),\n",
    "                          Text(\"GCF_164\", gggenomes_x+35, c_y+200, size=10, color=\"black\", weight='bold'),\n",
    "                          Text(\"GCF_64\", gggenomes_x+50, c_y+240, size=10, color=\"black\", weight='bold'),\n",
    "                          SVG(f\"assets/figures/{FIGURE}/doodles/line_60.svg\").move(gggenomes_x+30, c_y+210),\n",
    "                          Text(\"EryKC\", c_x+235, c_y-10, size=8, color=\"black\", weight='light').rotate(-45, c_x+235, c_y-10),\n",
    "                          Text(\"EryS\", c_x+235+10, c_y-10, size=8, color=\"black\", weight='light').rotate(-45, c_x+235+10, c_y-10),\n",
    "                          Text(\"ramA\", c_x+235+20, c_y-10, size=8, color=\"black\", weight='normal').rotate(-45, c_x+235+20, c_y-10),\n",
    "                          Text(\"ramB\", c_x+235+30, c_y-10, size=8, color=\"black\", weight='normal').rotate(-45, c_x+235+30, c_y-10),\n",
    "                      ),\n",
    "                      Panel(\n",
    "                          SVG(f\"assets/figures/{FIGURE}/{FIGURE}d.svg\").scale(precursor_scale).move(d_x, d_y),\n",
    "                          Text(\"D\", d_x, d_y, size=18, weight='bold'), \n",
    "                          Text(\"GCF_77\", gggenomes_x+50+20, c_y+130, size=10, color=\"black\", weight='bold'),\n",
    "                          SVG(f\"assets/figures/{FIGURE}/doodles/rectangle_{precursor_box_width}x{precursor_box_height}_red.svg\").move(core_peptide_x, d_y-20),\n",
    "                          Text(\"Core Peptide\", core_peptide_x, core_peptide_y, size=10, weight='bold'),\n",
    "                          Text(\"Leader Peptide\", d_x+160, d_y+300, size=10, weight='bold'),\n",
    "                          Text(\"Precursor Peptide Alignment\", d_x+50, d_y-5, size=12, weight='bold'),\n",
    "                      ),\n",
    "                     )\n",
    "final_figure"
   ]
  },
  {
   "cell_type": "code",
   "execution_count": null,
   "id": "87d5870f-104d-4246-87fc-a7823b895abb",
   "metadata": {},
   "outputs": [],
   "source": [
    "outfile = Path(f\"assets/figures/{FIGURE}/{FIGURE}_{cutoff}_MSA.svg\")\n",
    "outfile.parent.mkdir(parents=True, exist_ok=True)\n",
    "final_figure.save(outfile)"
   ]
  },
  {
   "cell_type": "markdown",
   "id": "92bc5736-ba19-46c1-85b1-4af8c62fd71e",
   "metadata": {
    "tags": []
   },
   "source": [
    "[](assets/figures/Figure_6/b.svg)"
   ]
  }
 ],
 "metadata": {
  "kernelspec": {
   "display_name": "Python 3 (ipykernel)",
   "language": "python",
   "name": "python3"
  },
  "language_info": {
   "codemirror_mode": {
    "name": "ipython",
    "version": 3
   },
   "file_extension": ".py",
   "mimetype": "text/x-python",
   "name": "python",
   "nbconvert_exporter": "python",
   "pygments_lexer": "ipython3",
   "version": "3.10.11"
  }
 },
 "nbformat": 4,
 "nbformat_minor": 5
}
