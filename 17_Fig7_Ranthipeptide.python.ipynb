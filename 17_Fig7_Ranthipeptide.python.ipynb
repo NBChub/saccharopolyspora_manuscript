{
 "cells": [
  {
   "cell_type": "markdown",
   "id": "aa30c71e-7186-4970-a687-b388897dc57d",
   "metadata": {},
   "source": [
    "## Figure 5. Expanded similarity network with additional connections to different BGC knowledgebases\n",
    "This notebook integrates BiG-SCAPE network with additional information"
   ]
  },
  {
   "cell_type": "code",
   "execution_count": null,
   "id": "7d383b5c-dcb3-471b-8119-4d39056be727",
   "metadata": {
    "tags": []
   },
   "outputs": [],
   "source": [
    "import pandas as pd\n",
    "import networkx as nx\n",
    "import plotly.graph_objects as go\n",
    "import numpy as np\n",
    "import scipy.spatial as spatial\n",
    "\n",
    "from pathlib import Path\n",
    "import json, yaml\n",
    "import shutil"
   ]
  },
  {
   "cell_type": "code",
   "execution_count": null,
   "id": "4bf26bae-bd3d-4d85-883a-8e48e1e400fa",
   "metadata": {
    "tags": []
   },
   "outputs": [],
   "source": [
    "def create_node_trace(G, node_trace_category, color, showtextlabel=False, nodesize=10, nodeopacity=0.8, \n",
    "                      nodesymbol=\"circle\", linewidth=1, linecolor=\"black\", textposition=\"top center\", showlegend=False):\n",
    "    if showtextlabel:\n",
    "        markermode = \"markers+text\"\n",
    "    else:\n",
    "        markermode = \"markers\"\n",
    "    nodes = np.array([node for node in G.nodes() if G.nodes[node][\"node_trace\"] == node_trace_category])\n",
    "    pos = np.array([G.nodes[node]['pos'] for node in nodes.flatten()]).reshape(-1, 2)\n",
    "    xs, ys = pos[:, 0], pos[:, 1]\n",
    "    texts = np.array([G.nodes[node]['text'] for node in nodes])\n",
    "    node_trace = go.Scatter(\n",
    "        x=xs.tolist(),\n",
    "        y=ys.tolist(),\n",
    "        text=texts.tolist(),\n",
    "        textposition=textposition,\n",
    "        mode=markermode,\n",
    "        hoverinfo='text',\n",
    "        name=node_trace_category,\n",
    "        showlegend=showlegend,\n",
    "        marker=dict(\n",
    "            symbol=nodesymbol,\n",
    "            opacity=nodeopacity,\n",
    "            showscale=False,\n",
    "            color=color,\n",
    "            size=nodesize,\n",
    "            line=dict(width=linewidth, color=linecolor)))\n",
    "    return node_trace"
   ]
  },
  {
   "cell_type": "code",
   "execution_count": null,
   "id": "b53bc502-7803-4983-8689-18821ebc279a",
   "metadata": {
    "tags": []
   },
   "outputs": [],
   "source": [
    "def create_edge_trace(Graph, name, showlegend=False, color='#888', width=0.5, opacity=0.8):\n",
    "    edge_trace = go.Scatter(\n",
    "        x=[],\n",
    "        y=[],\n",
    "        name=name,\n",
    "        opacity=opacity,\n",
    "        line=dict(width=width,color=color),\n",
    "        hoverinfo='none',\n",
    "        mode='lines',\n",
    "        showlegend=showlegend)\n",
    "\n",
    "    edges = np.array([edge for edge in Graph.edges() if G.edges[edge][\"relation_type\"] == name])\n",
    "    pos = np.array([Graph.nodes[e]['pos'] for e in edges.flatten()]).reshape(-1, 2)\n",
    "    xs = np.insert(pos[:, 0], np.arange(2, len(pos[:, 0]), 2), None)\n",
    "    ys = np.insert(pos[:, 1], np.arange(2, len(pos[:, 1]), 2), None)\n",
    "    edge_trace['x'] = xs\n",
    "    edge_trace['y'] = ys\n",
    "\n",
    "    return edge_trace"
   ]
  },
  {
   "cell_type": "code",
   "execution_count": null,
   "id": "62d796f8-d3eb-4891-bbd3-9189332d178f",
   "metadata": {
    "tags": []
   },
   "outputs": [],
   "source": [
    "def group_markers(points, name, color=\"red\", width=0.5, showlegend=False, fill=\"toself\", opacity=0.8, textposition=\"bottom center\", offset='default'):\n",
    "    # Find the convex hull of the points\n",
    "    hull = spatial.ConvexHull(points)\n",
    "\n",
    "    # Get the x and y coordinates of the vertices of the hull\n",
    "    x = [points[i][0] for i in hull.vertices] + [points[hull.vertices[0]][0]]\n",
    "    y = [points[i][1] for i in hull.vertices] + [points[hull.vertices[0]][1]]\n",
    "\n",
    "    # Calculate the center of the hull\n",
    "    center_x = np.mean(x)\n",
    "    center_y = np.mean(y)\n",
    "    \n",
    "    if offset == \"default\":\n",
    "        if len(points) < 50:\n",
    "            offset = len(points) * (-0.5/47) + 1.8\n",
    "        else:\n",
    "            offset = 1\n",
    "\n",
    "    # Add an offset of 1 pixel to each vertex\n",
    "    offset_x = [(xi - center_x) * offset + center_x for xi in x]\n",
    "    offset_y = [(yi - center_y) * offset + center_y for yi in y]\n",
    "    trace = go.Scatter(name=name, x=offset_x, y=offset_y, mode='lines', line=dict(width=width, color=color), \n",
    "                       showlegend=showlegend, fill=fill, opacity=opacity, textposition=textposition)\n",
    "    return trace"
   ]
  },
  {
   "cell_type": "markdown",
   "id": "cb53f8fc-a283-4fbd-95c2-f7594f66452b",
   "metadata": {},
   "source": [
    "## File configuration"
   ]
  },
  {
   "cell_type": "code",
   "execution_count": null,
   "id": "ba8c630a-2c2a-49a8-9715-28c0f70d8357",
   "metadata": {
    "tags": []
   },
   "outputs": [],
   "source": [
    "with open(\"config.yaml\", \"r\") as f:\n",
    "    notebook_configuration = yaml.safe_load(f)\n",
    "notebook_configuration"
   ]
  },
  {
   "cell_type": "code",
   "execution_count": null,
   "id": "167c02a2-038b-45be-8d45-9642b70a5acb",
   "metadata": {
    "tags": []
   },
   "outputs": [],
   "source": [
    "bgcflow_dir = Path(notebook_configuration[\"bgcflow_dir\"])\n",
    "project_name = \"mq_saccharopolyspora\"\n",
    "report_dir = bgcflow_dir / f\"data/processed/{project_name}\"\n",
    "FIGURE = \"Figure_7\"\n",
    "FIGURE_ARTS = \"Figure_4\"\n",
    "FIGURE_MASH = \"Figure_3\"\n",
    "FIGURE_BIGFAM = \"Figure_4\""
   ]
  },
  {
   "cell_type": "markdown",
   "id": "df16d0c5-65c4-439a-a9a1-0dbb89e50729",
   "metadata": {
    "tags": []
   },
   "source": [
    "## Setting Up Cutoff and Inputs"
   ]
  },
  {
   "cell_type": "code",
   "execution_count": null,
   "id": "16f4f557-54e8-40d3-86d0-51fa3ac31034",
   "metadata": {},
   "outputs": [],
   "source": [
    "cutoff = \"0.30\""
   ]
  },
  {
   "cell_type": "code",
   "execution_count": null,
   "id": "3faa412d-23ab-4260-8eee-068bfdedc908",
   "metadata": {
    "tags": []
   },
   "outputs": [],
   "source": [
    "path_bigscape = report_dir / \"bigscape/for_cytoscape_antismash_6.1.1/\""
   ]
  },
  {
   "cell_type": "code",
   "execution_count": null,
   "id": "d6b15211-e1a3-40c6-88a6-2b5dce43940e",
   "metadata": {
    "tags": []
   },
   "outputs": [],
   "source": [
    "df_bigscape = pd.read_csv([i for i in path_bigscape.glob(f\"*df_network*{cutoff}*\")][0])\n",
    "df_bigscape_cluster = pd.read_csv([i for i in path_bigscape.glob(f\"*df_cluster*{cutoff}*\")][0])\n",
    "df_antismash = pd.read_csv(report_dir / \"tables/df_regions_antismash_6.1.1.csv\")\n",
    "df_bigfam = pd.read_csv(report_dir / \"bigslice/query_as_6.1.1/query_network.csv\")\n",
    "df_arts = pd.read_csv(f\"assets/tables/{FIGURE_ARTS}_df_arts_hits.csv\")\n",
    "df_mash = pd.read_csv(f\"assets/tables/{FIGURE_MASH}b_mash_hcluster.csv\", index_col=0)"
   ]
  },
  {
   "cell_type": "code",
   "execution_count": null,
   "id": "123804bb-7a33-4ec7-8680-649cad37c257",
   "metadata": {},
   "outputs": [],
   "source": [
    "bigfam_models_stats = pd.read_csv(f\"assets/tables/{FIGURE_BIGFAM}_bigfam_models.csv\", index_col=0)"
   ]
  },
  {
   "cell_type": "markdown",
   "id": "663805f6-6c9c-41c1-9bc5-71481206a904",
   "metadata": {},
   "source": [
    "## Building Edges for Networkx"
   ]
  },
  {
   "cell_type": "code",
   "execution_count": null,
   "id": "ed1ea922-5905-4c70-a16e-ab17c98acc8b",
   "metadata": {
    "tags": []
   },
   "outputs": [],
   "source": [
    "edge_bigscape = df_bigscape.loc[:, ['Clustername 1','Clustername 2']]\n",
    "edge_bigscape = edge_bigscape.rename(columns={'Clustername 1' : 'source',\n",
    "                                              'Clustername 2' : 'target'})\n",
    "edge_bigscape['relation_type'] = 'bigscape_similarity'"
   ]
  },
  {
   "cell_type": "code",
   "execution_count": null,
   "id": "40698abb-493e-42a1-9ffa-de9b1d447db9",
   "metadata": {
    "tags": []
   },
   "outputs": [],
   "source": [
    "edge_antismash = df_antismash.loc[:, ['bgc_id', 'most_similar_known_cluster_id', 'similarity']].dropna()\n",
    "edge_antismash = edge_antismash.rename(columns={'bgc_id' : 'source', \n",
    "                                                'most_similar_known_cluster_id' : 'target',\n",
    "                                                'similarity' : 'value'\n",
    "                                               })\n",
    "edge_antismash['relation_type'] = 'antismash_knownclusterblast' "
   ]
  },
  {
   "cell_type": "code",
   "execution_count": null,
   "id": "ebcff61c-c771-442e-8c0c-3de54d8bc1f7",
   "metadata": {
    "tags": []
   },
   "outputs": [],
   "source": [
    "edge_arts = df_arts.loc[:, ['profile', 'bgc_id']]\n",
    "edge_arts = edge_arts.rename(columns={'profile' : 'source', \n",
    "                                      'bgc_id' : 'target'})\n",
    "edge_arts['relation_type'] = 'arts_hits'"
   ]
  },
  {
   "cell_type": "code",
   "execution_count": null,
   "id": "df5f269d-c2d9-43c2-a02c-33605a338566",
   "metadata": {
    "tags": []
   },
   "outputs": [],
   "source": [
    "edge_bigscape_class = df_bigscape_cluster.loc[:, ['bgc_id', 'bigscape_class']]\n",
    "edge_bigscape_class = edge_bigscape_class.rename(columns={'bgc_id' : 'source', \n",
    "                                      'bigscape_class' : 'target'})\n",
    "edge_bigscape_class['relation_type'] = 'bigscape_class'"
   ]
  },
  {
   "cell_type": "code",
   "execution_count": null,
   "id": "dc8b6564-3393-4a27-bbdb-7ab77e070a4e",
   "metadata": {
    "tags": []
   },
   "outputs": [],
   "source": [
    "edge_bigfam = df_bigfam[df_bigfam['rank'] == 0].loc[:, ['gcf_id', 'bgc_id']]\n",
    "edge_bigfam = edge_bigfam.rename(columns={'gcf_id' : 'source', \n",
    "                                          'bgc_id' : 'target'})\n",
    "edge_bigfam['relation_type'] = 'bigfam_hits'"
   ]
  },
  {
   "cell_type": "code",
   "execution_count": null,
   "id": "a6db58d4-2e60-446e-ba33-87b09791acce",
   "metadata": {
    "tags": []
   },
   "outputs": [],
   "source": [
    "for i in df_bigscape_cluster.index:\n",
    "    genome_id = df_bigscape_cluster.loc[i, \"genome_id\"] \n",
    "    df_bigscape_cluster.loc[i, \"phylogroup\"] = df_mash.loc[genome_id, \"phylogroup\"]\n",
    "edge_mash = df_bigscape_cluster.loc[:, [\"bgc_id\", \"phylogroup\"]]\n",
    "edge_mash = edge_mash.rename(columns={'bgc_id' : 'source', \n",
    "                                          'phylogroup' : 'target'})\n",
    "edge_mash['relation_type'] = 'phylogroup'"
   ]
  },
  {
   "cell_type": "markdown",
   "id": "ebe25335-47f2-4486-b40a-d2b18c609719",
   "metadata": {},
   "source": [
    "## Build mapping categories"
   ]
  },
  {
   "cell_type": "code",
   "execution_count": null,
   "id": "b19bde59-2f80-4f86-ae1c-b98a044558a5",
   "metadata": {
    "tags": []
   },
   "outputs": [],
   "source": [
    "nodemap_antismash = df_antismash.loc[:, ['bgc_id', 'product', 'most_similar_known_cluster_description', 'similarity']].set_index('bgc_id')\n",
    "nodemap_antismash['similarity'] = [f\"{i:.2f}\" for i in nodemap_antismash['similarity']]\n",
    "nodemap_antismash = nodemap_antismash.astype(str).T.to_dict()"
   ]
  },
  {
   "cell_type": "code",
   "execution_count": null,
   "id": "eb3b9f21-11c7-4c14-8273-b28886a853be",
   "metadata": {
    "tags": []
   },
   "outputs": [],
   "source": [
    "nodemap_mibig = pd.read_csv(bgcflow_dir / \"resources/mibig/df_mibig_bgcs.csv\", index_col=0)\n",
    "nodemap_mibig = nodemap_mibig.loc[:, [\"biosyn_class\", \"compounds\"]].T.to_dict()"
   ]
  },
  {
   "cell_type": "code",
   "execution_count": null,
   "id": "62e63dec-2210-4957-94da-20b88b60bc09",
   "metadata": {
    "tags": []
   },
   "outputs": [],
   "source": [
    "nodemap_mibig_bigscape = list(set([i for i in edge_bigscape.source if i.startswith(\"BGC\")]).union(set([i for i in edge_bigscape.target if i.startswith(\"BGC\")])))"
   ]
  },
  {
   "cell_type": "code",
   "execution_count": null,
   "id": "1f4e0844-b67f-43b4-bb3a-2c01a7eed289",
   "metadata": {
    "tags": []
   },
   "outputs": [],
   "source": [
    "nodemap_arts = df_arts.set_index(\"profile\").fillna(\"\").loc[:, [\"hits_type\", \"function\", \"description\"]].T.to_dict()"
   ]
  },
  {
   "cell_type": "code",
   "execution_count": null,
   "id": "880798fc-d693-4268-a87c-aaaf94524e64",
   "metadata": {},
   "outputs": [],
   "source": [
    "nodemap_bigfam = bigfam_models_stats.loc[:, [\"top_chemical_class\",\"top_chemical_class_proportion\",\"top_chemical_subclass\",\"top_chemical_subclass_proportion\", \"H-index\",\"richness\",\"top_taxa\",\"top_taxa_proportion\"]]\n",
    "nodemap_bigfam = nodemap_bigfam.astype(str).T.to_dict()"
   ]
  },
  {
   "cell_type": "code",
   "execution_count": null,
   "id": "7cac5d9a-4c88-45b8-add7-4a9bd7e08014",
   "metadata": {
    "tags": []
   },
   "outputs": [],
   "source": [
    "arts_map = list(df_arts.profile.unique())\n",
    "bigfam_map = list(df_bigfam.astype(\"str\").gcf_id.unique())\n",
    "antismash_map = list(df_antismash.bgc_id.unique())\n",
    "phylogroup_map = list(df_mash.phylogroup.unique())"
   ]
  },
  {
   "cell_type": "markdown",
   "id": "94ee8dd7-f57c-436b-bffd-d6c1e0c39d95",
   "metadata": {},
   "source": [
    "## Build Network"
   ]
  },
  {
   "cell_type": "code",
   "execution_count": null,
   "id": "42d46897-b4de-40f2-91b8-1e6f3b329526",
   "metadata": {
    "tags": []
   },
   "outputs": [],
   "source": [
    "df = pd.concat([edge_antismash, edge_bigscape, edge_bigfam, edge_arts])\n",
    "df = df.astype(str)\n",
    "G = nx.from_pandas_edgelist(df, source='source', target='target', edge_attr=['relation_type', 'value'])"
   ]
  },
  {
   "cell_type": "markdown",
   "id": "79309120-6e5a-4507-92e0-f87debbff124",
   "metadata": {},
   "source": [
    "## Filtering\n",
    "### Remove Unreliable BiG-FAM models\n",
    "This part requires analysis from [FigS12_query_bigfam.ipynb](FigS12_query_bigfam.ipynb)"
   ]
  },
  {
   "cell_type": "code",
   "execution_count": null,
   "id": "999f481b-b32d-49a2-8852-ec50989688e8",
   "metadata": {
    "tags": []
   },
   "outputs": [],
   "source": [
    "deleted_bigfam = []\n",
    "bigfam_taxa_cutoff = 0.3\n",
    "bigfam_filter = bigfam_models_stats[bigfam_models_stats.top_taxa_proportion <= bigfam_taxa_cutoff]\n",
    "for n in bigfam_filter.index:\n",
    "    try:\n",
    "        G.remove_node(str(n))\n",
    "        deleted_bigfam.append(n)  \n",
    "    except nx.NetworkXError as e:\n",
    "        print(e)\n",
    "\n",
    "deleted_bigfam = ', '.join([str(i) for i in deleted_bigfam])"
   ]
  },
  {
   "cell_type": "markdown",
   "id": "19b8daa5-963e-4a81-b20d-adcd13c4f41e",
   "metadata": {},
   "source": [
    "### Network Annotation"
   ]
  },
  {
   "cell_type": "code",
   "execution_count": null,
   "id": "7bf9e4ed-d9f7-4a79-a3d1-68ac874478be",
   "metadata": {
    "tags": []
   },
   "outputs": [],
   "source": [
    "# position nodes\n",
    "pos = nx.nx_agraph.graphviz_layout(G)\n",
    "for n, p in pos.items():\n",
    "    G.nodes[n]['pos'] = p\n",
    "    G.nodes[n]['text'] = n\n",
    "    if n in arts_map:\n",
    "        node_trace = 'ARTS model'\n",
    "        G.nodes[n]['text'] = n + \"<br>\" + \"<br>\".join(nodemap_arts[n].values())\n",
    "    elif n in bigfam_map:\n",
    "        node_trace = 'BiG-FAM model'\n",
    "        try:\n",
    "            G.nodes[n]['text'] = n + \"<br>\" + \"<br>\".join(nodemap_bigfam[int(n)].values())\n",
    "        except KeyError:\n",
    "            print(f\"Node {n} not found in bigfam_mapping\")\n",
    "    elif n in antismash_map:\n",
    "        node_trace = \"BGC\"\n",
    "        try:\n",
    "            G.nodes[n]['text'] = n + \"<br>\" + \"<br>\".join(nodemap_antismash[n].values())\n",
    "            if float(nodemap_antismash[n]['similarity']) < 0.4:\n",
    "                node_trace = \"BGC < 40% similarity\"\n",
    "            elif float(nodemap_antismash[n]['similarity']) < 0.8:\n",
    "                node_trace = \"BGC < 80% similarity\"\n",
    "            elif float(nodemap_antismash[n]['similarity']) >= 0.8:\n",
    "                node_trace = \"BGC >= 80% similarity\"\n",
    "        except TypeError as e:\n",
    "            print(n, e)\n",
    "        if 'ranthipeptide' in G.nodes[n]['text']:\n",
    "            node_trace = 'Ranthipeptide' + \" \" + node_trace\n",
    "    elif n.startswith(\"BGC\"):\n",
    "        node_trace = \"MIBIG (KnownClusterBlast)\"\n",
    "        if n in nodemap_mibig_bigscape:\n",
    "            node_trace = \"MIBIG (BiG-SCAPE)\"\n",
    "        try:\n",
    "            G.nodes[n]['text'] = n + \"<br>\" + \"<br>\".join(nodemap_mibig[n].values())\n",
    "        except KeyError:\n",
    "            pass\n",
    "    if n in list(edge_mash.source):\n",
    "        phylogroup = edge_mash.set_index(\"source\").loc[n, \"target\"]\n",
    "        G.nodes[n]['text'] = \"<br>\".join([phylogroup, G.nodes[n]['text']])\n",
    "    G.nodes[n]['node_trace'] = node_trace"
   ]
  },
  {
   "cell_type": "markdown",
   "id": "bbefce77-0561-4a7b-8b66-1bae3fbaaf6f",
   "metadata": {},
   "source": [
    "## Define visualizations"
   ]
  },
  {
   "cell_type": "code",
   "execution_count": null,
   "id": "86400ccf-9ccd-4076-aaa9-f13aed84d000",
   "metadata": {
    "tags": []
   },
   "outputs": [],
   "source": [
    "edge_annotation_map = {'bigscape_similarity' : {'color':'black',\n",
    "                                                'width':0.5}, \n",
    "                       'antismash_knownclusterblast': {'color':'blue', \n",
    "                                                       'width':0.5}, \n",
    "                       'arts_hits': {'color':'red', \n",
    "                                     'width':0.5}, \n",
    "                       'bigfam_hits': {'color':'orange', \n",
    "                                       'width':0.5},\n",
    "                       'phylogroup' : {'color' : 'black',\n",
    "                                     'width' : 0.5}}\n",
    "\n",
    "node_annotation_map = {'ARTS model' : {'color':'red',\n",
    "                                       'node_symbol' : 'star'},\n",
    "                       'BiG-FAM model' : {'color':'orange',\n",
    "                                          'node_symbol' : 'triangle-up'},\n",
    "                       'MIBIG (KnownClusterBlast)' : {'color':'green',\n",
    "                                                      'node_symbol' : 'square-dot'},\n",
    "                       'MIBIG (BiG-SCAPE)' : {'color':'blue',\n",
    "                                              'node_symbol' : 'square'},\n",
    "                       \"BGC >= 80% similarity\" : {'color':'blue',\n",
    "                                                  'node_symbol' : 'circle'},\n",
    "                       \"BGC < 80% similarity\" : {'color':'#0077b6',\n",
    "                                                 'node_symbol' : 'circle'},\n",
    "                       \"BGC < 40% similarity\" : {'color':'#90e0ef',\n",
    "                                                 'node_symbol' : 'circle'},\n",
    "                       'BGC' : {'color':'#90e0ef',\n",
    "                                          'node_symbol' : 'circle'},\n",
    "                       \"Ranthipeptide BGC >= 80% similarity\" : {'color':'blue',\n",
    "                                                  'node_symbol' : 'circle'},\n",
    "                       \"Ranthipeptide BGC < 80% similarity\" : {'color':'#0077b6',\n",
    "                                                 'node_symbol' : 'circle'},\n",
    "                       \"Ranthipeptide BGC < 40% similarity\" : {'color':'#90e0ef',\n",
    "                                                 'node_symbol' : 'circle'},\n",
    "                       'Ranthipeptide BGC' : {'color':'#90e0ef',\n",
    "                                          'node_symbol' : 'circle'},\n",
    "                       'phylogroup' : {'color' : 'black',\n",
    "                                       'node_symbol' : 'star'}\n",
    "                      }"
   ]
  },
  {
   "cell_type": "markdown",
   "id": "76709272-16de-473f-b98c-f641bdc8824c",
   "metadata": {},
   "source": [
    "## Draw Target Box"
   ]
  },
  {
   "cell_type": "code",
   "execution_count": null,
   "id": "7d6ae274-2fc6-423d-b785-af8853ecea46",
   "metadata": {
    "tags": []
   },
   "outputs": [],
   "source": [
    "x, y = G.nodes['TIGR03997']['pos']\n",
    "x1 = x - 200\n",
    "x2 = x + 200\n",
    "y1 = y - 200\n",
    "y2 = y + 200"
   ]
  },
  {
   "cell_type": "markdown",
   "id": "e94a33db-2889-40ca-b5ee-1762ecace13a",
   "metadata": {},
   "source": [
    "# Figure 5D"
   ]
  },
  {
   "cell_type": "code",
   "execution_count": null,
   "id": "c055310e-b3fd-49c3-b0f8-d00f73f39b48",
   "metadata": {
    "tags": []
   },
   "outputs": [],
   "source": [
    "traces = []"
   ]
  },
  {
   "cell_type": "code",
   "execution_count": null,
   "id": "7d626aec-9fa5-499b-9de1-2ea5db796bba",
   "metadata": {
    "tags": []
   },
   "outputs": [],
   "source": [
    "showlegend=False\n",
    "color=\"grey\"\n",
    "\n",
    "# drop all ARTS\n",
    "G_arts = G.copy()\n",
    "for n in df_arts.profile.unique():\n",
    "    try:\n",
    "        G_arts.remove_node(str(n))\n",
    "    except nx.NetworkXError as e:\n",
    "        print(e)\n",
    "    \n",
    "\n",
    "for num, query in enumerate(nx.connected_components(G_arts)):\n",
    "    if len(query) > 2:\n",
    "        points = []\n",
    "        for n in query:\n",
    "            q = G.nodes[n]['pos']\n",
    "            points.append(q)\n",
    "        traces.append(group_markers(points, str(num), color=\"#2a9d8f\", \n",
    "                                    width=1, showlegend=showlegend, fill='toself', \n",
    "                                    #offset=1.5, \n",
    "                                    opacity=0.8))"
   ]
  },
  {
   "cell_type": "code",
   "execution_count": null,
   "id": "7ef0f54b-a17e-44b3-8c3d-54584b6f4842",
   "metadata": {
    "tags": []
   },
   "outputs": [],
   "source": [
    "for e in ['bigscape_similarity', 'arts_hits', 'bigfam_hits', \"antismash_knownclusterblast\"]:\n",
    "    edge_trace = create_edge_trace(G, e, color=edge_annotation_map[e]['color'], showlegend=True)\n",
    "    traces.append(edge_trace)\n",
    "\n",
    "for trace in node_annotation_map.keys():\n",
    "    nodeopacity = 0.2\n",
    "    showtextlabel = False\n",
    "    linecolor = \"black\"\n",
    "    linewidth = 0.5\n",
    "    textposition=\"top left\"\n",
    "    node_size = 8\n",
    "    if trace.startswith(\"Ranthipeptide\"):\n",
    "        nodeopacity = 0.8\n",
    "        linewidth = 1\n",
    "    node_trace = create_node_trace(G, trace, node_annotation_map[trace]['color'], showtextlabel=showtextlabel, \n",
    "                                   nodesymbol=node_annotation_map[trace]['node_symbol'], nodeopacity=nodeopacity, \n",
    "                                   showlegend=True, linecolor=linecolor, linewidth=linewidth, nodesize=node_size,\n",
    "                                   textposition=textposition)\n",
    "    traces.append(node_trace)\n",
    "    "
   ]
  },
  {
   "cell_type": "code",
   "execution_count": null,
   "id": "2be00a83-a635-448d-84c9-556f25d858c2",
   "metadata": {
    "tags": []
   },
   "outputs": [],
   "source": [
    "fig5D = go.Figure(data=traces,\n",
    "                layout=go.Layout(\n",
    "                    paper_bgcolor='rgba(0,0,0,0)',\n",
    "                    plot_bgcolor='white',\n",
    "                    showlegend=False,\n",
    "                    hovermode='closest',\n",
    "                    margin=dict(b=20,l=5,r=5,t=40),\n",
    "                    xaxis=dict(showgrid=False, zeroline=False, showticklabels=False, linecolor='black', mirror=True, linewidth=1),\n",
    "                    yaxis=dict(showgrid=False, zeroline=False, showticklabels=False, linecolor='black', mirror=True, linewidth=1),\n",
    "                    width=600, height=600)\n",
    "                )\n",
    "\n",
    "outfile = Path(f\"assets/figures/{FIGURE}/{FIGURE}D_{cutoff}.html\")\n",
    "outfile.parent.mkdir(exist_ok=True, parents=True)\n",
    "fig5d_html = fig5D.update_layout(width=600, height=600)\n",
    "fig5d_html.write_html(outfile)"
   ]
  },
  {
   "cell_type": "code",
   "execution_count": null,
   "id": "6cd80643-fd6d-42af-8325-2daba0bd0e2f",
   "metadata": {
    "tags": []
   },
   "outputs": [],
   "source": [
    "square = [x1, y1, x2, y2]\n",
    "fig5D.add_shape(type=\"rect\",\n",
    "               x0=square[0], y0=square[1], x1=square[2], y1=square[3],\n",
    "               line=dict(color=\"Red\", width=2),\n",
    ")\n",
    "\n",
    "fig5D.update_layout(width=600, height=600,\n",
    "    font=dict(\n",
    "        #family=\"Courier New, monospace\",\n",
    "        size=8,  # Set the font size here\n",
    "        #color=\"RebeccaPurple\"\n",
    "    )\n",
    ")"
   ]
  },
  {
   "cell_type": "code",
   "execution_count": null,
   "id": "40b30854-8c37-4541-b890-e8b3646b644f",
   "metadata": {},
   "outputs": [],
   "source": [
    "outfile = Path(f\"assets/figures/{FIGURE}/{FIGURE}D_{cutoff}.svg\")\n",
    "outfile.parent.mkdir(exist_ok=True, parents=True)\n",
    "fig5D.write_image(outfile)"
   ]
  },
  {
   "cell_type": "markdown",
   "id": "d68a2d44-f0ff-4727-8da9-76a94894f976",
   "metadata": {},
   "source": [
    "# Figure 5B"
   ]
  },
  {
   "cell_type": "code",
   "execution_count": null,
   "id": "c63f19ce-4024-4408-b589-064e0cf0d3fb",
   "metadata": {
    "tags": []
   },
   "outputs": [],
   "source": [
    "nodemap_bigscape_cluster = df_bigscape_cluster.set_index(\"bgc_id\").loc[:, 'fam_known_compounds_0.30'].to_dict()"
   ]
  },
  {
   "cell_type": "code",
   "execution_count": null,
   "id": "05b60586-20f8-4913-9178-cee8adfddee3",
   "metadata": {
    "tags": []
   },
   "outputs": [],
   "source": [
    "## Correct labels\n",
    "keyword = 'Ranthipeptide'\n",
    "container = []\n",
    "for n in G.nodes:\n",
    "    if keyword in G.nodes[n]['node_trace']:\n",
    "        text = nodemap_bigscape_cluster[n]\n",
    "        if text in container:\n",
    "            G.nodes[n]['text'] = \"\"\n",
    "        else:\n",
    "            G.nodes[n]['text'] = text\n",
    "            container.append(text)\n",
    "    elif G.nodes[n]['node_trace'] in ['MIBIG (BiG-SCAPE)', 'BiG-FAM model', 'ARTS model', ]:\n",
    "        G.nodes[n]['text'] = n   \n",
    "    else:\n",
    "        G.nodes[n]['text'] = \"\""
   ]
  },
  {
   "cell_type": "code",
   "execution_count": null,
   "id": "0f059635-39de-4969-9e14-073a57d7740b",
   "metadata": {
    "tags": []
   },
   "outputs": [],
   "source": [
    "traces = []"
   ]
  },
  {
   "cell_type": "code",
   "execution_count": null,
   "id": "42865fba-b724-4428-918f-8d94f72440ea",
   "metadata": {
    "tags": []
   },
   "outputs": [],
   "source": [
    "for e in ['bigscape_similarity', 'arts_hits', 'bigfam_hits', \"antismash_knownclusterblast\"]:\n",
    "    edge_trace = create_edge_trace(G, e, color=edge_annotation_map[e]['color'], showlegend=True, width=3)\n",
    "    traces.append(edge_trace)\n",
    "\n",
    "for trace in node_annotation_map.keys():\n",
    "    nodeopacity = 0.5\n",
    "    showtextlabel = True\n",
    "    linecolor = \"black\"\n",
    "    linewidth = 0.5\n",
    "    textposition=\"middle right\"\n",
    "    node_size = 25\n",
    "    if trace.startswith(keyword) or trace.startswith(\"ARTS\"):\n",
    "        nodeopacity = 0.8\n",
    "        linewidth = 2\n",
    "    node_trace = create_node_trace(G, trace, node_annotation_map[trace]['color'], showtextlabel=showtextlabel, \n",
    "                                   nodesymbol=node_annotation_map[trace]['node_symbol'], nodeopacity=nodeopacity, \n",
    "                                   showlegend=True, linecolor=linecolor, linewidth=linewidth, nodesize=node_size,\n",
    "                                   textposition=textposition)\n",
    "    traces.append(node_trace)\n",
    "    "
   ]
  },
  {
   "cell_type": "code",
   "execution_count": null,
   "id": "cb60db0d-37ef-4b69-af49-46eaa904fa00",
   "metadata": {},
   "outputs": [],
   "source": [
    "showlegend=False\n",
    "color=\"grey\"\n",
    "\n",
    "# drop all ARTS\n",
    "G_arts = G.copy()\n",
    "for n in df_arts.profile.unique():\n",
    "    try:\n",
    "        G_arts.remove_node(str(n))\n",
    "    except nx.NetworkXError as e:\n",
    "        print(e)\n",
    "    \n",
    "\n",
    "for num, query in enumerate(nx.connected_components(G_arts)):\n",
    "    if len(query) > 2:\n",
    "        points = []\n",
    "        for n in query:\n",
    "            q = G.nodes[n]['pos']\n",
    "            points.append(q)\n",
    "        traces.append(group_markers(points, str(num), color=\"blue\", width=1, showlegend=showlegend, fill=None, opacity=0.8))"
   ]
  },
  {
   "cell_type": "code",
   "execution_count": null,
   "id": "36d0cc5c-5624-49df-acb8-687dd374c81c",
   "metadata": {
    "tags": []
   },
   "outputs": [],
   "source": [
    "fig5B = go.Figure(data=traces,\n",
    "                layout=go.Layout(\n",
    "                    paper_bgcolor='rgba(0,0,0,0)',\n",
    "                    plot_bgcolor='white',\n",
    "                    showlegend=False,\n",
    "                    hovermode='closest',\n",
    "                    margin=dict(b=20,l=5,r=5,t=40),\n",
    "                    xaxis=dict(showgrid=False, zeroline=False, showticklabels=False, linecolor='black', mirror=True, linewidth=1),\n",
    "                    yaxis=dict(showgrid=False, zeroline=False, showticklabels=False, linecolor='black', mirror=True, linewidth=1),\n",
    "                    width=600, height=600)\n",
    "                )"
   ]
  },
  {
   "cell_type": "code",
   "execution_count": null,
   "id": "86520253-624f-46ec-8f38-d40db075ae71",
   "metadata": {
    "tags": []
   },
   "outputs": [],
   "source": [
    "square = [x1, y1, x2, y2]\n",
    "\n",
    "fig5B.update_layout(xaxis=dict(showgrid=False, zeroline=False, showticklabels=False, linecolor='black', mirror=True, linewidth=1, range=[square[0], square[2]]),\n",
    "                    yaxis=dict(showgrid=False, zeroline=False, showticklabels=False, linecolor='black', mirror=True, linewidth=1, range=[square[1], square[3]]))"
   ]
  },
  {
   "cell_type": "code",
   "execution_count": null,
   "id": "6a47202e-04ed-4e8f-a233-9b687a695e03",
   "metadata": {
    "tags": []
   },
   "outputs": [],
   "source": [
    "outfile = Path(f\"assets/figures/{FIGURE}/{FIGURE}B_{cutoff}.svg\")\n",
    "outfile.parent.mkdir(exist_ok=True, parents=True)\n",
    "fig5B.write_image(outfile)"
   ]
  },
  {
   "cell_type": "code",
   "execution_count": null,
   "id": "06802556-0d6e-484b-b0f0-24a442aa63f7",
   "metadata": {
    "tags": []
   },
   "outputs": [],
   "source": [
    "fig5B.update_layout(showlegend=True)\n",
    "outfile = Path(f\"assets/figures/{FIGURE}/{FIGURE}B_{cutoff}_legend.svg\")\n",
    "outfile.parent.mkdir(exist_ok=True, parents=True)\n",
    "fig5B.write_image(outfile)"
   ]
  },
  {
   "cell_type": "markdown",
   "id": "aaf99feb-fad0-497d-b557-c2b259808695",
   "metadata": {},
   "source": [
    "# Figure 5 Final"
   ]
  },
  {
   "cell_type": "code",
   "execution_count": null,
   "id": "a064f91a-5db4-454b-9600-bdba6fbfbded",
   "metadata": {
    "tags": []
   },
   "outputs": [],
   "source": [
    "from svgutils.compose import *\n",
    "from svgutils.compose import Figure"
   ]
  },
  {
   "cell_type": "code",
   "execution_count": null,
   "id": "d97938c3-2359-40ac-b937-3276d433e547",
   "metadata": {
    "tags": []
   },
   "outputs": [],
   "source": [
    "final_figure = Figure(\"650\", \"650\",\n",
    "                      Panel(\n",
    "                          SVG(f\"assets/figures/{FIGURE}/{FIGURE}B_{cutoff}.svg\").scale(1).move(20, 0),\n",
    "                          #Text(\"B\", 620, 80, size=24, weight='bold'),\n",
    "                      ),\n",
    "                      Panel(\n",
    "                          SVG(f\"assets/figures/{FIGURE}/{FIGURE}D_{cutoff}.svg\").scale(0.3).move(0, 0),\n",
    "                          #Text(\"D\", 620, 630, size=24, weight='bold'),\n",
    "                      )\n",
    "                     )\n",
    "outfile = Path(f\"assets/figures/{FIGURE}/{FIGURE}_{cutoff}.svg\")\n",
    "outfile.parent.mkdir(parents=True, exist_ok=True)\n",
    "final_figure.save(outfile)\n",
    "final_figure"
   ]
  },
  {
   "cell_type": "code",
   "execution_count": null,
   "id": "b861c2fe-dfa2-4c84-9a59-7be951e17e6c",
   "metadata": {
    "tags": []
   },
   "outputs": [],
   "source": [
    "print(f\"Enrichment of BiG-SCAPE similarity network (cutoff {cutoff}) with KnownClusterBLAST, BiG-FAM, and ARTS models. (C) Blue polygons depicts GCF assigned through BiG-SCAPE similarity network. (D) Blue polygons depicts connected components except through ARTS model. BiG-FAM models {deleted_bigfam} were removed because of assigned top genus in the model are below {bigfam_taxa_cutoff:.0%}\")"
   ]
  },
  {
   "cell_type": "code",
   "execution_count": null,
   "id": "f733fc73-0d84-497b-81d4-e13c58196c50",
   "metadata": {
    "tags": []
   },
   "outputs": [],
   "source": [
    "## Add mycobacterium tuberculosis genome\n",
    "df_mycobacterium = {0:{'genome_id' : \"GCF_000195955.2\", \"source\" : \"ncbi\"}}\n",
    "df_mycofactocin = pd.DataFrame.from_dict(df_mycobacterium)\n",
    "\n",
    "outfile = bgcflow_dir / \"config/Mycobacterium/samples.csv\"\n",
    "outfile.parent.mkdir(parents=True, exist_ok=True)\n",
    "df_mycofactocin.T.to_csv(outfile, index=False)\n",
    "\n",
    "## Generate config file\n",
    "project_config = {}"
   ]
  },
  {
   "cell_type": "code",
   "execution_count": null,
   "id": "e9e4c75a-2d60-48e9-b05d-a0ab01bf2e80",
   "metadata": {
    "tags": []
   },
   "outputs": [],
   "source": [
    "outfile_dir = bgcflow_dir / f\"config/Mycobacterium\"\n",
    "\n",
    "project_config = {'name': 'Mycobacterium',\n",
    "                  'pep_version': '2.1.0',\n",
    "                  'description': \"A Mycobacterium genome for reference of Mycofactocin\",\n",
    "                  'sample_table': 'samples.csv',\n",
    "                  'rules' : {'antismash' : True}\n",
    "                 }\n",
    "\n",
    "source = bgcflow_dir / \"config/mq_saccharopolyspora/gtdbtk.bac120.summary.tsv\"\n",
    "destination = outfile_dir / source.name\n",
    "shutil.copy(source, destination)\n",
    "\n",
    "source = bgcflow_dir / \"config/mq_saccharopolyspora/prokka-db.csv\"\n",
    "destination = outfile_dir / source.name\n",
    "shutil.copy(source, destination)\n",
    "\n",
    "with open(outfile_dir / \"project_config.yaml\", \"w\") as f:\n",
    "    json.dump(project_config, f, indent=2)"
   ]
  },
  {
   "cell_type": "raw",
   "id": "580a2ad0-6941-4cc9-9324-246592685494",
   "metadata": {
    "tags": []
   },
   "source": [
    "! cd {bgcflow_dir} && conda run -n bgcflow bgcflow run -n "
   ]
  },
  {
   "cell_type": "code",
   "execution_count": null,
   "id": "9f59aa6f-b5d4-4c84-ba12-3fcab064c2df",
   "metadata": {
    "tags": []
   },
   "outputs": [],
   "source": [
    "targets = []\n",
    "query_node = \"TIGR03997\"\n",
    "for e in G.edges(query_node):\n",
    "    for n in e:\n",
    "        if n != query_node:\n",
    "            targets.append(n)\n",
    "df_TIGR03997 = df_antismash.set_index(\"bgc_id\").loc[targets]\n",
    "df_TIGR03997"
   ]
  },
  {
   "cell_type": "code",
   "execution_count": null,
   "id": "a2409f1d-327f-42c3-9812-415903332241",
   "metadata": {
    "tags": []
   },
   "outputs": [],
   "source": [
    "df_mycobacterium_region = pd.read_csv(bgcflow_dir / \"data/processed/Mycobacterium/tables/df_regions_antismash_6.1.1.csv\")\n",
    "mycofactocin = df_mycobacterium_region[df_mycobacterium_region['product'] == \"['redox-cofactor']\"]\n",
    "df_TIGR03997_with_reference = pd.concat([df_TIGR03997, mycofactocin.set_index(\"bgc_id\")])\n",
    "df_TIGR03997_with_reference['source'] = \"bgcflow\"\n",
    "df_TIGR03997_with_reference.shape"
   ]
  },
  {
   "cell_type": "code",
   "execution_count": null,
   "id": "37232d2b-eb3d-4da3-84f4-ff464a11330d",
   "metadata": {
    "tags": []
   },
   "outputs": [],
   "source": [
    "outfile = bgcflow_dir / \"config/TIGR03997_with_reference/samples.csv\"\n",
    "outfile.parent.mkdir(parents=True, exist_ok=True)\n",
    "df_TIGR03997_with_reference.to_csv(outfile)"
   ]
  },
  {
   "cell_type": "code",
   "execution_count": null,
   "id": "9dc0713a-0f7b-4022-8715-af6c0622864e",
   "metadata": {
    "tags": []
   },
   "outputs": [],
   "source": [
    "outfile_dir = bgcflow_dir / f\"config/TIGR03997_with_reference\"\n",
    "outfile_dir.mkdir(parents=True, exist_ok=True)\n",
    "\n",
    "project_config = {'name': 'TIGR03997_with_reference',\n",
    "                  'schema' : 'BGC',\n",
    "                  'pep_version': '2.1.0',\n",
    "                  'description': \"A selection of putative BGCs with Mycofactocin signature and references\",\n",
    "                  'sample_table': 'samples.csv',\n",
    "                  'rules' : {\"bigslice\": False,\n",
    "                             \"bigscape\": False,\n",
    "                             \"query-bigslice\": False,\n",
    "                             \"clinker\": True,\n",
    "                             \"interproscan\": False,\n",
    "                             \"mmseqs2\": True}\n",
    "                 }\n",
    "\n",
    "source = bgcflow_dir / \"config/mq_saccharopolyspora/gtdbtk.bac120.summary.tsv\"\n",
    "destination = outfile_dir / source.name\n",
    "shutil.copy(source, destination)\n",
    "\n",
    "\n",
    "with open(outfile_dir / \"project_config.yaml\", \"w\") as f:\n",
    "    json.dump(project_config, f, indent=2)"
   ]
  },
  {
   "cell_type": "raw",
   "id": "1d676150-e280-4132-a158-129f65cd314d",
   "metadata": {
    "tags": []
   },
   "source": [
    "df_cds = pd.read_parquet(\"../data_warehouse/6.1.1/cdss.parquet\")"
   ]
  },
  {
   "cell_type": "raw",
   "id": "69413948-83c6-43b1-8343-f6c2d51f6fea",
   "metadata": {},
   "source": [
    "df_cds_TIGR03997 = df_cds[df_cds.region_id.isin(df_TIGR03997.index)]"
   ]
  },
  {
   "cell_type": "raw",
   "id": "ee9ad9c0-4213-40c2-a884-72c66eeb7095",
   "metadata": {
    "tags": []
   },
   "source": [
    "peptide = []\n",
    "for i in df_cds_TIGR03997.index:\n",
    "    if df_cds_TIGR03997.loc[i, 'translation'].endswith(\"IDGMCGVY\"):\n",
    "        peptide.append(i)"
   ]
  },
  {
   "cell_type": "raw",
   "id": "65cf9a43-a37a-4349-9bac-667aa5702f9d",
   "metadata": {
    "tags": []
   },
   "source": [
    "df_cds_TIGR03997"
   ]
  },
  {
   "cell_type": "raw",
   "id": "b2ef1c70-57b3-45ee-bf2d-08957740bdab",
   "metadata": {},
   "source": [
    "cds_mapping = df_cds.set_index(\"locus_tag\").T.to_dict()"
   ]
  },
  {
   "cell_type": "raw",
   "id": "dba5b2e5-d4fa-4e10-91a3-8f0f3e3e1e0d",
   "metadata": {
    "tags": []
   },
   "source": [
    "G = nx.read_edgelist(\"../../Mycofactocin_selected/mmseqs2/edge_6.1.1.tsv\")\n",
    "# position nodes\n",
    "pos = nx.nx_agraph.graphviz_layout(G)\n",
    "for n, p in pos.items():\n",
    "    G.nodes[n]['pos'] = p\n",
    "    G.nodes[n]['text'] = n\n",
    "    G.nodes[n]['node_trace'] = 'CDS'\n",
    "    if n in cds_mapping.keys():\n",
    "        for k in cds_mapping[n].keys():\n",
    "            value = str(cds_mapping[n][k])\n",
    "            if k == \"translation\" and value.endswith(\"IDGMCGVY\"):\n",
    "                G.nodes[n]['node_trace'] = 'CDS_precursor_peptide'\n",
    "            if k == \"name\" and \"mft\" in value:\n",
    "                G.nodes[n]['node_trace'] = 'CDS_Mft'\n",
    "            if len(value) > 20:\n",
    "                value = value[:20]\n",
    "            G.nodes[n]['text'] = G.nodes[n]['text'] + \"<br>\" + value\n",
    "    else:\n",
    "        pass\n",
    "for e in G.edges:\n",
    "    G.edges[e]['relation_type'] = \"MMSEQS2\""
   ]
  },
  {
   "cell_type": "code",
   "execution_count": null,
   "id": "35f4c308-3c85-497f-a882-ff3cd330365b",
   "metadata": {
    "tags": []
   },
   "outputs": [],
   "source": [
    "edge_annotation_map = {'MMSEQS2' : {'color':'blue',\n",
    "                                     'width':1}\n",
    "                      }\n",
    "\n",
    "node_annotation_map = {'CDS' : {'color':'blue',\n",
    "                                'node_symbol' : 'circle'},\n",
    "                       'CDS_precursor_peptide': {'color':'red',\n",
    "                                                 'node_symbol' : 'circle'},\n",
    "                       'CDS_Mft': {'color':'green',\n",
    "                                    'node_symbol' : 'circle'},\n",
    "                      }"
   ]
  },
  {
   "cell_type": "code",
   "execution_count": null,
   "id": "71973396-e904-4cb8-8a74-84da75601da9",
   "metadata": {
    "tags": []
   },
   "outputs": [],
   "source": [
    "traces = []"
   ]
  },
  {
   "cell_type": "code",
   "execution_count": null,
   "id": "563e6f67-1b04-407a-bdca-bd743714dd00",
   "metadata": {
    "tags": []
   },
   "outputs": [],
   "source": [
    "for e in edge_annotation_map.keys():\n",
    "    edge_trace = create_edge_trace(G, e, color=edge_annotation_map[e]['color'], showlegend=True)\n",
    "    traces.append(edge_trace)\n",
    "\n",
    "for trace in node_annotation_map.keys():\n",
    "    nodeopacity = 0.8\n",
    "    showtextlabel = False\n",
    "    linecolor = \"black\"\n",
    "    linewidth = 0.5\n",
    "    textposition=\"top left\"\n",
    "    node_size = 8\n",
    "    node_trace = create_node_trace(G, trace, node_annotation_map[trace]['color'], showtextlabel=showtextlabel, \n",
    "                                   nodesymbol=node_annotation_map[trace]['node_symbol'], nodeopacity=nodeopacity, \n",
    "                                   showlegend=True, linecolor=linecolor, linewidth=linewidth, nodesize=node_size,\n",
    "                                   textposition=textposition)\n",
    "    traces.append(node_trace)\n",
    "    "
   ]
  },
  {
   "cell_type": "code",
   "execution_count": null,
   "id": "627ed298-d6f9-47a3-afbb-e82abfa60164",
   "metadata": {
    "tags": []
   },
   "outputs": [],
   "source": [
    "fig = go.Figure(data=traces,\n",
    "                layout=go.Layout(\n",
    "                    paper_bgcolor='rgba(0,0,0,0)',\n",
    "                    plot_bgcolor='white',\n",
    "                    showlegend=True,\n",
    "                    hovermode='closest',\n",
    "                    margin=dict(b=20,l=5,r=5,t=40),\n",
    "                    xaxis=dict(showgrid=False, zeroline=False, showticklabels=False, linecolor='black', mirror=True, linewidth=1),\n",
    "                    yaxis=dict(showgrid=False, zeroline=False, showticklabels=False, linecolor='black', mirror=True, linewidth=1),\n",
    "                    width=800, height=600)\n",
    "                )\n",
    "fig"
   ]
  },
  {
   "cell_type": "code",
   "execution_count": null,
   "id": "6a7b79dd-42c1-4b5b-9bb0-f4649e244219",
   "metadata": {},
   "outputs": [],
   "source": [
    "G = nx.read_edgelist(bgcflow_dir / \"data/interim/mmseqs2/TIGR03997_with_reference/TIGR03997_with_reference_6.1.1_cluster.tsv\")\n",
    "# get the connected components of G\n",
    "components = nx.connected_components(G)\n",
    "\n",
    "# sort the components based on their size\n",
    "sorted_components = sorted(components, key=lambda x: len(x), reverse=True)"
   ]
  },
  {
   "cell_type": "code",
   "execution_count": null,
   "id": "dec57729-e212-4a05-8c8c-8d0dff273e8e",
   "metadata": {
    "tags": []
   },
   "outputs": [],
   "source": [
    "result = {\"feature_id\": [], \"cluster_id\" : [], \"cluster_n\" : [], \"locus_tag\" : []}\n",
    "for num, g in enumerate(sorted_components):\n",
    "    size = len(g)\n",
    "    for item in g:\n",
    "        result['feature_id'].append(f\"cds-{item}\")\n",
    "        result['cluster_id'].append(f\"cog_{num+1:02d}\")\n",
    "        result['cluster_n'].append(size)\n",
    "        result['locus_tag'].append(item)\n",
    "df_TIGR03997_mmseqs2 = pd.DataFrame.from_dict(result)\n",
    "df_TIGR03997_mmseqs2.to_csv(\"assets/tables/mmseqs_cog.csv\", index=False)\n",
    "df_TIGR03997_mmseqs2.cluster_id == \"cog_01\""
   ]
  },
  {
   "cell_type": "code",
   "execution_count": null,
   "id": "52ea32dc-5ecb-4b21-ab47-12d054874406",
   "metadata": {
    "tags": []
   },
   "outputs": [],
   "source": [
    "df_cds = pd.read_parquet(report_dir / \"data_warehouse/6.1.1/cdss.parquet\")\n",
    "cog = df_cds.set_index(\"locus_tag\").loc[df_TIGR03997_mmseqs2[df_TIGR03997_mmseqs2.cluster_id == \"cog_12\"].locus_tag]\n",
    "cog.gene_function.astype(str).unique()\n",
    "cog['product'].astype(str).unique()"
   ]
  },
  {
   "cell_type": "code",
   "execution_count": null,
   "id": "90793b07-e1ff-4882-a69d-14322a0c35de",
   "metadata": {
    "tags": []
   },
   "outputs": [],
   "source": [
    "{'cog_01' :'SMCOG1217_NADH:flavin oxidoreductase/NADH oxidase',\n",
    " 'cog_02' : 'SMCOG1001:short-chain dehydrogenase/reductase SDR',\n",
    " 'cog_03' : 'Mycofactocin precursor',\n",
    " 'cog_04' : 'Ferredoxin-like protein FixX / NapF',\n",
    " 'cog_05' : 'Thiamine thiazole synthase / Electron transfer flavoprotein-ubiquinone oxidoreductase / SMCOG1119:halogenase',\n",
    " 'cog_06' : 'Electron transfer flavoprotein subunit alpha, Caffeyl-CoA reductase-Etf complex subunit CarE, Protein FixB',\n",
    " 'cog_07' : 'Mycofactocin_RRE',\n",
    " 'cog_08' : 'Putative mycofactocin biosynthesis glycosyltransferase MftF',\n",
    " 'cog_09' : 'FixA',\n",
    " 'cog_10' : 'TIGR04085 / Fer4_12 / SPASM / Putative mycofactocin radical SAM maturase MftC',\n",
    " 'cog_11' : 'Universal stress protein',\n",
    " 'cog_12' : 'DNA polymerase IV 1'\n",
    "}"
   ]
  },
  {
   "cell_type": "code",
   "execution_count": null,
   "id": "5f6cfb2c-8b03-47a1-a6a4-aad07470f2f4",
   "metadata": {
    "tags": []
   },
   "outputs": [],
   "source": [
    "df_cds = pd.read_parquet(\"../../Mycofactocin_genomes/data_warehouse/6.1.1/cdss.parquet\")"
   ]
  },
  {
   "cell_type": "code",
   "execution_count": null,
   "id": "320741bb-410d-432a-8663-bfe698e31738",
   "metadata": {
    "tags": []
   },
   "outputs": [],
   "source": [
    "df_cds[df_cds.region_id == 'NC_000962.3.region003'].loc[:, [\"locus_tag\",\"name\",\"product\"]]"
   ]
  },
  {
   "cell_type": "raw",
   "id": "0155c4b8-493b-49cb-8568-83f737366d89",
   "metadata": {
    "tags": []
   },
   "source": [
    "final_figure = Figure(\"1200\", \"1200\",\n",
    "                      Panel(\n",
    "                          SVG(f\"assets/figures/Figure_7/Fig7B_{cutoff}.svg\").scale(0.5).move(30, 30),\n",
    "                          #Text(\"B\", 620, 80, size=24, weight='bold'),\n",
    "                      ),\n",
    "                      Panel(\n",
    "                          SVG(f\"assets/figures/Figure_7/Fig7D_{cutoff}.svg\").scale(0.2).move(0, 0),\n",
    "                          #Text(\"D\", 620, 630, size=24, weight='bold'),\n",
    "                      ),\n",
    "                      Panel(\n",
    "                          SVG(f\"assets/figures/Figure_7/b.svg\").scale(0.7).move(350, 30),\n",
    "                          #Text(\"D\", 620, 630, size=24, weight='bold'),\n",
    "                      ),                      \n",
    "                      Panel(\n",
    "                          SVG(f\"../manuscript_figures/assets/figures/mycofactocin_aln.svg\").scale(0.8).move(50, 350),\n",
    "                          #Text(\"D\", 620, 630, size=24, weight='bold'),\n",
    "                      ),\n",
    "                     )\n",
    "final_figure"
   ]
  },
  {
   "cell_type": "code",
   "execution_count": null,
   "id": "98256d9c-ddee-4f53-a46f-22df0990818a",
   "metadata": {},
   "outputs": [],
   "source": []
  }
 ],
 "metadata": {
  "kernelspec": {
   "display_name": "Python 3 (ipykernel)",
   "language": "python",
   "name": "python3"
  },
  "language_info": {
   "codemirror_mode": {
    "name": "ipython",
    "version": 3
   },
   "file_extension": ".py",
   "mimetype": "text/x-python",
   "name": "python",
   "nbconvert_exporter": "python",
   "pygments_lexer": "ipython3",
   "version": "3.11.0"
  }
 },
 "nbformat": 4,
 "nbformat_minor": 5
}
