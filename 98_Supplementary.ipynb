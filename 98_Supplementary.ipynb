{
 "cells": [
  {
   "cell_type": "code",
   "execution_count": null,
   "id": "31939d41-4839-447e-b1df-e5e0dff769f4",
   "metadata": {},
   "outputs": [],
   "source": [
    "%%bash\n",
    "pip install xlsxwriter"
   ]
  },
  {
   "cell_type": "code",
   "execution_count": null,
   "id": "8d9d2826-fa2f-4880-9543-8a6fc641d9a5",
   "metadata": {},
   "outputs": [],
   "source": [
    "from pathlib import Path\n",
    "import yaml\n",
    "import pandas as pd\n",
    "import networkx as nx"
   ]
  },
  {
   "cell_type": "code",
   "execution_count": null,
   "id": "32a7dd5d-0e86-487a-8228-66dd43cf17f5",
   "metadata": {},
   "outputs": [],
   "source": [
    "with open(\"config.yaml\", \"r\") as f:\n",
    "    notebook_configuration = yaml.safe_load(f)\n",
    "notebook_configuration"
   ]
  },
  {
   "cell_type": "code",
   "execution_count": null,
   "id": "839647b9-85f4-4f76-a330-f439c6bce813",
   "metadata": {},
   "outputs": [],
   "source": [
    "bgcflow_dir = Path(notebook_configuration[\"bgcflow_dir\"])\n",
    "PROJECT_NAME = \"TIGR03997_with_reference\"\n",
    "PROJECT_NAME2 = \"mq_saccharopolyspora\"\n",
    "output_dir = Path(\"assets/supplementary_materials\")\n",
    "output_dir.mkdir(parents=True, exist_ok=True)\n",
    "\n",
    "FIGURE_MASH = \"Figure_3\""
   ]
  },
  {
   "cell_type": "markdown",
   "id": "a7e28ea7-c2ae-4c29-a717-3238fd6f1550",
   "metadata": {},
   "source": [
    "## Data S1\n",
    "Data S1. Input and result tables related to the PEP on qc_saccharaopolyspora \n",
    "- Tab 1: sample.csv listing 42 genomes as input for config file\n",
    "- Tab 2: NCBI metadata  \n",
    "- Tab 3: CheckM results on quality assessment \n",
    "- Tab 4: SeqFu results on quality assessment \n",
    "- Tab 5: GTDB-tk and GTDB results on taxonomic definition"
   ]
  },
  {
   "cell_type": "code",
   "execution_count": null,
   "id": "c91f7c8e-04d6-4a27-b18c-d872522caf03",
   "metadata": {},
   "outputs": [],
   "source": [
    "outfile = output_dir / \"DATA_S1.xlsx\""
   ]
  },
  {
   "cell_type": "code",
   "execution_count": null,
   "id": "afa94d28-6b64-430d-9825-03f3e9f5c9f6",
   "metadata": {},
   "outputs": [],
   "source": [
    "PROJECT_NAME = \"qc_saccharopolyspora\"\n",
    "PROJECT_CONFIG_DIR = bgcflow_dir / f\"config/{PROJECT_NAME}\"\n",
    "REPORT_DIR = bgcflow_dir / f\"data/processed/{PROJECT_NAME}\"\n",
    "df_tab1 = pd.read_csv(PROJECT_CONFIG_DIR / \"samples.csv\")\n",
    "df_tab2 = pd.read_csv(REPORT_DIR / \"tables/df_ncbi_meta.csv\")\n",
    "df_tab3 = pd.read_csv(REPORT_DIR / \"tables/df_checkm_stats.csv\")\n",
    "df_tab4 = pd.read_csv(REPORT_DIR / \"tables/df_seqfu_stats.csv\")\n",
    "df_tab5 = pd.read_csv(REPORT_DIR / \"tables/df_gtdb_meta.csv\").set_index(\"genome_id\", drop=False)\n",
    "df_tab5_gtdbtk = pd.read_csv(REPORT_DIR / \"tables/gtdbtk.bac120.summary.tsv\", sep=\"\\t\").set_index(\"user_genome\", drop=False)\n",
    "\n",
    "for i in df_tab5.index:\n",
    "    if df_tab5.loc[i, 'Domain'] == \"d__\":\n",
    "        for num, c in enumerate(['Domain','Phylum','Class','Order','Family','Genus', 'Organism']):\n",
    "            values = df_tab5_gtdbtk.loc[i, \"classification\"].split(\";\")\n",
    "            df_tab5.loc[i, c] = values[num]\n",
    "    \n",
    "    if df_tab5.loc[i, 'Organism'] == \"s__\":\n",
    "        df_tab5.loc[i, \"Organism\"] = f\"{df_tab5.loc[i, 'Genus'].strip('g__')} sp.\"\n",
    "\n",
    "    if df_tab5.loc[i, 'Species'] == \"s__\":\n",
    "        df_tab5.loc[i, \"Species\"] = f\"{df_tab5.loc[i, 'Organism'].split()[-1]}\""
   ]
  },
  {
   "cell_type": "code",
   "execution_count": null,
   "id": "8d8bf167-3488-4805-8ce5-26e15588bc69",
   "metadata": {},
   "outputs": [],
   "source": [
    "writer = pd.ExcelWriter(outfile, engine='xlsxwriter')\n",
    "df_tab1.to_excel(writer, index=None, sheet_name='Sheet1')\n",
    "df_tab2.to_excel(writer, index=None, sheet_name='Sheet2')\n",
    "df_tab3.to_excel(writer, index=None, sheet_name='Sheet3')\n",
    "df_tab4.to_excel(writer, index=None, sheet_name='Sheet4')\n",
    "df_tab5.to_excel(writer, index=None, sheet_name='Sheet5')\n",
    "writer.close()"
   ]
  },
  {
   "cell_type": "markdown",
   "id": "b3543012-fdab-40e5-95a0-da8529b52daf",
   "metadata": {},
   "source": [
    "## Data S2\n",
    "Data S2. Input and result tables related to the PEP on mq_saccharaopolyspora\r\n",
    "- Tab 1: sample.csv listing 26 genomes as input for config file\r\n",
    "- Tab 2: MASH distan\n",
    "- Tab 3: MASH Phylogroupsce\r\n",
    "- T4b 3: Prokka result\r\n",
    "- 5ab 4: Results of BGCs from antiSMASH\r\n",
    "-6Tab 5: Results of GCFs based on BiG-SCAPE using different cutoffs \r\n",
    "ffs \r\n"
   ]
  },
  {
   "cell_type": "code",
   "execution_count": null,
   "id": "939bead6-6e28-4a75-a3b2-23e11aa554f8",
   "metadata": {},
   "outputs": [],
   "source": [
    "outfile = output_dir / \"DATA_S2.xlsx\"\n",
    "\n",
    "PROJECT_NAME = \"mq_saccharopolyspora\"\n",
    "PROJECT_CONFIG_DIR = bgcflow_dir / f\"config/{PROJECT_NAME}\"\n",
    "REPORT_DIR = bgcflow_dir / f\"data/processed/{PROJECT_NAME}\"\n",
    "bigscape_dir = REPORT_DIR / \"bigscape/for_cytoscape_antismash_6.1.1\""
   ]
  },
  {
   "cell_type": "code",
   "execution_count": null,
   "id": "98b999ca-0943-45d3-bc5f-2e6ef8a817ba",
   "metadata": {},
   "outputs": [],
   "source": [
    "df_tab1 = pd.read_csv(PROJECT_CONFIG_DIR / \"samples.csv\")\n",
    "df_tab2 = pd.read_csv(REPORT_DIR / \"mash/df_mash.csv\")\n",
    "df_tab3 = pd.read_csv(f\"assets/tables/{FIGURE_MASH}b_mash_hcluster.csv\", index_col=0)\n",
    "df_tab4 = pd.read_csv(\"assets/tables/Figure_S8_prokka.csv\", index_col=0)\n",
    "df_tab4.index.name = \"genome_id\"\n",
    "df_tab5 = pd.read_csv(REPORT_DIR / \"tables/df_regions_antismash_6.1.1.csv\")\n",
    "df_tab6 = pd.read_csv([i for i in bigscape_dir.glob(\"*df_clusters_0.30*\")][0])\n",
    "df_tab7 = pd.read_csv([i for i in bigscape_dir.glob(\"*df_clusters_0.40*\")][0])\n",
    "df_tab8 = pd.read_csv([i for i in bigscape_dir.glob(\"*df_clusters_0.50*\")][0])\n",
    "df_tab9 = pd.read_csv([i for i in bigscape_dir.glob(\"*df_network_0.30*\")][0])\n",
    "df_tab10 = pd.read_csv([i for i in bigscape_dir.glob(\"*df_network_0.40*\")][0])\n",
    "df_tab11 = pd.read_csv([i for i in bigscape_dir.glob(\"*df_network_0.50*\")][0])"
   ]
  },
  {
   "cell_type": "code",
   "execution_count": null,
   "id": "932c96c3-3dd8-4516-94f9-3eae38497633",
   "metadata": {},
   "outputs": [],
   "source": [
    "writer = pd.ExcelWriter(outfile, engine='xlsxwriter')\n",
    "df_tab1.to_excel(writer, index=None, sheet_name='Sheet1')\n",
    "df_tab2.to_excel(writer, index=None, sheet_name='Sheet2')\n",
    "df_tab3.to_excel(writer, index=None, sheet_name='Sheet3')\n",
    "df_tab4.to_excel(writer, index=None, sheet_name='Sheet4')\n",
    "df_tab5.to_excel(writer, index=None, sheet_name='Sheet5')\n",
    "df_tab6.to_excel(writer, index=None, sheet_name='Sheet6')\n",
    "df_tab7.to_excel(writer, index=None, sheet_name='Sheet7')\n",
    "df_tab8.to_excel(writer, index=None, sheet_name='Sheet8')\n",
    "df_tab9.to_excel(writer, index=None, sheet_name='Sheet9')\n",
    "df_tab10.to_excel(writer, index=None, sheet_name='Sheet10')\n",
    "df_tab11.to_excel(writer, index=None, sheet_name='Sheet11')\n",
    "writer.close()"
   ]
  },
  {
   "cell_type": "markdown",
   "id": "e432ba67-84b2-48ad-ac9b-fadf17e8e7b9",
   "metadata": {},
   "source": [
    "## Data S3\r\n",
    "Data S3. Results of BiG-FAM and ARTS database related to the PEP on mq_saccharaopolyspora \r\n",
    "- Tab 1: Hits against the BiG-FAM GCFs calculated using query BiG-SLICE rule\r\n",
    "- Tab 2: List of BiG-FAM GCFs hits\r\n",
    "- Tab 3: Hits against ARTS profiles\r\n",
    "- Tab 4: Table with all edges represented in the enriched network (Figure 5) 5)\n"
   ]
  },
  {
   "cell_type": "code",
   "execution_count": null,
   "id": "c4446526-d73a-4dcd-a98e-fa69326b74ff",
   "metadata": {},
   "outputs": [],
   "source": [
    "outfile = output_dir / \"DATA_S3.xlsx\"\n",
    "\n",
    "PROJECT_NAME = \"mq_saccharopolyspora\"\n",
    "PROJECT_CONFIG_DIR = bgcflow_dir / f\"config/{PROJECT_NAME}\"\n",
    "REPORT_DIR = bgcflow_dir / f\"data/processed/{PROJECT_NAME}\"\n",
    "bigfam_dir = REPORT_DIR / \"bigslice/query_as_6.1.1\""
   ]
  },
  {
   "cell_type": "code",
   "execution_count": null,
   "id": "681924d8-19d6-4874-a40e-6705dd949db7",
   "metadata": {},
   "outputs": [],
   "source": [
    "df_tab1 = pd.read_csv(bigfam_dir / \"query_network.csv\")\n",
    "df_tab2 = pd.read_csv(\"assets/tables/Figure_4_bigfam_models.csv\", index_col=0)\n",
    "df_tab2.index.name = \"gcf_id\"\n",
    "df_tab3 = pd.read_csv(\"assets/tables/Figure_4_df_arts_hits.csv\", index_col=0)\n",
    "df_tab4 = pd.read_csv(\"assets/tables/Figure_5_raw_network.csv\", index_col=0)"
   ]
  },
  {
   "cell_type": "code",
   "execution_count": null,
   "id": "38618468-e0c0-4564-bd6a-f1f83e724741",
   "metadata": {},
   "outputs": [],
   "source": [
    "writer = pd.ExcelWriter(outfile, engine='xlsxwriter')\n",
    "df_tab1.to_excel(writer, index=None, sheet_name='Sheet1')\n",
    "df_tab2.to_excel(writer, sheet_name='Sheet2')\n",
    "df_tab3.to_excel(writer, index=None, sheet_name='Sheet3')\n",
    "df_tab4.to_excel(writer, index=None, sheet_name='Sheet4')\n",
    "writer.close()"
   ]
  },
  {
   "cell_type": "markdown",
   "id": "7df8e725-09b0-4cc5-bfb2-c5931f458a11",
   "metadata": {},
   "source": [
    "## Data S4\r\n",
    "Data S4. Results of detailed GCF comparison related to the PEP on staphylobactin-like BGCs\r\n",
    "- Tab 1: COG table\r\n",
    "- Tab 2: Clinker links for BGC alignment of staphylobactin-like GCF\r\n",
    "- Tab 3 CBlaster hits for BGC alignment of staphylobactin-like GCFCFre 5)"
   ]
  },
  {
   "cell_type": "code",
   "execution_count": null,
   "id": "209a90bf-d3d8-4912-ba93-5776e48d9429",
   "metadata": {},
   "outputs": [],
   "source": [
    "outfile = output_dir / \"DATA_S4.xlsx\"\n",
    "\n",
    "PROJECT_NAME = \"Staphylobactin\"\n",
    "FIGURE = \"Figure_S11\"\n",
    "PROJECT_CONFIG_DIR = bgcflow_dir / f\"config/{PROJECT_NAME}\"\n",
    "REPORT_DIR = bgcflow_dir / f\"data/processed/{PROJECT_NAME}\""
   ]
  },
  {
   "cell_type": "code",
   "execution_count": null,
   "id": "276f573b-1c72-4f91-8df1-8b3ac07a4197",
   "metadata": {},
   "outputs": [],
   "source": [
    "df_tab1 = pd.read_csv(f\"assets/tables/{FIGURE}_{PROJECT_NAME}_gggenomes_feat.csv\")\n",
    "df_tab2 = pd.read_csv(f\"assets/tables/{FIGURE}_{PROJECT_NAME}_clinker_links.csv\")\n",
    "df_tab3 = pd.read_csv(f\"assets/tables/{FIGURE}_cblaster_{PROJECT_NAME}_blast_hits.csv\")"
   ]
  },
  {
   "cell_type": "code",
   "execution_count": null,
   "id": "80b9b675-bea1-44fc-965d-934a0d3cacd9",
   "metadata": {},
   "outputs": [],
   "source": [
    "writer = pd.ExcelWriter(outfile, engine='xlsxwriter')\n",
    "df_tab1.to_excel(writer, index=None, sheet_name='Sheet1')\n",
    "df_tab2.to_excel(writer, index=None, sheet_name='Sheet2')\n",
    "df_tab3.to_excel(writer, index=None, sheet_name='Sheet3')\n",
    "writer.close()"
   ]
  },
  {
   "cell_type": "markdown",
   "id": "47dc01ae-f565-41bf-95b7-0288dadf699f",
   "metadata": {},
   "source": [
    "## Data S5\r\n",
    "\r\n",
    "Data S5. Results of detailed GCF comparison related to the PEP on spinosyn-like BGCs\r\n",
    "- Tab 1: COG table\r\n",
    "- Tab 2: Clinker links for BGC alignment of spinosyn-like GCF\r\n",
    "- Tab 3 CBlaster hits for BGC alignment of spinosyn-like GCFCF\r\n"
   ]
  },
  {
   "cell_type": "code",
   "execution_count": null,
   "id": "d804fe22-6dd1-4e45-b088-47f355002c98",
   "metadata": {},
   "outputs": [],
   "source": [
    "outfile = output_dir / \"DATA_S5.xlsx\"\n",
    "\n",
    "PROJECT_NAME = \"Spinosyn\"\n",
    "FIGURE = \"Figure_S10\"\n",
    "PROJECT_CONFIG_DIR = bgcflow_dir / f\"config/{PROJECT_NAME}\"\n",
    "REPORT_DIR = bgcflow_dir / f\"data/processed/{PROJECT_NAME}\""
   ]
  },
  {
   "cell_type": "code",
   "execution_count": null,
   "id": "92acb091-b71a-43e5-a2fd-9b797aaa2d47",
   "metadata": {},
   "outputs": [],
   "source": [
    "df_tab1 = pd.read_csv(f\"assets/tables/{FIGURE}_{PROJECT_NAME}_gggenomes_feat.csv\")\n",
    "df_tab2 = pd.read_csv(f\"assets/tables/{FIGURE}_{PROJECT_NAME}_clinker_links.csv\")\n",
    "df_tab3 = pd.read_csv(f\"assets/tables/{FIGURE}_cblaster_{PROJECT_NAME}_blast_hits.csv\")"
   ]
  },
  {
   "cell_type": "code",
   "execution_count": null,
   "id": "8bc6cef1-8c88-47d4-96bb-5eecbf20b8a6",
   "metadata": {},
   "outputs": [],
   "source": [
    "writer = pd.ExcelWriter(outfile, engine='xlsxwriter')\n",
    "df_tab1.to_excel(writer, index=None, sheet_name='Sheet1')\n",
    "df_tab2.to_excel(writer, index=None, sheet_name='Sheet2')\n",
    "df_tab3.to_excel(writer, index=None, sheet_name='Sheet3')\n",
    "writer.close()"
   ]
  },
  {
   "cell_type": "markdown",
   "id": "d3b8db13-17b0-43ca-8ed4-c4fbf603d68d",
   "metadata": {},
   "source": [
    "## Data S6\n",
    "\n",
    "Data S6. Results of detailed GCF comparison related to the PEP on Erythreapeptin-like BGCs\n",
    "- Tab 1: COG table\n",
    "- Tab 2: Clinker links for BGC alignment of Erythreapeptin-like GCF\n",
    "- Tab 3 CBlaster hits for BGC alignment of Erythreapeptin-like GCF"
   ]
  },
  {
   "cell_type": "code",
   "execution_count": null,
   "id": "188d82d1-0e77-4128-9bdf-d05b116dd53f",
   "metadata": {},
   "outputs": [],
   "source": [
    "outfile = output_dir / \"DATA_S6.xlsx\"\n",
    "\n",
    "PROJECT_NAME = \"Erythreapeptin\"\n",
    "FIGURE = \"Figure_6b\"\n",
    "PROJECT_CONFIG_DIR = bgcflow_dir / f\"config/{PROJECT_NAME}\"\n",
    "REPORT_DIR = bgcflow_dir / f\"data/processed/{PROJECT_NAME}\""
   ]
  },
  {
   "cell_type": "code",
   "execution_count": null,
   "id": "2758d7e1-0ece-429a-b2c8-edcbaa193a6e",
   "metadata": {},
   "outputs": [],
   "source": [
    "df_tab1 = pd.read_csv(f\"assets/tables/{FIGURE}_{PROJECT_NAME}_gggenomes_feat.csv\")\n",
    "df_tab2 = pd.read_csv(f\"assets/tables/{FIGURE}_{PROJECT_NAME}_clinker_links.csv\")\n",
    "df_tab3 = pd.read_csv(f\"assets/tables/{FIGURE}_cblaster_{PROJECT_NAME}_blast_hits.csv\")"
   ]
  },
  {
   "cell_type": "code",
   "execution_count": null,
   "id": "035ca7ac-5dee-4657-aaa6-e3ca8987ec50",
   "metadata": {},
   "outputs": [],
   "source": [
    "writer = pd.ExcelWriter(outfile, engine='xlsxwriter')\n",
    "df_tab1.to_excel(writer, index=None, sheet_name='Sheet1')\n",
    "df_tab2.to_excel(writer, index=None, sheet_name='Sheet2')\n",
    "df_tab3.to_excel(writer, index=None, sheet_name='Sheet3')\n",
    "writer.close()"
   ]
  },
  {
   "cell_type": "markdown",
   "id": "02206e52-bba8-4e43-8e63-705f66aa9459",
   "metadata": {},
   "source": [
    "## Data S7\n",
    "\n",
    "Data S7. Results of detailed GCF comparison related to the PEP on Mycofactocin-like BGCs\n",
    "- Tab 1: COG table\n",
    "- Tab 2: Clinker links for BGC alignment of Mycofactocin-like GCF\n",
    "- Tab 3 CBlaster hits for BGC alignment of Mycofactocin-like GCF"
   ]
  },
  {
   "cell_type": "code",
   "execution_count": null,
   "id": "2ed9fc08-0a6d-4793-923d-32852e22c589",
   "metadata": {},
   "outputs": [],
   "source": [
    "outfile = output_dir / \"DATA_S7.xlsx\"\n",
    "\n",
    "PROJECT_NAME = \"TIGR03997_with_reference\"\n",
    "FIGURE = \"Figure_7b\"\n",
    "PROJECT_CONFIG_DIR = bgcflow_dir / f\"config/{PROJECT_NAME}\"\n",
    "REPORT_DIR = bgcflow_dir / f\"data/processed/{PROJECT_NAME}\""
   ]
  },
  {
   "cell_type": "code",
   "execution_count": null,
   "id": "e636190f-da25-4203-8a59-14eabffdfba0",
   "metadata": {},
   "outputs": [],
   "source": [
    "df_tab1 = pd.read_csv(f\"assets/tables/{FIGURE}_{PROJECT_NAME}_gggenomes_feat.csv\")\n",
    "df_tab2 = pd.read_csv(f\"assets/tables/{FIGURE}_{PROJECT_NAME}_clinker_links.csv\")\n",
    "df_tab3 = pd.read_csv(f\"assets/tables/{FIGURE}_cblaster_{PROJECT_NAME}_blast_hits.csv\")"
   ]
  },
  {
   "cell_type": "code",
   "execution_count": null,
   "id": "cab66c4f-f9b9-4903-81f0-55555777cb8d",
   "metadata": {},
   "outputs": [],
   "source": [
    "writer = pd.ExcelWriter(outfile, engine='xlsxwriter')\n",
    "df_tab1.to_excel(writer, index=None, sheet_name='Sheet1')\n",
    "df_tab2.to_excel(writer, index=None, sheet_name='Sheet2')\n",
    "df_tab3.to_excel(writer, index=None, sheet_name='Sheet3')\n",
    "writer.close()"
   ]
  }
 ],
 "metadata": {
  "kernelspec": {
   "display_name": "Python 3 (ipykernel)",
   "language": "python",
   "name": "python3"
  },
  "language_info": {
   "codemirror_mode": {
    "name": "ipython",
    "version": 3
   },
   "file_extension": ".py",
   "mimetype": "text/x-python",
   "name": "python",
   "nbconvert_exporter": "python",
   "pygments_lexer": "ipython3",
   "version": "3.9.16"
  }
 },
 "nbformat": 4,
 "nbformat_minor": 5
}
