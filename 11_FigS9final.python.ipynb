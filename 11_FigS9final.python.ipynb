{
 "cells": [
  {
   "cell_type": "code",
   "execution_count": null,
   "id": "b43218a4-6aa1-4211-98e2-1c57a6939775",
   "metadata": {
    "tags": []
   },
   "outputs": [],
   "source": [
    "from pathlib import Path\n",
    "from svgutils.compose import *\n",
    "from svgutils.compose import Figure\n",
    "\n",
    "FIGURE1_FOLDER = \"Figure_5\"\n",
    "FIGURE1 = \"Figure_5\"\n",
    "FIGURE = \"Figure_S9\"\n",
    "cutoff1, cutoff2, cutoff3 = \"0.30\", \"0.40\", \"0.50\""
   ]
  },
  {
   "cell_type": "code",
   "execution_count": null,
   "id": "99f46db9-9f88-47fa-9416-de99f0bbc347",
   "metadata": {
    "tags": []
   },
   "outputs": [],
   "source": [
    "scale = 0.65\n",
    "x1, x2 = 0, 400\n",
    "y1 = 0\n",
    "height = 370\n",
    "letter_size = 18\n",
    "text_size = 12\n",
    "final_figure = Figure(\"800\", \"1150\",\n",
    "                      Panel(\n",
    "                          SVG(f\"assets/figures/{FIGURE1_FOLDER}/{FIGURE1}C_{cutoff1}.svg\").scale(scale).move(x1, y1),\n",
    "                          Text(\"A\", x1+10, y1+55, size=letter_size, weight='bold'),\n",
    "                          Text(f\"BiG-SCAPE Cutoff: {cutoff1}\", x1+10, y1+370, size=text_size, weight='bold'),\n",
    "                      ),\n",
    "                      Panel(\n",
    "                          SVG(f\"assets/figures/{FIGURE1_FOLDER}/{FIGURE1}D_{cutoff1}.svg\").scale(scale).move(x2, y1),\n",
    "                          Text(\"B\", x2+10, y1+55, size=letter_size, weight='bold'),\n",
    "                          Text(f\"BiG-SCAPE Cutoff: {cutoff1}\", x2+10, y1+370, size=text_size, weight='bold'),\n",
    "                      ),\n",
    "                      Panel(\n",
    "                          SVG(f\"assets/figures/{FIGURE}/{FIGURE}C_{cutoff2}.svg\").scale(scale).move(x1, y1 + height),\n",
    "                          Text(\"C\", x1+10, y1+height+55, size=letter_size, weight='bold'),\n",
    "                          Text(f\"BiG-SCAPE Cutoff: {cutoff2}\", x1+10, y1+height+370, size=text_size, weight='bold'),\n",
    "                      ),\n",
    "                      Panel(\n",
    "                          SVG(f\"assets/figures/{FIGURE}/{FIGURE}D_{cutoff2}.svg\").scale(scale).move(x2, y1 + height),\n",
    "                          Text(\"D\", x2+10, y1+height+55, size=letter_size, weight='bold'),\n",
    "                          Text(f\"BiG-SCAPE Cutoff: {cutoff2}\", x2+10, y1+height+370, size=text_size, weight='bold'),\n",
    "                      ),\n",
    "                      Panel(\n",
    "                          SVG(f\"assets/figures/{FIGURE}/{FIGURE}C_{cutoff3}.svg\").scale(scale).move(x1, y1 + (2*height)),\n",
    "                          Text(\"E\", x1+10, y1+(2*height)+55, size=letter_size, weight='bold'),\n",
    "                          Text(f\"BiG-SCAPE Cutoff: {cutoff3}\", x1+10, y1+(2*height)+370, size=text_size, weight='bold'),                      \n",
    "                      ),\n",
    "                      Panel(\n",
    "                          SVG(f\"assets/figures/{FIGURE}/{FIGURE}D_{cutoff3}.svg\").scale(scale).move(x2, y1 + (2*height)),\n",
    "                          Text(\"F\", x2+10, y1+(2*height)+55, size=letter_size, weight='bold'),\n",
    "                          Text(f\"BiG-SCAPE Cutoff: {cutoff3}\", x2+10, y1+(2*height)+370, size=text_size, weight='bold'),\n",
    "                      )\n",
    "                     )\n",
    "final_figure"
   ]
  },
  {
   "cell_type": "code",
   "execution_count": null,
   "id": "fa4d1597-d95b-41b6-add8-277511aa6d8e",
   "metadata": {},
   "outputs": [],
   "source": [
    "outfile = Path(f\"assets/figures/{FIGURE}/{FIGURE}.svg\")\n",
    "outfile.parent.mkdir(parents=True, exist_ok=True)\n",
    "final_figure.save(outfile)"
   ]
  }
 ],
 "metadata": {
  "kernelspec": {
   "display_name": "Python 3 (ipykernel)",
   "language": "python",
   "name": "python3"
  },
  "language_info": {
   "codemirror_mode": {
    "name": "ipython",
    "version": 3
   },
   "file_extension": ".py",
   "mimetype": "text/x-python",
   "name": "python",
   "nbconvert_exporter": "python",
   "pygments_lexer": "ipython3",
   "version": "3.9.16"
  }
 },
 "nbformat": 4,
 "nbformat_minor": 5
}
