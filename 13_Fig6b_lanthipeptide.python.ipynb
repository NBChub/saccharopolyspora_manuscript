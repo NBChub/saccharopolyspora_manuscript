{
 "cells": [
  {
   "cell_type": "markdown",
   "id": "aa30c71e-7186-4970-a687-b388897dc57d",
   "metadata": {},
   "source": [
    "# Integrated Analysis\n",
    "This notebook integrates BiG-SCAPE network with additional information"
   ]
  },
  {
   "cell_type": "code",
   "execution_count": null,
   "id": "7d383b5c-dcb3-471b-8119-4d39056be727",
   "metadata": {
    "tags": []
   },
   "outputs": [],
   "source": [
    "import pandas as pd\n",
    "import networkx as nx\n",
    "import plotly.graph_objects as go\n",
    "import numpy as np\n",
    "import scipy.spatial as spatial\n",
    "\n",
    "import yaml\n",
    "from pathlib import Path"
   ]
  },
  {
   "cell_type": "code",
   "execution_count": null,
   "id": "4bf26bae-bd3d-4d85-883a-8e48e1e400fa",
   "metadata": {
    "tags": []
   },
   "outputs": [],
   "source": [
    "def create_node_trace(G, node_trace_category, color, showtextlabel=False, nodesize=10, nodeopacity=0.8, \n",
    "                      nodesymbol=\"circle\", linewidth=1, linecolor=\"black\", textposition=\"top center\", showlegend=False):\n",
    "    if showtextlabel:\n",
    "        markermode = \"markers+text\"\n",
    "    else:\n",
    "        markermode = \"markers\"\n",
    "    nodes = np.array([node for node in G.nodes() if G.nodes[node][\"node_trace\"] == node_trace_category])\n",
    "    pos = np.array([G.nodes[node]['pos'] for node in nodes.flatten()]).reshape(-1, 2)\n",
    "    xs, ys = pos[:, 0], pos[:, 1]\n",
    "    texts = np.array([G.nodes[node]['text'] for node in nodes])\n",
    "    node_trace = go.Scatter(\n",
    "        x=xs.tolist(),\n",
    "        y=ys.tolist(),\n",
    "        text=texts.tolist(),\n",
    "        textposition=textposition,\n",
    "        mode=markermode,\n",
    "        hoverinfo='text',\n",
    "        name=node_trace_category,\n",
    "        showlegend=showlegend,\n",
    "        marker=dict(\n",
    "            symbol=nodesymbol,\n",
    "            opacity=nodeopacity,\n",
    "            showscale=False,\n",
    "            color=color,\n",
    "            size=nodesize,\n",
    "            line=dict(width=linewidth, color=linecolor)))\n",
    "    return node_trace"
   ]
  },
  {
   "cell_type": "code",
   "execution_count": null,
   "id": "b53bc502-7803-4983-8689-18821ebc279a",
   "metadata": {
    "tags": []
   },
   "outputs": [],
   "source": [
    "def create_edge_trace(Graph, name, showlegend=False, color='#888', width=0.5, opacity=0.8):\n",
    "    edge_trace = go.Scatter(\n",
    "        x=[],\n",
    "        y=[],\n",
    "        name=name,\n",
    "        opacity=opacity,\n",
    "        line=dict(width=width,color=color),\n",
    "        hoverinfo='none',\n",
    "        mode='lines',\n",
    "        showlegend=showlegend)\n",
    "\n",
    "    edges = np.array([edge for edge in Graph.edges() if G.edges[edge][\"relation_type\"] == name])\n",
    "    pos = np.array([Graph.nodes[e]['pos'] for e in edges.flatten()]).reshape(-1, 2)\n",
    "    xs = np.insert(pos[:, 0], np.arange(2, len(pos[:, 0]), 2), None)\n",
    "    ys = np.insert(pos[:, 1], np.arange(2, len(pos[:, 1]), 2), None)\n",
    "    edge_trace['x'] = xs\n",
    "    edge_trace['y'] = ys\n",
    "\n",
    "    return edge_trace"
   ]
  },
  {
   "cell_type": "code",
   "execution_count": null,
   "id": "62d796f8-d3eb-4891-bbd3-9189332d178f",
   "metadata": {
    "tags": []
   },
   "outputs": [],
   "source": [
    "def group_markers(points, name, color=\"red\", width=0.5, showlegend=False, fill=\"toself\", opacity=0.8, textposition=\"bottom center\", offset='default'):\n",
    "    # Find the convex hull of the points\n",
    "    hull = spatial.ConvexHull(points)\n",
    "\n",
    "    # Get the x and y coordinates of the vertices of the hull\n",
    "    x = [points[i][0] for i in hull.vertices] + [points[hull.vertices[0]][0]]\n",
    "    y = [points[i][1] for i in hull.vertices] + [points[hull.vertices[0]][1]]\n",
    "\n",
    "    # Calculate the center of the hull\n",
    "    center_x = np.mean(x)\n",
    "    center_y = np.mean(y)\n",
    "    \n",
    "    if offset == \"default\":\n",
    "        if len(points) < 50:\n",
    "            offset = len(points) * (-0.5/47) + 1.8\n",
    "        else:\n",
    "            offset = 1\n",
    "\n",
    "    # Add an offset of 1 pixel to each vertex\n",
    "    offset_x = [(xi - center_x) * offset + center_x for xi in x]\n",
    "    offset_y = [(yi - center_y) * offset + center_y for yi in y]\n",
    "    trace = go.Scatter(name=name, x=offset_x, y=offset_y, mode='lines', line=dict(width=width, color=color), \n",
    "                       showlegend=showlegend, fill=fill, opacity=opacity, textposition=textposition)\n",
    "    return trace"
   ]
  },
  {
   "cell_type": "markdown",
   "id": "aa9ebf12-f20d-4b2e-baea-102a7a0b8e87",
   "metadata": {},
   "source": [
    "## File configuration"
   ]
  },
  {
   "cell_type": "code",
   "execution_count": null,
   "id": "fb05d0e9-2d8d-4c6b-b3f8-3ec8c5618f06",
   "metadata": {},
   "outputs": [],
   "source": [
    "with open(\"config.yaml\", \"r\") as f:\n",
    "    notebook_configuration = yaml.safe_load(f)\n",
    "notebook_configuration"
   ]
  },
  {
   "cell_type": "code",
   "execution_count": null,
   "id": "0bad2aeb-ed07-4c6f-a330-fb839f36ac6f",
   "metadata": {},
   "outputs": [],
   "source": [
    "bgcflow_dir = Path(notebook_configuration[\"bgcflow_dir\"])\n",
    "project_name = \"mq_saccharopolyspora\"\n",
    "report_dir = bgcflow_dir / f\"data/processed/{project_name}\"\n",
    "FIGURE = \"Figure_6\"\n",
    "FIGURE_ARTS = \"Figure_4\"\n",
    "FIGURE_MASH = \"Figure_3\"\n",
    "FIGURE_BIGFAM = \"Figure_4\""
   ]
  },
  {
   "cell_type": "markdown",
   "id": "df16d0c5-65c4-439a-a9a1-0dbb89e50729",
   "metadata": {
    "tags": []
   },
   "source": [
    "## Setting Up Cutoff and Inputs"
   ]
  },
  {
   "cell_type": "code",
   "execution_count": null,
   "id": "16f4f557-54e8-40d3-86d0-51fa3ac31034",
   "metadata": {},
   "outputs": [],
   "source": [
    "cutoff = \"0.30\""
   ]
  },
  {
   "cell_type": "code",
   "execution_count": null,
   "id": "3faa412d-23ab-4260-8eee-068bfdedc908",
   "metadata": {
    "tags": []
   },
   "outputs": [],
   "source": [
    "path_bigscape = report_dir / \"bigscape/for_cytoscape_antismash_6.1.1/\""
   ]
  },
  {
   "cell_type": "code",
   "execution_count": null,
   "id": "d6b15211-e1a3-40c6-88a6-2b5dce43940e",
   "metadata": {
    "tags": []
   },
   "outputs": [],
   "source": [
    "df_bigscape = pd.read_csv([i for i in path_bigscape.glob(f\"*df_network*{cutoff}*\")][0])\n",
    "df_bigscape_cluster = pd.read_csv([i for i in path_bigscape.glob(f\"*df_cluster*{cutoff}*\")][0])\n",
    "df_antismash = pd.read_csv(report_dir / \"tables/df_regions_antismash_6.1.1.csv\")\n",
    "df_bigfam = pd.read_csv(report_dir / \"bigslice/query_as_6.1.1/query_network.csv\")\n",
    "df_arts = pd.read_csv(f\"assets/tables/{FIGURE_ARTS}_df_arts_hits.csv\")\n",
    "df_mash = pd.read_csv(f\"assets/tables/{FIGURE_MASH}b_mash_hcluster.csv\", index_col=0)"
   ]
  },
  {
   "cell_type": "code",
   "execution_count": null,
   "id": "123804bb-7a33-4ec7-8680-649cad37c257",
   "metadata": {},
   "outputs": [],
   "source": [
    "bigfam_models_stats = pd.read_csv(f\"assets/tables/{FIGURE_BIGFAM}_bigfam_models.csv\", index_col=0)"
   ]
  },
  {
   "cell_type": "markdown",
   "id": "663805f6-6c9c-41c1-9bc5-71481206a904",
   "metadata": {},
   "source": [
    "## Building Edges for Networkx"
   ]
  },
  {
   "cell_type": "code",
   "execution_count": null,
   "id": "ed1ea922-5905-4c70-a16e-ab17c98acc8b",
   "metadata": {
    "tags": []
   },
   "outputs": [],
   "source": [
    "edge_bigscape = df_bigscape.loc[:, ['Clustername 1','Clustername 2']]\n",
    "edge_bigscape = edge_bigscape.rename(columns={'Clustername 1' : 'source',\n",
    "                                              'Clustername 2' : 'target'})\n",
    "edge_bigscape['relation_type'] = 'bigscape_similarity'"
   ]
  },
  {
   "cell_type": "code",
   "execution_count": null,
   "id": "40698abb-493e-42a1-9ffa-de9b1d447db9",
   "metadata": {
    "tags": []
   },
   "outputs": [],
   "source": [
    "edge_antismash = df_antismash.loc[:, ['bgc_id', 'most_similar_known_cluster_id']].dropna()\n",
    "edge_antismash = edge_antismash.rename(columns={'bgc_id' : 'source', \n",
    "                                                'most_similar_known_cluster_id' : 'target'})\n",
    "edge_antismash['relation_type'] = 'antismash_knownclusterblast' "
   ]
  },
  {
   "cell_type": "code",
   "execution_count": null,
   "id": "ebcff61c-c771-442e-8c0c-3de54d8bc1f7",
   "metadata": {
    "tags": []
   },
   "outputs": [],
   "source": [
    "edge_arts = df_arts.loc[:, ['profile', 'bgc_id']]\n",
    "edge_arts = edge_arts.rename(columns={'profile' : 'source', \n",
    "                                      'bgc_id' : 'target'})\n",
    "edge_arts['relation_type'] = 'arts_hits'"
   ]
  },
  {
   "cell_type": "code",
   "execution_count": null,
   "id": "df5f269d-c2d9-43c2-a02c-33605a338566",
   "metadata": {
    "tags": []
   },
   "outputs": [],
   "source": [
    "edge_bigscape_class = df_bigscape_cluster.loc[:, ['bgc_id', 'bigscape_class']]\n",
    "edge_bigscape_class = edge_bigscape_class.rename(columns={'bgc_id' : 'source', \n",
    "                                      'bigscape_class' : 'target'})\n",
    "edge_bigscape_class['relation_type'] = 'bigscape_class'"
   ]
  },
  {
   "cell_type": "code",
   "execution_count": null,
   "id": "dc8b6564-3393-4a27-bbdb-7ab77e070a4e",
   "metadata": {
    "tags": []
   },
   "outputs": [],
   "source": [
    "edge_bigfam = df_bigfam[df_bigfam['rank'] == 0].loc[:, ['gcf_id', 'bgc_id']]\n",
    "edge_bigfam = edge_bigfam.rename(columns={'gcf_id' : 'source', \n",
    "                                          'bgc_id' : 'target'})\n",
    "edge_bigfam['relation_type'] = 'bigfam_hits'"
   ]
  },
  {
   "cell_type": "code",
   "execution_count": null,
   "id": "a6db58d4-2e60-446e-ba33-87b09791acce",
   "metadata": {
    "tags": []
   },
   "outputs": [],
   "source": [
    "for i in df_bigscape_cluster.index:\n",
    "    genome_id = df_bigscape_cluster.loc[i, \"genome_id\"] \n",
    "    df_bigscape_cluster.loc[i, \"phylogroup\"] = df_mash.loc[genome_id, \"phylogroup\"]\n",
    "edge_mash = df_bigscape_cluster.loc[:, [\"bgc_id\", \"phylogroup\"]]\n",
    "edge_mash = edge_mash.rename(columns={'bgc_id' : 'source', \n",
    "                                          'phylogroup' : 'target'})\n",
    "edge_mash['relation_type'] = 'phylogroup'"
   ]
  },
  {
   "cell_type": "markdown",
   "id": "ebe25335-47f2-4486-b40a-d2b18c609719",
   "metadata": {},
   "source": [
    "## Build mapping categories"
   ]
  },
  {
   "cell_type": "code",
   "execution_count": null,
   "id": "b19bde59-2f80-4f86-ae1c-b98a044558a5",
   "metadata": {
    "tags": []
   },
   "outputs": [],
   "source": [
    "nodemap_antismash = df_antismash.loc[:, ['bgc_id', 'product', 'most_similar_known_cluster_description', 'similarity']].set_index('bgc_id')\n",
    "nodemap_antismash['similarity'] = [f\"{i:.2f}\" for i in nodemap_antismash['similarity']]\n",
    "nodemap_antismash = nodemap_antismash.astype(str).T.to_dict()"
   ]
  },
  {
   "cell_type": "code",
   "execution_count": null,
   "id": "eb3b9f21-11c7-4c14-8273-b28886a853be",
   "metadata": {
    "tags": []
   },
   "outputs": [],
   "source": [
    "nodemap_mibig = pd.read_csv(bgcflow_dir / \"resources/mibig/df_mibig_bgcs.csv\", index_col=0)\n",
    "nodemap_mibig = nodemap_mibig.loc[:, [\"biosyn_class\", \"compounds\"]].T.to_dict()"
   ]
  },
  {
   "cell_type": "code",
   "execution_count": null,
   "id": "62e63dec-2210-4957-94da-20b88b60bc09",
   "metadata": {
    "tags": []
   },
   "outputs": [],
   "source": [
    "nodemap_mibig_bigscape = list(set([i for i in edge_bigscape.source if i.startswith(\"BGC\")]).union(set([i for i in edge_bigscape.target if i.startswith(\"BGC\")])))"
   ]
  },
  {
   "cell_type": "code",
   "execution_count": null,
   "id": "1f4e0844-b67f-43b4-bb3a-2c01a7eed289",
   "metadata": {
    "tags": []
   },
   "outputs": [],
   "source": [
    "nodemap_arts = df_arts.set_index(\"profile\").fillna(\"\").loc[:, [\"hits_type\", \"function\", \"description\"]].T.to_dict()"
   ]
  },
  {
   "cell_type": "code",
   "execution_count": null,
   "id": "880798fc-d693-4268-a87c-aaaf94524e64",
   "metadata": {},
   "outputs": [],
   "source": [
    "nodemap_bigfam = bigfam_models_stats.loc[:, [\"top_chemical_class\",\"top_chemical_class_proportion\",\"top_chemical_subclass\",\"top_chemical_subclass_proportion\", \"H-index\",\"richness\",\"top_taxa\",\"top_taxa_proportion\"]]\n",
    "nodemap_bigfam = nodemap_bigfam.astype(str).T.to_dict()"
   ]
  },
  {
   "cell_type": "code",
   "execution_count": null,
   "id": "7cac5d9a-4c88-45b8-add7-4a9bd7e08014",
   "metadata": {
    "tags": []
   },
   "outputs": [],
   "source": [
    "arts_map = list(df_arts.profile.unique())\n",
    "bigfam_map = list(df_bigfam.astype(\"str\").gcf_id.unique())\n",
    "antismash_map = list(df_antismash.bgc_id.unique())\n",
    "phylogroup_map = list(df_mash.phylogroup.unique())"
   ]
  },
  {
   "cell_type": "markdown",
   "id": "94ee8dd7-f57c-436b-bffd-d6c1e0c39d95",
   "metadata": {},
   "source": [
    "## Build Network"
   ]
  },
  {
   "cell_type": "code",
   "execution_count": null,
   "id": "42d46897-b4de-40f2-91b8-1e6f3b329526",
   "metadata": {
    "tags": []
   },
   "outputs": [],
   "source": [
    "df = pd.concat([edge_antismash, edge_bigscape, edge_bigfam, edge_arts])\n",
    "df = df.astype(str)\n",
    "G = nx.from_pandas_edgelist(df, source='source', target='target', edge_attr=['relation_type'])"
   ]
  },
  {
   "cell_type": "markdown",
   "id": "79309120-6e5a-4507-92e0-f87debbff124",
   "metadata": {},
   "source": [
    "## Filtering\n",
    "### Remove Unreliable BiG-FAM models\n",
    "This part requires analysis from [FigS12_query_bigfam.ipynb](FigS12_query_bigfam.ipynb)"
   ]
  },
  {
   "cell_type": "code",
   "execution_count": null,
   "id": "999f481b-b32d-49a2-8852-ec50989688e8",
   "metadata": {
    "tags": []
   },
   "outputs": [],
   "source": [
    "deleted_bigfam = []\n",
    "bigfam_taxa_cutoff = 0.3\n",
    "bigfam_filter = bigfam_models_stats[bigfam_models_stats.top_taxa_proportion <= bigfam_taxa_cutoff]\n",
    "for n in bigfam_filter.index:\n",
    "    try:\n",
    "        G.remove_node(str(n))\n",
    "        deleted_bigfam.append(n)  \n",
    "    except nx.NetworkXError as e:\n",
    "        print(e)\n",
    "\n",
    "deleted_bigfam = ', '.join([str(i) for i in deleted_bigfam])"
   ]
  },
  {
   "cell_type": "markdown",
   "id": "19b8daa5-963e-4a81-b20d-adcd13c4f41e",
   "metadata": {},
   "source": [
    "### Network Annotation"
   ]
  },
  {
   "cell_type": "code",
   "execution_count": null,
   "id": "7bf9e4ed-d9f7-4a79-a3d1-68ac874478be",
   "metadata": {
    "tags": []
   },
   "outputs": [],
   "source": [
    "# position nodes\n",
    "pos = nx.nx_agraph.graphviz_layout(G)\n",
    "for n, p in pos.items():\n",
    "    G.nodes[n]['pos'] = p\n",
    "    G.nodes[n]['text'] = n\n",
    "    if n in arts_map:\n",
    "        node_trace = 'ARTS model'\n",
    "        G.nodes[n]['text'] = n + \"<br>\" + \"<br>\".join(nodemap_arts[n].values())\n",
    "    elif n in bigfam_map:\n",
    "        node_trace = 'BiG-FAM model'\n",
    "        try:\n",
    "            G.nodes[n]['text'] = n + \"<br>\" + \"<br>\".join(nodemap_bigfam[int(n)].values())\n",
    "        except KeyError:\n",
    "            print(f\"Node {n} not found in bigfam_mapping\")\n",
    "    elif n in antismash_map:\n",
    "        node_trace = \"BGC\"\n",
    "        try:\n",
    "            G.nodes[n]['text'] = n + \"<br>\" + \"<br>\".join(nodemap_antismash[n].values()) + '<br>GCF_' + str(df_bigscape_cluster.set_index('bgc_id').loc[n, 'fam_id_0.30'])\n",
    "            if float(nodemap_antismash[n]['similarity']) < 0.4:\n",
    "                node_trace = \"BGC < 40% similarity\"\n",
    "            elif float(nodemap_antismash[n]['similarity']) < 0.8:\n",
    "                node_trace = \"BGC < 80% similarity\"\n",
    "            elif float(nodemap_antismash[n]['similarity']) >= 0.8:\n",
    "                node_trace = \"BGC >= 80% similarity\"\n",
    "        except TypeError as e:\n",
    "            print(n, e)\n",
    "        if 'lanthi' in nodemap_antismash[n]['product']:\n",
    "            node_trace = \"lanthipeptide\" + \" \" + node_trace\n",
    "            print(n, node_trace, nodemap_antismash[n]['product'])\n",
    "\n",
    "    elif n.startswith(\"BGC\"):\n",
    "        node_trace = \"MIBIG (KnownClusterBlast)\"\n",
    "        if n in nodemap_mibig_bigscape:\n",
    "            node_trace = \"MIBIG (BiG-SCAPE)\"\n",
    "        try:\n",
    "            G.nodes[n]['text'] = n + \"<br>\" + \"<br>\".join(str(nodemap_mibig[n].values()))\n",
    "        except KeyError:\n",
    "            pass\n",
    "    if n in list(edge_mash.source):\n",
    "        phylogroup = edge_mash.set_index(\"source\").loc[n, \"target\"]\n",
    "        G.nodes[n]['text'] = \"<br>\".join([phylogroup, G.nodes[n]['text']])\n",
    "    G.nodes[n]['node_trace'] = node_trace"
   ]
  },
  {
   "cell_type": "code",
   "execution_count": null,
   "id": "0cf35d98-032d-4860-b8fb-2f0f8992926b",
   "metadata": {
    "tags": []
   },
   "outputs": [],
   "source": [
    "df_erythreapeptin = df_bigscape_cluster[df_bigscape_cluster[\"bgc_id\"].isin(list(G.neighbors('BGC0000513')))]\n",
    "print(f\"Based on Known Cluster Blast connection, we found {df_erythreapeptin.shape[0]} BGCs match to Erythreapeptin (BGC0000513):\\n{df_erythreapeptin.bgc_id.unique()}\")\n",
    "print()\n",
    "df_erythreapeptin_extended = df_bigscape_cluster[df_bigscape_cluster[\"fam_known_compounds_0.30\"].isin(df_erythreapeptin[\"fam_known_compounds_0.30\"].unique())]\n",
    "print(f\"Based on Known Cluster Blast & BiG-SCAPE connection, we found {df_erythreapeptin_extended.shape[0]} BGCs that belongs to gene cluster families with connection to Erythreapeptin (BGC0000513):\\n{df_erythreapeptin.bgc_id.unique()}\")\n",
    "\n",
    "df_erythreapeptin_extended_list = df_erythreapeptin_extended.bgc_id.to_list() + [\"BGC0000513\"]\n",
    "df_erythreapeptin_extended_list"
   ]
  },
  {
   "cell_type": "code",
   "execution_count": null,
   "id": "2fb6173e-5c57-4421-b025-e5ca5f8d0ef9",
   "metadata": {
    "tags": []
   },
   "outputs": [],
   "source": [
    "mash_nodemap = df_bigscape_cluster.set_index(\"bgc_id\").T.to_dict()\n",
    "for k, v in mash_nodemap.items():\n",
    "    phylogroup = v[\"phylogroup\"]\n",
    "    mash_nodemap[k][\"color_code\"] = df_mash.set_index(\"phylogroup\").T.to_dict()[phylogroup]['color_code']"
   ]
  },
  {
   "cell_type": "code",
   "execution_count": null,
   "id": "f2a49c70-0255-48ec-8ea0-b38f07fa3225",
   "metadata": {
    "tags": []
   },
   "outputs": [],
   "source": [
    "color_code = {}\n",
    "for n in G.nodes:\n",
    "    if n in df_erythreapeptin_extended_list:\n",
    "        if n.startswith(\"BGC\"):\n",
    "            G.nodes[n]['node_trace'] = \"MIBIG (Erythreapeptin)\"\n",
    "        else:\n",
    "            phylogroup = mash_nodemap[n][\"phylogroup\"]\n",
    "            G.nodes[n]['node_trace'] = f\"{phylogroup} | BGC (Erythreapeptin)\"\n",
    "            color_code[G.nodes[n]['node_trace']] = {'color' : mash_nodemap[n][\"color_code\"], 'node_symbol' : 'circle'}\n",
    "    elif \"lanthipeptide\" in G.nodes[n]['node_trace']:\n",
    "        phylogroup = mash_nodemap[n][\"phylogroup\"]\n",
    "        G.nodes[n]['node_trace'] = f\"{phylogroup} | lanthipeptide BGC\"\n",
    "        color_code[G.nodes[n]['node_trace']] = {'color' : mash_nodemap[n][\"color_code\"], 'node_symbol' : 'circle'}\n"
   ]
  },
  {
   "cell_type": "markdown",
   "id": "db5b935c-34b2-463d-880c-a35837512e91",
   "metadata": {},
   "source": [
    "### Export positions"
   ]
  },
  {
   "cell_type": "code",
   "execution_count": null,
   "id": "f528a133-67ec-4f78-ab3f-989dd6c24ffa",
   "metadata": {
    "tags": []
   },
   "outputs": [],
   "source": [
    "df_export_network = pd.DataFrame.from_dict(dict(G.nodes(data=True)), orient='index')\n",
    "for i in df_export_network.index:\n",
    "    df_export_network.loc[i, \"x_pos\"] = df_export_network.loc[i, \"pos\"][0]\n",
    "    df_export_network.loc[i, \"y_pos\"] = df_export_network.loc[i, \"pos\"][1]\n",
    "    df_export_network.loc[i, \"cutoff\"] = cutoff\n",
    "df_export_network.to_csv(f\"assets/tables/{FIGURE}_network_{cutoff}.csv\")"
   ]
  },
  {
   "cell_type": "raw",
   "id": "6d250eda-802e-4580-a73c-9a3eea6edd5b",
   "metadata": {
    "tags": []
   },
   "source": [
    "text_map = {}\n",
    "for g in G.nodes:\n",
    "    if 'ranthipeptide' in G.nodes[g]['text']:\n",
    "        try:\n",
    "            text = df_bigscape_cluster.set_index(\"bgc_id\").loc[g, [\"fam_known_compounds_0.30\"]].to_list()\n",
    "            gcf = text[0]\n",
    "            text_as = df_antismash.set_index(\"bgc_id\").loc[g, [\"most_similar_known_cluster_description\", \"similarity\"]].to_list()\n",
    "            if any([type(i) == str for i in text_as]) == True:\n",
    "                text = text + text_as\n",
    "                text = f'{[\" \".join(text[:2])][0]} ({text[-1]:.0%})'\n",
    "                #print(text)\n",
    "            else:\n",
    "                text = \" \".join(text)\n",
    "            text_map[gcf] = {\"text\" : text, \"node\" : g}\n",
    "        except KeyError:\n",
    "            text = \"\"\n",
    "    else:\n",
    "        text = \"\"\n",
    "\n",
    "for g in G.nodes:\n",
    "    if 'ranthipeptide' in G.nodes[g]['text']:\n",
    "        text = [v['text'] for k, v in text_map.items() if v['node'] == g]\n",
    "        if len(text) == 1:\n",
    "            G.nodes[g]['text'] = text[0]\n",
    "        else:\n",
    "             G.nodes[g]['text'] = \"\""
   ]
  },
  {
   "cell_type": "markdown",
   "id": "bbefce77-0561-4a7b-8b66-1bae3fbaaf6f",
   "metadata": {},
   "source": [
    "## Define visualizations"
   ]
  },
  {
   "cell_type": "code",
   "execution_count": null,
   "id": "86400ccf-9ccd-4076-aaa9-f13aed84d000",
   "metadata": {
    "tags": []
   },
   "outputs": [],
   "source": [
    "edge_annotation_map = {'bigscape_similarity' : {'color':'black',\n",
    "                                                'width':0.5}, \n",
    "                       'antismash_knownclusterblast': {'color':'blue', \n",
    "                                                       'width':0.5}, \n",
    "                       'arts_hits': {'color':'red', \n",
    "                                     'width':0.5}, \n",
    "                       'bigfam_hits': {'color':'orange', \n",
    "                                       'width':0.5},\n",
    "                       'phylogroup' : {'color' : 'black',\n",
    "                                     'width' : 0.5}}\n",
    "\n",
    "node_annotation_map = {'ARTS model' : {'color':'red',\n",
    "                                       'node_symbol' : 'star'},\n",
    "                       'BiG-FAM model' : {'color':'orange',\n",
    "                                          'node_symbol' : 'triangle-up'},\n",
    "                       'MIBIG (KnownClusterBlast)' : {'color':'green',\n",
    "                                                      'node_symbol' : 'square-dot'},\n",
    "                       'MIBIG (BiG-SCAPE)' : {'color':'blue',\n",
    "                                              'node_symbol' : 'square'},\n",
    "                       'MIBIG (Erythreapeptin)': {'color':'blue',\n",
    "                                              'node_symbol' : 'square'},\n",
    "                       \"BGC >= 80% similarity\" : {'color':'blue',\n",
    "                                                  'node_symbol' : 'circle'},\n",
    "                       \"BGC < 80% similarity\" : {'color':'#0077b6',\n",
    "                                                 'node_symbol' : 'circle'},\n",
    "                       \"BGC < 40% similarity\" : {'color':'#90e0ef',\n",
    "                                                 'node_symbol' : 'circle'},\n",
    "                       'BGC' : {'color':'#90e0ef',\n",
    "                                          'node_symbol' : 'circle'},\n",
    "                       'BGC (Erythreapeptin)' : {'color':'#90e0ef',\n",
    "                                          'node_symbol' : 'circle'},\n",
    "                       \"lanthipeptide BGC >= 80% similarity\" : {'color':'blue',\n",
    "                                                  'node_symbol' : 'circle'},\n",
    "                       \"lanthipeptide BGC < 80% similarity\" : {'color':'#0077b6',\n",
    "                                                 'node_symbol' : 'circle'},\n",
    "                       \"lanthipeptide BGC < 40% similarity\" : {'color':'#90e0ef',\n",
    "                                                 'node_symbol' : 'circle'},\n",
    "                       'lanthipeptide BGC' : {'color': 'white',#'#90e0ef',\n",
    "                                          'node_symbol' : 'circle'},\n",
    "                       'phylogroup' : {'color' : 'black',\n",
    "                                       'node_symbol' : 'star'}\n",
    "                      }\n",
    "node_annotation_map.update(color_code)\n",
    "node_annotation_map"
   ]
  },
  {
   "cell_type": "markdown",
   "id": "76709272-16de-473f-b98c-f641bdc8824c",
   "metadata": {},
   "source": [
    "## Draw Target Box"
   ]
  },
  {
   "cell_type": "code",
   "execution_count": null,
   "id": "7d6ae274-2fc6-423d-b785-af8853ecea46",
   "metadata": {
    "tags": []
   },
   "outputs": [],
   "source": [
    "x, y = G.nodes['BGC0000513']['pos']\n",
    "x1 = x - 150\n",
    "x2 = x + 150\n",
    "y1 = y - 150\n",
    "y2 = y + 150"
   ]
  },
  {
   "cell_type": "markdown",
   "id": "e94a33db-2889-40ca-b5ee-1762ecace13a",
   "metadata": {},
   "source": [
    "# Figure 5D"
   ]
  },
  {
   "cell_type": "code",
   "execution_count": null,
   "id": "c055310e-b3fd-49c3-b0f8-d00f73f39b48",
   "metadata": {
    "tags": []
   },
   "outputs": [],
   "source": [
    "traces = []"
   ]
  },
  {
   "cell_type": "code",
   "execution_count": null,
   "id": "7ef0f54b-a17e-44b3-8c3d-54584b6f4842",
   "metadata": {
    "tags": []
   },
   "outputs": [],
   "source": [
    "for e in ['bigscape_similarity', 'arts_hits', 'bigfam_hits', \"antismash_knownclusterblast\"]:\n",
    "    opacity=0.2\n",
    "    if e in ['bigscape_similarity']:\n",
    "        opacity=0.8\n",
    "    edge_trace = create_edge_trace(G, e, color=edge_annotation_map[e]['color'], showlegend=True, opacity=opacity)\n",
    "    traces.append(edge_trace)\n",
    "\n",
    "for trace in node_annotation_map.keys():\n",
    "    nodeopacity = 0.2\n",
    "    showtextlabel = False\n",
    "    linecolor = \"black\"\n",
    "    linewidth = 0.5\n",
    "    textposition=\"top left\"\n",
    "    node_size = 8\n",
    "    if trace in ['lanthipeptide BGC', 'lanthipeptide BGC >= 80% similarity', \n",
    "                 'lanthipeptide BGC < 80% similarity', \"lanthipeptide BGC < 40% similarity\", \n",
    "                 \"BGC (Erythreapeptin)\", 'MIBIG (Erythreapeptin)'] + list(color_code.keys()):#trace.startswith(\"BGC\") or trace.startswith(\"MIBIG (BiG-SCAPE)\"):\n",
    "        nodeopacity = 0.8\n",
    "        linewidth = 1.5\n",
    "    if trace in ['MIBIG (BiG-SCAPE)']:#trace.startswith(\"BGC\") or trace.startswith(\"MIBIG (BiG-SCAPE)\"):\n",
    "        nodeopacity = 0.5\n",
    "        linewidth = 0.5\n",
    "    node_trace = create_node_trace(G, trace, node_annotation_map[trace]['color'], showtextlabel=showtextlabel, \n",
    "                                   nodesymbol=node_annotation_map[trace]['node_symbol'], nodeopacity=nodeopacity, \n",
    "                                   showlegend=True, linecolor=linecolor, linewidth=linewidth, nodesize=node_size,\n",
    "                                   textposition=textposition)\n",
    "    traces.append(node_trace)\n",
    "    "
   ]
  },
  {
   "cell_type": "code",
   "execution_count": null,
   "id": "b1754a35-0ab2-443f-b780-7f9fd1026e2d",
   "metadata": {
    "tags": []
   },
   "outputs": [],
   "source": [
    "showlegend=False\n",
    "color=\"grey\"\n",
    "\n",
    "# drop all ARTS\n",
    "G_arts = G.copy()\n",
    "for n in df_arts.profile.unique():\n",
    "    try:\n",
    "        G_arts.remove_node(str(n))\n",
    "    except nx.NetworkXError as e:\n",
    "        print(e)\n",
    "    \n",
    "\n",
    "for num, query in enumerate(nx.connected_components(G_arts)):\n",
    "    if len(query) > 2:\n",
    "        points = []\n",
    "        for n in query:\n",
    "            q = G.nodes[n]['pos']\n",
    "            points.append(q)\n",
    "        traces.append(group_markers(points, str(num), color=\"blue\", width=1, showlegend=showlegend, fill=None, opacity=0.2))"
   ]
  },
  {
   "cell_type": "code",
   "execution_count": null,
   "id": "4fc229c5-7c5d-4fcf-84ca-b6aa7c10d9c6",
   "metadata": {
    "tags": []
   },
   "outputs": [],
   "source": [
    "'lanthipeptide' in G.nodes[n]['node_trace']"
   ]
  },
  {
   "cell_type": "code",
   "execution_count": null,
   "id": "bd88efc3-51ee-4b54-b289-9d211e583078",
   "metadata": {
    "tags": []
   },
   "outputs": [],
   "source": [
    "showlegend=False\n",
    "color=\"grey\"\n",
    "\n",
    "for num, gcf in enumerate(df_bigscape_cluster['fam_id_0.30'].unique()):\n",
    "    subset = df_bigscape_cluster[df_bigscape_cluster['fam_id_0.30'] == gcf]\n",
    "    query = subset.bgc_id\n",
    "    if len(query) > 2:\n",
    "        show = False\n",
    "        points = []\n",
    "        for n in query:\n",
    "            q = G.nodes[n]['pos']\n",
    "            points.append(q)\n",
    "            if (n in df_erythreapeptin_extended_list) or ('lanthipeptide' in G.nodes[n]['node_trace']):\n",
    "                show = True\n",
    "        if show:\n",
    "            opacity = 0.8\n",
    "        else:\n",
    "            opacity = 0.1\n",
    "        traces.append(group_markers(points, num, color=\"blue\", width=1, showlegend=showlegend, fill=None, opacity=opacity))\n",
    "            "
   ]
  },
  {
   "cell_type": "code",
   "execution_count": null,
   "id": "93fb3ffd-b1ac-4e38-ae2e-a3ed19b66ceb",
   "metadata": {},
   "outputs": [],
   "source": []
  },
  {
   "cell_type": "code",
   "execution_count": null,
   "id": "2be00a83-a635-448d-84c9-556f25d858c2",
   "metadata": {
    "tags": []
   },
   "outputs": [],
   "source": [
    "fig1 = go.Figure(data=traces,\n",
    "                layout=go.Layout(\n",
    "                    paper_bgcolor='rgba(0,0,0,0)',\n",
    "                    plot_bgcolor='white',\n",
    "                    showlegend=False,\n",
    "                    hovermode='closest',\n",
    "                    margin=dict(b=20,l=5,r=5,t=40),\n",
    "                    xaxis=dict(showgrid=False, zeroline=False, showticklabels=False, linecolor='black', mirror=True, linewidth=1),\n",
    "                    yaxis=dict(showgrid=False, zeroline=False, showticklabels=False, linecolor='black', mirror=True, linewidth=1),\n",
    "                    width=600, height=600)\n",
    "                )"
   ]
  },
  {
   "cell_type": "code",
   "execution_count": null,
   "id": "caf9fc12-d220-42d7-8e5c-42bf8eac8774",
   "metadata": {},
   "outputs": [],
   "source": [
    "outfile = Path(f\"assets/figures/{FIGURE}/{FIGURE}BD_2_blank_{cutoff}.svg\")\n",
    "outfile.parent.mkdir(exist_ok=True, parents=True)\n",
    "fig1.write_image(outfile)"
   ]
  },
  {
   "cell_type": "code",
   "execution_count": null,
   "id": "6cd80643-fd6d-42af-8325-2daba0bd0e2f",
   "metadata": {
    "tags": []
   },
   "outputs": [],
   "source": [
    "square = [x1, y1, x2, y2]\n",
    "fig1.add_shape(type=\"rect\",\n",
    "               x0=square[0], y0=square[1], x1=square[2], y1=square[3],\n",
    "               line=dict(color=\"Red\", width=2),\n",
    ")\n",
    "\n",
    "fig1.update_layout(width=600, height=600,\n",
    "    font=dict(\n",
    "        #family=\"Courier New, monospace\",\n",
    "        size=16,  # Set the font size here\n",
    "        #color=\"RebeccaPurple\"\n",
    "    )\n",
    ")"
   ]
  },
  {
   "cell_type": "code",
   "execution_count": null,
   "id": "40b30854-8c37-4541-b890-e8b3646b644f",
   "metadata": {},
   "outputs": [],
   "source": [
    "outfile = Path(f\"assets/figures/{FIGURE}/{FIGURE}BD_1_{cutoff}.svg\")\n",
    "outfile.parent.mkdir(exist_ok=True, parents=True)\n",
    "fig1.write_image(outfile)"
   ]
  },
  {
   "cell_type": "code",
   "execution_count": null,
   "id": "3aa0468a-3b56-4d26-ac53-fe2df007fa38",
   "metadata": {},
   "outputs": [],
   "source": [
    "known_MIBIG = [#'BGC0000055', #erythromycin\n",
    "               'BGC0000148', # A83543A\n",
    "               #'BGC0000285', #flaviolin \n",
    "               #'BGC0000349', #erythrochelin \n",
    "               'BGC0000513', #Ery-9 b\n",
    "               #'BGC0000659', #2-methylisoborneol \n",
    "               #'BGC0000902', #flaviolin \n",
    "               'BGC0000503', #cinnamycin / kyamicin \n",
    "               'BGC0001140', #platensimycin / cebulatin\n",
    "               #'BGC0000663', #hopene\n",
    "               #'BGC0000324', #coelibactin\n",
    "               #'BGC0000661', #geosmin \n",
    "               #'BGC0001181', #geosmin\n",
    "               #'BGC0000853', #ectoine\n",
    "               #'BGC0001455', #antimycin\n",
    "               #'BGC0000050', #E-837\n",
    "              ] #'BGC0002316' #'BGC0002346'\n",
    "\n",
    "correction = {'erythromycin A;erythromycin B;erythromycin C;erythromycin D' : 'erythromycin',\n",
    "              'A83543A' : 'spinosyn',\n",
    "              'iso-migrastatin / migrastatin / dorrigocin A / dorrigocin B / 13-epi-dorrigocin A' : \"migrastatin / dorrigocin\",\n",
    "              \"flaviolin;flaviolin rhamnoside;3,3'-diflaviolin\" : 'flaviolin rhamnoside',\n",
    "              'Ery-9;Ery-6;Ery-8;Ery-7;Ery-5;Ery-4;Ery-3' : 'erythreapeptin',\n",
    "              'labyrinthopeptin A2 / labyrinthopeptin A1 / labyrinthopeptin A3': 'labyrinthopeptin',\n",
    "              'linfuranone B / linfuranone C' : 'linfuranone',\n",
    "              'thiazostatin / watasemycin A / watasemycin B / 2-hydroxyphenylthiazoline enantiopyochelin / isopyochelin' : 'thiazostatin',\n",
    "              'totopotensamide A / totopotensamide B': 'totopotensamide',\n",
    "              'methylpendolmycin / pendolmycin' : 'pendolmycin',\n",
    "              'platensimycin;platencin;thioplatensimycin;thioplatencin' : 'cebulantin',\n",
    "              'cinnamycin' : 'kyamicin'\n",
    "             }\n",
    "\n",
    "for item in known_MIBIG:\n",
    "    x, y  = G.nodes[item]['pos']\n",
    "    try:\n",
    "        text=[nodemap_mibig[item]['compounds']][0]\n",
    "    except:\n",
    "        text=item\n",
    "    print(text, text in correction.keys())\n",
    "    if text in correction.keys():\n",
    "        text = correction[text]\n",
    "    fig1.add_trace(go.Scatter(\n",
    "        x=[x],\n",
    "        y=[y],\n",
    "        mode=\"text\",\n",
    "        name=\"Annotation\",\n",
    "        text=text, \n",
    "        textposition=\"top center\"\n",
    "    ))\n",
    "\n",
    "fig1.update_layout(width=900, height=900)\n",
    "fig1"
   ]
  },
  {
   "cell_type": "raw",
   "id": "b11190b3-9d0a-4782-b71c-68e802570689",
   "metadata": {
    "tags": []
   },
   "source": [
    "# Add images\n",
    "fig5D.add_layout_image(\n",
    "    dict(\n",
    "        source=\"https://www.npatlas.org/static/img/compounds/NPA025668_hw500.png\",\n",
    "        x=0.75,\n",
    "        y=0.65,\n",
    "    ))\n",
    "fig5D.add_layout_image(dict(\n",
    "        source=\"https://www.npatlas.org/static/img/compounds/NPA025668_hw500.png\",\n",
    "        x=0.9,\n",
    "        y=0.3,\n",
    "        )\n",
    ")\n",
    "fig5D.update_layout_images(dict(\n",
    "        xref=\"paper\",\n",
    "        yref=\"paper\",\n",
    "        sizex=0.3,\n",
    "        sizey=0.3,\n",
    "        xanchor=\"right\",\n",
    "        yanchor=\"bottom\"\n",
    "))"
   ]
  },
  {
   "cell_type": "markdown",
   "id": "d2509ff4-f156-4c5e-ae1b-3311292aca4b",
   "metadata": {},
   "source": [
    "coelibactin; ... avermipeptin and griseopeptin\n",
    "https://chemistry-europe.onlinelibrary.wiley.com/doi/10.1002/cbic.201200118\n",
    "\n",
    "cblaseter"
   ]
  },
  {
   "cell_type": "markdown",
   "id": "d68a2d44-f0ff-4727-8da9-76a94894f976",
   "metadata": {},
   "source": [
    "# Figure 5B"
   ]
  },
  {
   "cell_type": "code",
   "execution_count": null,
   "id": "0f059635-39de-4969-9e14-073a57d7740b",
   "metadata": {
    "tags": []
   },
   "outputs": [],
   "source": [
    "traces = []"
   ]
  },
  {
   "cell_type": "code",
   "execution_count": null,
   "id": "cb60db0d-37ef-4b69-af49-46eaa904fa00",
   "metadata": {},
   "outputs": [],
   "source": [
    "showlegend=False\n",
    "color=\"grey\"\n",
    "\n",
    "for num, gcf in enumerate(df_bigscape_cluster['fam_id_0.30'].unique()):\n",
    "    subset = df_bigscape_cluster[df_bigscape_cluster['fam_id_0.30'] == gcf]\n",
    "    query = subset.bgc_id\n",
    "    if len(query) > 2:\n",
    "        show = False\n",
    "        points = []\n",
    "        for n in query:\n",
    "            q = G.nodes[n]['pos']\n",
    "            points.append(q)\n",
    "            if n in df_erythreapeptin_extended_list:\n",
    "                show = True\n",
    "        if show:\n",
    "            opacity = 0.8\n",
    "        else:\n",
    "            opacity = 0.1\n",
    "        traces.append(group_markers(points, num, color=\"blue\", width=1, showlegend=showlegend, fill=None, opacity=opacity))\n",
    "            "
   ]
  },
  {
   "cell_type": "code",
   "execution_count": null,
   "id": "57c33f7d-02e3-4fa2-8004-049abe562d22",
   "metadata": {
    "tags": []
   },
   "outputs": [],
   "source": [
    "erythreapeptin_dict = df_erythreapeptin_extended.set_index(\"bgc_id\")[\"fam_id_0.30\"].to_dict()\n",
    "erythreapeptin_dict['BGC0000513'] = 'BGC0000513'"
   ]
  },
  {
   "cell_type": "code",
   "execution_count": null,
   "id": "407579c8-7c95-4add-822a-f5ec261ca1c8",
   "metadata": {
    "tags": []
   },
   "outputs": [],
   "source": [
    "container = []\n",
    "for n in G.nodes:\n",
    "    if 'Erythreapeptin' in G.nodes[n]['node_trace']:\n",
    "        if 'BGC' in n:\n",
    "            text = f\"{erythreapeptin_dict[n]}\"\n",
    "        else:\n",
    "            text = f\"GCF_{erythreapeptin_dict[n]}\"\n",
    "        if text in container:\n",
    "            G.nodes[n]['text'] = \"\"\n",
    "        else:\n",
    "            G.nodes[n]['text'] = text\n",
    "            container.append(text)\n",
    "    elif G.nodes[n]['node_trace'] in ['MIBIG (BiG-SCAPE)']:#, 'ARTS model', ]:\n",
    "        G.nodes[n]['text'] = n   \n",
    "    else:\n",
    "        G.nodes[n]['text'] = \"\""
   ]
  },
  {
   "cell_type": "code",
   "execution_count": null,
   "id": "42865fba-b724-4428-918f-8d94f72440ea",
   "metadata": {
    "tags": []
   },
   "outputs": [],
   "source": [
    "for e in ['bigscape_similarity', 'arts_hits', 'bigfam_hits', \"antismash_knownclusterblast\"]:\n",
    "    opacity=0.1\n",
    "    if e in ['bigscape_similarity', \"antismash_knownclusterblast\"]:\n",
    "        opacity=0.8\n",
    "    edge_trace = create_edge_trace(G, e, color=edge_annotation_map[e]['color'], showlegend=True, opacity=opacity)\n",
    "    traces.append(edge_trace)\n",
    "\n",
    "for trace in node_annotation_map.keys():\n",
    "    nodeopacity = 0.1\n",
    "    showtextlabel = False\n",
    "    linecolor = \"black\"\n",
    "    linewidth = 1.5\n",
    "    textposition=\"top center\"\n",
    "    node_size = 20\n",
    "    if trace in [\"BGC (Erythreapeptin)\", 'MIBIG (Erythreapeptin)'] + list(color_code.keys()):#trace.startswith(\"BGC\") or trace.startswith(\"MIBIG (BiG-SCAPE)\"):\n",
    "        nodeopacity = 0.8\n",
    "        linewidth = 1.5\n",
    "    if trace in ['MIBIG (BiG-SCAPE)']:#trace.startswith(\"BGC\") or trace.startswith(\"MIBIG (BiG-SCAPE)\"):\n",
    "        nodeopacity = 0.1\n",
    "        linewidth = 1.5\n",
    "    node_trace = create_node_trace(G, trace, node_annotation_map[trace]['color'], showtextlabel=showtextlabel, \n",
    "                                   nodesymbol=node_annotation_map[trace]['node_symbol'], nodeopacity=nodeopacity, \n",
    "                                   showlegend=True, linecolor=linecolor, linewidth=linewidth, nodesize=node_size,\n",
    "                                   textposition=textposition)\n",
    "    traces.append(node_trace)\n",
    "    "
   ]
  },
  {
   "cell_type": "code",
   "execution_count": null,
   "id": "36d0cc5c-5624-49df-acb8-687dd374c81c",
   "metadata": {
    "tags": []
   },
   "outputs": [],
   "source": [
    "fig2 = go.Figure(data=traces,\n",
    "                layout=go.Layout(\n",
    "                    paper_bgcolor='rgba(0,0,0,0)',\n",
    "                    plot_bgcolor='white',\n",
    "                    showlegend=False,\n",
    "                    hovermode='closest',\n",
    "                    margin=dict(b=20,l=5,r=5,t=40),\n",
    "                    xaxis=dict(showgrid=False, zeroline=False, showticklabels=False, linecolor='black', mirror=True, linewidth=1),\n",
    "                    yaxis=dict(showgrid=False, zeroline=False, showticklabels=False, linecolor='black', mirror=True, linewidth=1),\n",
    "                    width=600, height=600)\n",
    "                )"
   ]
  },
  {
   "cell_type": "code",
   "execution_count": null,
   "id": "86520253-624f-46ec-8f38-d40db075ae71",
   "metadata": {
    "tags": []
   },
   "outputs": [],
   "source": [
    "square = [x1, y1, x2, y2]\n",
    "\n",
    "fig2.update_layout(xaxis=dict(showgrid=False, zeroline=False, showticklabels=False, linecolor='black', mirror=True, linewidth=1, range=[square[0], square[2]]),\n",
    "                    yaxis=dict(showgrid=False, zeroline=False, showticklabels=False, linecolor='black', mirror=True, linewidth=1, range=[square[1], square[3]]))"
   ]
  },
  {
   "cell_type": "code",
   "execution_count": null,
   "id": "9685426d-799d-4444-8371-eb544ab4bf50",
   "metadata": {
    "tags": []
   },
   "outputs": [],
   "source": [
    "for subgraph in nx.connected_components(G_arts):\n",
    "    if 'BGC0000513' in subgraph:\n",
    "        targets = [i for i in subgraph if i in df_antismash.bgc_id.to_list()]\n",
    "        erythreapeptin = df_antismash.set_index(\"bgc_id\").loc[targets]\n",
    "\n",
    "gbk_path_BGC0000513 = bgcflow_dir / \"data/external/bgc_selection/MIBIG/BGC0000513.region001.gbk\"\n",
    "gbk_path_BGC0000513.parent.mkdir(parents=True, exist_ok=True)\n",
    "! wget https://mibig.secondarymetabolites.org/repository/BGC0000513/generated/BGC0000513.gbk -O {gbk_path_BGC0000513} -nc\n",
    "\n",
    "erythreapeptin.loc['BGC0000513', \"genome_id\"] = 'GCF_016859185.1'\n",
    "erythreapeptin.loc['BGC0000513', \"source\"] = 'bgcflow'\n",
    "erythreapeptin.loc['BGC0000513', \"gbk_path\"] = gbk_path_BGC0000513.resolve()\n",
    "erythreapeptin = erythreapeptin.drop(\"NZ_CP054839.1.region007\")"
   ]
  },
  {
   "cell_type": "raw",
   "id": "b31161e1-e818-4701-a870-4e5414bb76b7",
   "metadata": {
    "tags": []
   },
   "source": [
    "df_bigscape_cluster.set_index(\"bgc_id\")[df_bigscape_cluster.set_index(\"bgc_id\").index.isin(erythreapeptin.index)]"
   ]
  },
  {
   "cell_type": "code",
   "execution_count": null,
   "id": "31684f4b-68c5-4b56-975d-39e5bf4564c3",
   "metadata": {
    "tags": []
   },
   "outputs": [],
   "source": [
    "from pathlib import Path\n",
    "import json\n",
    "\n",
    "mapping_dir = report_dir / \"log_changes/6.1.1/\"\n",
    "antismash_dir = report_dir / \"antismash/6.1.1/\"\n",
    "for i in erythreapeptin.index:\n",
    "    genome_id = erythreapeptin.loc[i, \"genome_id\"]\n",
    "    print(genome_id)\n",
    "    mapping_dict = mapping_dir / f\"{genome_id}-change_log.json\"\n",
    "    with open(mapping_dict, \"r\") as f:\n",
    "        mapping_dict = json.load(f)\n",
    "    for item in mapping_dict[genome_id].values():\n",
    "        if Path(item['symlink_path']).stem == i:\n",
    "            gbk_file = Path(item['target_path']).name\n",
    "            gbk_file = antismash_dir / genome_id / gbk_file\n",
    "            assert gbk_file.is_file()\n",
    "            erythreapeptin.loc[i, 'gbk_path'] = gbk_file.resolve()\n",
    "            erythreapeptin.loc[i, 'record_id'] = item['record_id']\n",
    "            erythreapeptin.loc[i, 'original_id'] = item['original_id']\n",
    "            print(item)\n",
    "erythreapeptin['source'] = \"bgcflow\"\n",
    "erythreapeptin"
   ]
  },
  {
   "cell_type": "code",
   "execution_count": null,
   "id": "f7b827b4-1cc7-420c-97df-23f805f85279",
   "metadata": {
    "tags": []
   },
   "outputs": [],
   "source": [
    "outfile = bgcflow_dir / \"config/Erythreapeptin/samples.csv\"\n",
    "outfile.parent.mkdir(parents=True, exist_ok=True)\n",
    "erythreapeptin.to_csv(outfile)"
   ]
  },
  {
   "cell_type": "code",
   "execution_count": null,
   "id": "4b9b1949-7752-4bcc-9c0c-0ef478614c76",
   "metadata": {},
   "outputs": [],
   "source": [
    "import shutil\n",
    "outfile_dir = bgcflow_dir / f\"config/Erythreapeptin\"\n",
    "\n",
    "project_config = {'name': 'Erythreapeptin',\n",
    "                  'schema': 'BGC',\n",
    "                  'pep_version': '2.1.0',\n",
    "                  'description': \"A selection of Erythreapeptin BGCs from mq_saccharopolyspora\",\n",
    "                  'sample_table': 'samples.csv',\n",
    "                  'gtdb-tax': 'gtdbtk.bac120.summary.tsv',\n",
    "                  'prokka-db' : \"prokka-db.csv\",\n",
    "                  'rules' : {'bigslice': False,\n",
    "                             'bigscape': False,\n",
    "                             'query-bigslice': False,\n",
    "                             'clinker': True,\n",
    "                             'mmseqs2': True,\n",
    "                             'interproscan': False}\n",
    "                 }\n",
    "\n",
    "source = bgcflow_dir / \"config/mq_saccharopolyspora/gtdbtk.bac120.summary.tsv\"\n",
    "destination = outfile_dir / source.name\n",
    "shutil.copy(source, destination)\n",
    "\n",
    "with open(outfile_dir / \"project_config.yaml\", \"w\") as f:\n",
    "    json.dump(project_config, f, indent=2)"
   ]
  },
  {
   "cell_type": "code",
   "execution_count": null,
   "id": "6a47202e-04ed-4e8f-a233-9b687a695e03",
   "metadata": {
    "tags": []
   },
   "outputs": [],
   "source": [
    "outfile = Path(f\"assets/figures/{FIGURE}/{FIGURE}BD_2_{cutoff}.svg\")\n",
    "outfile.parent.mkdir(exist_ok=True, parents=True)\n",
    "fig2.write_image(outfile)"
   ]
  },
  {
   "cell_type": "code",
   "execution_count": null,
   "id": "05db377a-6b82-4167-928c-fe1f675031a5",
   "metadata": {},
   "outputs": [],
   "source": [
    "from svgutils.compose import *\n",
    "from svgutils.compose import Figure"
   ]
  },
  {
   "cell_type": "code",
   "execution_count": null,
   "id": "188178be-5648-4064-86e4-40f3c572ca85",
   "metadata": {},
   "outputs": [],
   "source": [
    "final_figure = Figure(\"650\", \"650\",\n",
    "                      Panel(\n",
    "                          SVG(f\"assets/figures/{FIGURE}/{FIGURE}BD_2_{cutoff}.svg\").scale(1).move(20, 0),\n",
    "                          Text(\"B\", 0, 0, size=24, weight='bold'),\n",
    "                      ),                      \n",
    "                      Panel(\n",
    "                          SVG(f\"assets/figures/{FIGURE}/{FIGURE}BD_1_{cutoff}.svg\").scale(0.3).move(0, 0),\n",
    "                      ),\n",
    "                     )\n",
    "outfile = Path(f\"assets/figures/{FIGURE}/{FIGURE}BD_{cutoff}.svg\")\n",
    "outfile.parent.mkdir(parents=True, exist_ok=True)\n",
    "final_figure.save(outfile)\n",
    "final_figure"
   ]
  },
  {
   "cell_type": "code",
   "execution_count": null,
   "id": "a0a429ef-e84a-4791-92bf-a20b1b2905f5",
   "metadata": {
    "tags": []
   },
   "outputs": [],
   "source": [
    "Figure(\"600\", \"600\",\n",
    "       Panel(\n",
    "                          SVG(f\"assets/figures/{FIGURE}/{FIGURE}BD_2_blank_{cutoff}.svg\").scale(1).move(0, 0),\n",
    "                          Text(\"B\", 0, 0, size=24, weight='bold'),\n",
    "                      ), \n",
    "      )"
   ]
  }
 ],
 "metadata": {
  "kernelspec": {
   "display_name": "Python 3 (ipykernel)",
   "language": "python",
   "name": "python3"
  },
  "language_info": {
   "codemirror_mode": {
    "name": "ipython",
    "version": 3
   },
   "file_extension": ".py",
   "mimetype": "text/x-python",
   "name": "python",
   "nbconvert_exporter": "python",
   "pygments_lexer": "ipython3",
   "version": "3.9.16"
  }
 },
 "nbformat": 4,
 "nbformat_minor": 5
}
