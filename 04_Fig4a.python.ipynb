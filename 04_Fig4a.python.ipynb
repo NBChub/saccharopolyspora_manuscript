{
 "cells": [
  {
   "cell_type": "markdown",
   "id": "575cc373-10b5-4b55-b0a7-c198f8a023d7",
   "metadata": {},
   "source": [
    "# Figure 4a - Treemap distribution of the mapping of detected BGCs across in different databases such as MIBIG, BiGFAM, and ARTS.\n",
    "BGCs are grouped into antiSMASH known or unknown categories based on a cutoff greater than 80% similarity to MIBIG DB using KnownClusterBlast function of antiSMASH. Using BiG-SCAPE, BGCs are grouped in known or unknown if the GCF contains MIBIG BGC with a 0.3 cutoff on a similarity metric. Using BiG-SLICE, BGCs have detected a match against BiG-FAM DB of over 1.2 M BGCs detected across public genomes. Finally, the ARTS match represents whether a BGC contains resistance-related genes that can help in prioritization."
   ]
  },
  {
   "cell_type": "code",
   "execution_count": null,
   "id": "3b970c7d-dda7-4cde-a27d-306b80475541",
   "metadata": {},
   "outputs": [],
   "source": [
    "import plotly.express as px\n",
    "import pandas as pd\n",
    "import numpy as np\n",
    "import yaml\n",
    "\n",
    "from pathlib import Path"
   ]
  },
  {
   "cell_type": "markdown",
   "id": "e6f5c6fb-1b9c-4f82-b338-51f629eab280",
   "metadata": {},
   "source": [
    "## File configurations\n",
    "This first part configure the paths and tables used to create the figure"
   ]
  },
  {
   "cell_type": "code",
   "execution_count": null,
   "id": "8779cfce-6989-4817-8a83-3e2a8b71b4db",
   "metadata": {
    "tags": []
   },
   "outputs": [],
   "source": [
    "with open(\"config.yaml\", \"r\") as f:\n",
    "    notebook_configuration = yaml.safe_load(f)\n",
    "notebook_configuration"
   ]
  },
  {
   "cell_type": "code",
   "execution_count": null,
   "id": "608e98cb-451c-40b7-aa96-8b65182ede6f",
   "metadata": {
    "tags": []
   },
   "outputs": [],
   "source": [
    "bgcflow_dir = Path(notebook_configuration[\"bgcflow_dir\"])\n",
    "project_name = \"mq_saccharopolyspora\"\n",
    "report_dir = bgcflow_dir / f\"data/processed/{project_name}\"\n",
    "FIGURE = \"Figure_4\"\n",
    "\n",
    "bigscape = [i for i in (report_dir / \"bigscape/for_cytoscape_antismash_6.1.1/\").glob(\"*df_clusters_0.30.csv\")]\n",
    "assert len(bigscape) == 1\n",
    "bigscape = bigscape[0]\n",
    "\n",
    "bigfam = report_dir / \"bigslice/query_as_6.1.1/query_network.csv\"\n",
    "arts = report_dir / \"tables/df_arts_as-6.1.1.csv\"\n",
    "bgcs = report_dir / \"tables/df_regions_antismash_6.1.1.csv\"\n",
    "\n",
    "df_bigscape = pd.read_csv(bigscape)\n",
    "df_bigfam = pd.read_csv(bigfam)\n",
    "df_arts = pd.read_csv(arts)\n",
    "df_bgcs = pd.read_csv(bgcs)"
   ]
  },
  {
   "cell_type": "markdown",
   "id": "bbf6841a-2faa-4a58-9a07-294370515440",
   "metadata": {},
   "source": [
    "## Building category for treemap\n",
    "### Categorising BiG-SCAPE result into knowns and unknowns"
   ]
  },
  {
   "cell_type": "code",
   "execution_count": null,
   "id": "fac65504-78cf-4aa9-8f61-cdd730405ff0",
   "metadata": {},
   "outputs": [],
   "source": [
    "df_bigscape"
   ]
  },
  {
   "cell_type": "code",
   "execution_count": null,
   "id": "ebf69a5f-048d-40b2-86a4-4aca33f11bfa",
   "metadata": {},
   "outputs": [],
   "source": [
    "# uses the result form \"fam_type_0.30\"\n",
    "mapping = {\"known_family\":\"BiG-SCAPE known\", \n",
    "           \"unknown_family\":\"BiG-SCAPE unknown\"}\n",
    "df = df_bigscape.loc[:, [\"bgc_id\", \"bigscape_class\", 'fam_type_0.30', 'fam_id_0.30']].set_index(\"bgc_id\")\n",
    "df.loc[:, \"fam_type_0.30\"] = [mapping[df.loc[i, \"fam_type_0.30\"]] for i in df.index]\n",
    "df.head()"
   ]
  },
  {
   "cell_type": "markdown",
   "id": "72710ae6-8917-44e7-b26a-46f91ab31acf",
   "metadata": {},
   "source": [
    "### Categorising AntiSMASH result into knowns and unknowns"
   ]
  },
  {
   "cell_type": "code",
   "execution_count": null,
   "id": "cea2b4f8-2bfd-4098-94ed-365c1898857d",
   "metadata": {},
   "outputs": [],
   "source": [
    "# cutoff used \n",
    "antismash_cutoff = 0.80\n",
    "\n",
    "mapping = {True : \"antiSMASH known\",\n",
    "           False: \"antiSMASH unknown\"}\n",
    "df2 = df_bgcs.loc[:, [\"bgc_id\", \"similarity\"]].fillna(0).set_index(\"bgc_id\")\n",
    "df2[\"known_cluster_blast\"] = df2.loc[:, \"similarity\"] >= antismash_cutoff\n",
    "df2[\"known_cluster_blast\"] = [mapping[df2.loc[i, \"known_cluster_blast\"]] for i in df2.index]\n",
    "df2 = df2.loc[:, \"known_cluster_blast\"]\n",
    "df2"
   ]
  },
  {
   "cell_type": "markdown",
   "id": "de8384ce-10f7-48f5-94d2-1109330db63f",
   "metadata": {
    "tags": []
   },
   "source": [
    "### Categorising BiG-FAM hits"
   ]
  },
  {
   "cell_type": "code",
   "execution_count": null,
   "id": "7a70e52c-1295-4fed-aa1b-b8b18ff30a77",
   "metadata": {},
   "outputs": [],
   "source": [
    "df3 = df_bigfam[df_bigfam.loc[:, \"rank\"] == 0].set_index(\"bgc_id\")\n",
    "df3[\"bigfam_hits\"] = \"BiG-FAM match\"\n",
    "df3 = df3.loc[:, [\"bigfam_hits\"]]\n",
    "df3"
   ]
  },
  {
   "cell_type": "markdown",
   "id": "219416b2-6cd7-4374-aacd-bb72781719f4",
   "metadata": {},
   "source": [
    "### Categorising ARTS hits"
   ]
  },
  {
   "cell_type": "code",
   "execution_count": null,
   "id": "1decf229-576c-413a-964e-c9fde90c72c0",
   "metadata": {},
   "outputs": [],
   "source": [
    "df4 = df_arts.loc[:, [\"bgc_id\", \"Core hits\"]].set_index(\"bgc_id\")\n",
    "df4[\"arts_hits\"] = \"ARTS2 match\"\n",
    "df4 = df4.loc[:, \"arts_hits\"]"
   ]
  },
  {
   "cell_type": "markdown",
   "id": "48d84cd4-510f-4e70-a16b-5baefbc5cd26",
   "metadata": {},
   "source": [
    "### Table Cleaning"
   ]
  },
  {
   "cell_type": "code",
   "execution_count": null,
   "id": "0bb9a3ee-ad12-4d7b-a8e8-e72d6849bd91",
   "metadata": {},
   "outputs": [],
   "source": [
    "df_final = pd.concat([df, df2, df3, df4], axis=1)\n",
    "df_final[\"bigfam_hits\"] = df_final[\"bigfam_hits\"].fillna(\"BiG-FAM unknown\")\n",
    "df_final[\"arts_hits\"] = df_final[\"arts_hits\"].fillna(\"ARTS2 unknown\")\n",
    "df_final = df_final.reset_index()\n",
    "for i in df_final.columns:\n",
    "    print(df_final[i].value_counts())\n",
    "    print(\"\")"
   ]
  },
  {
   "cell_type": "markdown",
   "id": "c82ba1f2-cfcc-4218-9296-334927f18019",
   "metadata": {},
   "source": [
    "## Drawing treemap"
   ]
  },
  {
   "cell_type": "code",
   "execution_count": null,
   "id": "3f7031d3-9678-46f3-bc5b-2600430ac3eb",
   "metadata": {},
   "outputs": [],
   "source": [
    "label = \"Number of BGCs\"\n",
    "df_grouped = df_final.groupby([\"fam_type_0.30\", \"known_cluster_blast\",\"bigfam_hits\",  \"bigscape_class\", \"arts_hits\"]).count()[\"bgc_id\"].reset_index()\n",
    "df_grouped = df_grouped.rename(columns={\"bgc_id\" : label})"
   ]
  },
  {
   "cell_type": "code",
   "execution_count": null,
   "id": "104877f2-6c29-4acf-a5c5-8c052908e8dc",
   "metadata": {},
   "outputs": [],
   "source": [
    "fig = px.treemap(df_grouped, path=[px.Constant(\"all\"), 'fam_type_0.30', 'known_cluster_blast', \"bigfam_hits\", 'arts_hits', 'bigscape_class'], \n",
    "                 values=label, color=label, width=800, height=1200, color_continuous_scale='Blues')\n",
    "#fig.update_layout(margin = dict(t=25, l=25, r=25, b=25))\n",
    "fig.update_layout(\n",
    "    uniformtext=dict(minsize=12, mode='hide'),\n",
    "    margin = dict(t=50, l=25, r=25, b=25)\n",
    ")\n",
    "fig.show()"
   ]
  },
  {
   "cell_type": "code",
   "execution_count": null,
   "id": "ddba2c76-ecb5-48ee-a8c8-4c5a245d0c32",
   "metadata": {},
   "outputs": [],
   "source": [
    "outfile = Path(f\"assets/figures/{FIGURE}/{FIGURE}a.svg\")\n",
    "outfile_html = Path(f\"assets/figures/{FIGURE}/{FIGURE}a.html\")\n",
    "outfile.parent.mkdir(exist_ok=True, parents=True)\n",
    "fig.write_image(outfile)\n",
    "fig.write_html(outfile_html)"
   ]
  },
  {
   "cell_type": "markdown",
   "id": "39655514-5ff3-4ffe-80aa-2aa8a2ae4d91",
   "metadata": {},
   "source": [
    "## Adding labels in treemap"
   ]
  },
  {
   "cell_type": "code",
   "execution_count": null,
   "id": "f1fae152-c3fa-4122-a6d8-929f09bbb4fe",
   "metadata": {},
   "outputs": [],
   "source": [
    "val_dict = {}\n",
    "for g in df_final[\"fam_id_0.30\"].unique():\n",
    "    row_val = {}\n",
    "    subset = df_final[df_final['fam_id_0.30'] == g]\n",
    "    for c in df_final.columns:\n",
    "        if 'fam_id' in c:\n",
    "            pass\n",
    "        elif 'bgc_id' in c:\n",
    "            count = len(subset[c].unique())\n",
    "            row_val[\"family_size\"] = count\n",
    "        else:\n",
    "            value = list(subset[c].unique())\n",
    "            if len(value) > 1:\n",
    "                value = [i for i in value if 'unknown' not in i]\n",
    "                assert len(value) == 1\n",
    "            row_val[c] = value[0]\n",
    "    val_dict[g] = row_val\n",
    "#val_dict"
   ]
  },
  {
   "cell_type": "code",
   "execution_count": null,
   "id": "47b8184a-179d-4f20-b296-0ca00e7931b6",
   "metadata": {},
   "outputs": [],
   "source": [
    "df_edited = df_final.copy()\n",
    "for i in df_final.index:\n",
    "    gcf = df_final.loc[i, \"fam_id_0.30\"]\n",
    "    bgc_id = df_final.loc[i, \"bgc_id\"]\n",
    "    df_edited.loc[i, 'bgc_id'] = bgc_id\n",
    "    dict_map = val_dict[gcf]\n",
    "    for c in dict_map.keys():\n",
    "        df_edited.loc[i, c] = dict_map[c]\n",
    "df_edited"
   ]
  },
  {
   "cell_type": "code",
   "execution_count": null,
   "id": "da7fee78-d5d2-4f25-831b-0ca7dc2cee00",
   "metadata": {},
   "outputs": [],
   "source": [
    "label = \"Number of BGCs\"\n",
    "df_grouped = df_edited.groupby([\"fam_type_0.30\", \"known_cluster_blast\",\"bigfam_hits\",  \"bigscape_class\", \"arts_hits\"]).count()[\"bgc_id\"].reset_index()\n",
    "df_grouped = df_grouped.rename(columns={\"bgc_id\" : label})\n",
    "df_grouped.head()"
   ]
  },
  {
   "cell_type": "code",
   "execution_count": null,
   "id": "2a2add47-2c9d-4592-8c8d-5af5f580fe39",
   "metadata": {
    "tags": []
   },
   "outputs": [],
   "source": [
    "fig = px.treemap(df_grouped.copy(), path=[px.Constant(\"all\"), 'fam_type_0.30', 'known_cluster_blast', \"bigfam_hits\", 'arts_hits', 'bigscape_class'], \n",
    "                 values=label, color=label, width=800, height=1200, color_continuous_scale='Blues')\n",
    "#fig.update_layout(margin = dict(t=25, l=25, r=25, b=25))\n",
    "fig.update_layout(\n",
    "    uniformtext=dict(minsize=12, mode='hide'),\n",
    "    margin = dict(t=50, l=25, r=25, b=25)\n",
    ")\n",
    "\n",
    "fig.update_layout(\n",
    "  hoverlabel=dict(\n",
    "        font_size=12,\n",
    "        font_family=\"Calibri\"\n",
    "    ),\n",
    "  template=\"plotly_white\",\n",
    "  paper_bgcolor=\"white\",\n",
    ")\n",
    "fig.data[0].hovertemplate = (\n",
    "  '<b>%{label}</b>'\n",
    "  '<br>' +\n",
    "  '# Number of BGCs: %{customdata[0]}'\n",
    ")\n",
    "\n",
    "fig.data[0].textinfo = 'label+text+value'\n",
    "fig.show()"
   ]
  },
  {
   "cell_type": "markdown",
   "id": "b399a924-55ac-4636-8834-4321f45b1763",
   "metadata": {},
   "source": [
    "## Figure Text"
   ]
  },
  {
   "cell_type": "markdown",
   "id": "878d6cbb-76ff-40f1-b276-0d94c85e690a",
   "metadata": {},
   "source": [
    "Here, various genome mining tools were used to predict BGCs and their association with databases such as MIBIG, BiGFAM-DB, and ARTS. The predicted mappings of BGCs against these different databases were used to reconstruct a treemap distribution (Figure 4a). Using antiSMASH, a total of 721 BGCs were predicted across 26 Saccharopolyspora genomes with a median of 23 BGCs per genome. The BGCs were distributed across various types such as terpenes (165 BGCs), RiPPs (121 BGCs), NRPS (89 BGCs), T1PKS (46  BGCs), other PKS types (59 BGCs), PKS-NRPS hybrids (37 BGCs), saccharides (8 BGCs) and other types (196 BGCs). Based on the antiSMASH KnownClusterBlast similarity of greater than 80%, a total of 112 BGCs were mapped to the 16 MIBIG database entries of characterized secondary metabolites. Most common hits were geosmin (31 BGCs), ectoine (26 BGCs), 2-methylisoborneol (15 BGCs), and erythreapeptin (14 BGCs) which were found across multiple species. Whereas erythromycin (5 BGCs), spinosyn (5 BGCs), flaviolin (5 BGCs), erythrochelin (5 BGCs), coelibactin (4 BGCs), and E-837 furanone (4 BGCs) were detected in specific species. \n"
   ]
  },
  {
   "cell_type": "code",
   "execution_count": null,
   "id": "8af8ca99-a61a-415a-a0ae-ded8a1dae9ae",
   "metadata": {
    "tags": []
   },
   "outputs": [],
   "source": [
    "n_BGCs = len(df_final)\n",
    "n_genomes = len(df_bigscape.genome_id.unique())\n",
    "n_bgc_median = df_bigscape.genome_id.value_counts().median()\n",
    "n_bigscape_class = df_bigscape.bigscape_class.value_counts().to_dict()\n",
    "n_bigscape_class = [f\"{k} ({v} BGCs)\" for k,v in sorted(n_bigscape_class.items(), key=lambda x:x[1])]\n",
    "n_bigscape_class.insert(-1, \"and\")\n",
    "n_bigscape_class = \", \".join(n_bigscape_class)\n",
    "df_bgcs_known = df_bgcs[df_bgcs.similarity >= antismash_cutoff]"
   ]
  },
  {
   "cell_type": "code",
   "execution_count": null,
   "id": "2afa6ab6-5c13-4e71-9195-ed5b9bf97009",
   "metadata": {
    "tags": []
   },
   "outputs": [],
   "source": [
    "df_bgcs_known_dict = df_bgcs_known.most_similar_known_cluster_description.value_counts().to_dict()\n",
    "manual_correction = {\"Ery-9 / Ery-6 / Ery-8 / Ery-7 / Ery-5 / Ery-4 / Ery-3\" : \"erythreapeptin\",\n",
    "                    \"erythromycin A / erythromycin B / erythromycin C / erythromycin D\" : \"erythromycin\",\n",
    "                    \"A83543A\" : \"spinosyn\",\n",
    "                    \"flaviolin rhamnoside / 3,3'-diflaviolin / flaviolin\" : \"flaviolin\",\n",
    "                    \"E-837\" : \"E-837 furanone\"}\n",
    "                     \n",
    "df_bgcs_known_dict_corrected = {}\n",
    "for k,v in df_bgcs_known_dict.items():\n",
    "    if k in manual_correction.keys():\n",
    "        k = manual_correction[k]\n",
    "    else:\n",
    "        pass\n",
    "    df_bgcs_known_dict_corrected[k] = v\n",
    "    \n",
    "df_bgcs_known_list = [f\"{k} ({v} BGCs)\" for k,v in sorted(df_bgcs_known_dict_corrected.items(), key=lambda x:x[1], reverse=True)]\n",
    "df_bgcs_known_list_top = df_bgcs_known_list[:4]\n",
    "df_bgcs_known_list_top.insert(-1, \"and\")\n",
    "df_bgcs_known_list_top = \", \".join(df_bgcs_known_list_top)\n",
    "\n",
    "df_bgcs_known_list_top2 = df_bgcs_known_list[4:9]\n",
    "df_bgcs_known_list_top2.insert(-1, \"and\")\n",
    "df_bgcs_known_list_top2 = \", \".join(df_bgcs_known_list_top2)"
   ]
  },
  {
   "cell_type": "code",
   "execution_count": null,
   "id": "742b80ad-ea65-4933-af59-f85f47d3ab1b",
   "metadata": {
    "tags": []
   },
   "outputs": [],
   "source": [
    "text1 = f\"Here, various genome mining tools were used to predict BGCs and their association with databases such as MIBIG, BiGFAM-DB, and ARTS. The predicted mappings of BGCs against these different databases were used to reconstruct a treemap distribution (Figure 4a). Using antiSMASH, a total of {n_BGCs} BGCs were predicted across {n_genomes} Saccharopolyspora genomes with a median of {n_bgc_median:.0f} BGCs per genome.\"\n",
    "text2 = f\"The BGCs were distributed across various types such as {n_bigscape_class}. Based on the antiSMASH KnownClusterBlast similarity of greater than {antismash_cutoff:.0%}, a total of {len(df_bgcs_known)} BGCs were mapped to the {len(df_bgcs_known.most_similar_known_cluster_id.unique())} MIBIG database entries of characterized secondary metabolites.\"\n",
    "text3 = f\"Most common hits were {df_bgcs_known_list_top} which were found across multiple species. Whereas {df_bgcs_known_list_top2} were detected in specific species.\"\n",
    "final_text = \" \".join([text1, text2, text3]).replace(\"and,\", \"and\")\n",
    "with open(f\"assets/figures/{FIGURE}/{FIGURE}a_text.txt\", \"w\") as f:\n",
    "    f.writelines(final_text)"
   ]
  },
  {
   "cell_type": "markdown",
   "id": "11bebcfd-fa0c-4df6-8fe3-905a3e0729e9",
   "metadata": {
    "tags": []
   },
   "source": [
    "## Other Exploratory Analysis"
   ]
  },
  {
   "cell_type": "code",
   "execution_count": null,
   "id": "8b5770b0-dae2-4824-8c77-2b2ac836494d",
   "metadata": {},
   "outputs": [],
   "source": [
    "source = df_grouped.copy()\n",
    "fig = px.treemap(source, \n",
    "                 path=[px.Constant(\"all\"), 'fam_type_0.30', 'known_cluster_blast', \"bigfam_hits\", 'arts_hits', 'bigscape_class'], \n",
    "                 values=label, color=label,\n",
    "                 width=1000, height=1000, \n",
    "                 color_continuous_scale=[(0,\"#ef6f6c\"), (0.5,\"white\"), (1,\"#006e90\")],\n",
    "                 #color_continuous_scale=[(0,\"green\"), (0.5,\"white\"), (1,\"#006e90\")] \n",
    "                )\n",
    "\n",
    "\n",
    "figure_data = fig[\"data\"][0]\n",
    "#list of unique names in the dataframe\n",
    "\n",
    "for num, item in enumerate(figure_data['ids']):\n",
    "    values = len(item.split(\"/\"))\n",
    "    if values < 6:\n",
    "        end = item.split(\"/\")[-1]\n",
    "        if 'unknown' in end:\n",
    "            figure_data['marker']['colors'][num] = max(figure_data['marker']['colors'])\n",
    "        elif values == 1:\n",
    "            figure_data['marker']['colors'][num] = 0\n",
    "        else:\n",
    "            figure_data['marker']['colors'][num] = -max(figure_data['marker']['colors'])\n",
    "\n",
    "fig.update_layout(\n",
    "  hoverlabel=dict(\n",
    "        font_size=12,\n",
    "        font_family=\"Calibri\"\n",
    "    ),\n",
    "  template=\"plotly_white\",\n",
    "  paper_bgcolor=\"white\",\n",
    ")\n",
    "fig.data[0].hovertemplate = (\n",
    "  '<b>%{label}</b>'\n",
    "  '<br>' +\n",
    "  '# Number of BGCs: %{customdata[0]}'\n",
    ")\n",
    "\n",
    "fig.update_coloraxes(showscale=True)\n",
    "\n",
    "#fig.update_traces(root_color=\"lightgrey\")\n",
    "fig.data[0].textinfo = 'label+text+value'\n",
    "fig.show()\n",
    "outfile = Path(f\"assets/figures/{FIGURE}/{FIGURE}x.svg\")\n",
    "outfile.parent.mkdir(parents=True, exist_ok=True)\n",
    "fig.write_image(outfile)"
   ]
  },
  {
   "cell_type": "code",
   "execution_count": null,
   "id": "ee0672ed-ceae-47f3-99fa-03c3c465ff59",
   "metadata": {
    "tags": []
   },
   "outputs": [],
   "source": [
    "df_final.to_csv(f\"assets/tables/{FIGURE}\")"
   ]
  },
  {
   "cell_type": "code",
   "execution_count": null,
   "id": "5dcc097d-4040-4748-9a8b-291d194efea7",
   "metadata": {},
   "outputs": [],
   "source": [
    "df_select = df_final.copy()\n",
    "df_select.set_index(\"bgc_id\", inplace=True)\n",
    "df_select = df_select[(df_select[\"fam_type_0.30\"] == \"BiG-SCAPE unknown\") & (df_select[\"known_cluster_blast\"] == \"antiSMASH unknown\") & (df_select[\"arts_hits\"] == \"ARTS2 match\")  ]"
   ]
  },
  {
   "cell_type": "code",
   "execution_count": null,
   "id": "8f9fdcf6-d9f8-4521-a25a-72e37b81bb9c",
   "metadata": {},
   "outputs": [],
   "source": [
    "df_select.value_counts(\"fam_id_0.30\").head(15)"
   ]
  },
  {
   "cell_type": "code",
   "execution_count": null,
   "id": "8ff10133-8717-4749-962e-bfb397831f21",
   "metadata": {},
   "outputs": [],
   "source": [
    "df_select"
   ]
  },
  {
   "cell_type": "code",
   "execution_count": null,
   "id": "a9a3aabb-d80d-47d8-bcb8-092879b9c77b",
   "metadata": {},
   "outputs": [],
   "source": [
    "df3 = df_bigfam[df_bigfam[\"rank\"] == 0]\n",
    "df4 = df3[df3.bgc_id.isin(df_select.index)]\n",
    "df4"
   ]
  },
  {
   "cell_type": "code",
   "execution_count": null,
   "id": "382c1800-8753-40c8-9676-70de53c67706",
   "metadata": {},
   "outputs": [],
   "source": [
    "df_bigfam_gcf = pd.read_csv(report_dir / \"bigslice/query_as_6.1.1/gcf_summary.csv\", index_col=0)\n",
    "df_bigfam_gcf.loc[df4.gcf_id.unique()]"
   ]
  },
  {
   "cell_type": "code",
   "execution_count": null,
   "id": "6bfc3438-b1ae-4cf8-8c09-9921f9b94633",
   "metadata": {},
   "outputs": [],
   "source": [
    "source = df_edited.copy()\n",
    "source.loc[:, \"fam_id_0.30\"] = [f\"GCF_{source.loc[i, 'fam_id_0.30']}\" for i in source.index]\n",
    "source['values'] = 1\n",
    "fig = px.treemap(source, \n",
    "                 path=[px.Constant(\"all\"), 'fam_type_0.30', 'known_cluster_blast', \"bigfam_hits\", 'arts_hits', 'bigscape_class', 'fam_id_0.30', 'bgc_id'], \n",
    "                 values=\"values\", color=\"values\",\n",
    "                 width=1000, height=1000, \n",
    "                 color_continuous_scale=[(0,\"#ef6f6c\"), (0.5,\"white\"), (1,\"#006e90\")],\n",
    "                 #color_continuous_scale=[(0,\"green\"), (0.5,\"white\"), (1,\"#006e90\")] \n",
    "                )\n",
    "\n",
    "\n",
    "figure_data = fig[\"data\"][0]\n",
    "#list of unique names in the dataframe\n",
    "\n",
    "for num, item in enumerate(figure_data['ids']):\n",
    "    values = len(item.split(\"/\"))\n",
    "    if values < 6:\n",
    "        end = item.split(\"/\")[-1]\n",
    "        if 'unknown' in end:\n",
    "            figure_data['marker']['colors'][num] = max(figure_data['marker']['colors'])\n",
    "        elif values == 1:\n",
    "            figure_data['marker']['colors'][num] = 0\n",
    "        else:\n",
    "            figure_data['marker']['colors'][num] = -max(figure_data['marker']['colors'])\n",
    "\n",
    "fig.update_layout(\n",
    "  hoverlabel=dict(\n",
    "        font_size=12,\n",
    "        font_family=\"Calibri\"\n",
    "    ),\n",
    "  template=\"plotly_white\",\n",
    "  paper_bgcolor=\"white\",\n",
    ")\n",
    "fig.data[0].hovertemplate = (\n",
    "  '<b>%{label}</b>'\n",
    "  '<br>' +\n",
    "  '# Number of BGCs: %{customdata[0]}'\n",
    ")\n",
    "\n",
    "fig.update_coloraxes(showscale=False)\n",
    "\n",
    "#fig.update_traces(root_color=\"lightgrey\")\n",
    "fig.data[0].textinfo = 'label+text+value'\n",
    "source.to_csv(f\"assets/tables/{FIGURE}a_treemap.csv\")\n",
    "fig.show()\n",
    "fig.write_html(f\"assets/figures/{FIGURE}/{FIGURE}a_alternative.html\")"
   ]
  },
  {
   "cell_type": "code",
   "execution_count": null,
   "id": "9558aef8-7860-4d77-8cd9-57216986e01d",
   "metadata": {},
   "outputs": [],
   "source": [
    "max(figure_data['marker']['colors'])"
   ]
  },
  {
   "cell_type": "code",
   "execution_count": null,
   "id": "fa4f0433-8034-4efd-9ce3-06783d616795",
   "metadata": {},
   "outputs": [],
   "source": [
    "figure_data['marker']['colors'][1]"
   ]
  },
  {
   "cell_type": "code",
   "execution_count": null,
   "id": "300b23ec-1210-49b1-b2a4-51832acbe454",
   "metadata": {},
   "outputs": [],
   "source": [
    "venn_category = {\"BiG-SCAPE MIBIG hits\" : set(df_edited[df_edited['fam_type_0.30'] == 'BiG-SCAPE known'].bgc_id),\n",
    "                 \"KnownClusterBlast hits\" : set(df_edited[df_edited['known_cluster_blast'] == 'antiSMASH known'].bgc_id),\n",
    "                 \"BiG-FAM hits\" : set(df_edited[df_edited['bigfam_hits'] == 'BiG-FAM match'].bgc_id),\n",
    "                 \"ARTS2 hits\" : set(df_edited[df_edited['arts_hits'] == 'ARTS2 match'].bgc_id),\n",
    "                 #\"All\" : set(df_edited.bgc_id)\n",
    "                }"
   ]
  },
  {
   "cell_type": "code",
   "execution_count": null,
   "id": "c21e82f7-d960-4339-ad44-9d10d0541a70",
   "metadata": {},
   "outputs": [],
   "source": [
    "#! pip install venn # we will use this later for visualization\n",
    "from venn import venn\n",
    "%matplotlib inline"
   ]
  },
  {
   "cell_type": "code",
   "execution_count": null,
   "id": "846b9155-b666-4141-b4d0-4f4cbe9e2b82",
   "metadata": {
    "tags": []
   },
   "outputs": [],
   "source": [
    "venn_diagram = venn(venn_category)\n",
    "venn_diagram"
   ]
  }
 ],
 "metadata": {
  "kernelspec": {
   "display_name": "Python 3 (ipykernel)",
   "language": "python",
   "name": "python3"
  },
  "language_info": {
   "codemirror_mode": {
    "name": "ipython",
    "version": 3
   },
   "file_extension": ".py",
   "mimetype": "text/x-python",
   "name": "python",
   "nbconvert_exporter": "python",
   "pygments_lexer": "ipython3",
   "version": "3.9.16"
  }
 },
 "nbformat": 4,
 "nbformat_minor": 5
}
