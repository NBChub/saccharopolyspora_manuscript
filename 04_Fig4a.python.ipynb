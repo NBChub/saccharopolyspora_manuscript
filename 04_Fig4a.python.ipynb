{
 "cells": [
  {
   "cell_type": "code",
   "execution_count": null,
   "id": "3b970c7d-dda7-4cde-a27d-306b80475541",
   "metadata": {},
   "outputs": [],
   "source": [
    "import plotly.express as px\n",
    "import pandas as pd\n",
    "import numpy as np\n",
    "import yaml\n",
    "\n",
    "from pathlib import Path"
   ]
  },
  {
   "cell_type": "markdown",
   "id": "e6f5c6fb-1b9c-4f82-b338-51f629eab280",
   "metadata": {},
   "source": [
    "## File configuration"
   ]
  },
  {
   "cell_type": "code",
   "execution_count": null,
   "id": "8779cfce-6989-4817-8a83-3e2a8b71b4db",
   "metadata": {
    "tags": []
   },
   "outputs": [],
   "source": [
    "with open(\"config.yaml\", \"r\") as f:\n",
    "    notebook_configuration = yaml.safe_load(f)\n",
    "notebook_configuration"
   ]
  },
  {
   "cell_type": "code",
   "execution_count": null,
   "id": "608e98cb-451c-40b7-aa96-8b65182ede6f",
   "metadata": {
    "tags": []
   },
   "outputs": [],
   "source": [
    "bgcflow_dir = Path(notebook_configuration[\"bgcflow_dir\"])\n",
    "project_name = \"mq_saccharopolyspora\"\n",
    "report_dir = bgcflow_dir / f\"data/processed/{project_name}\"\n",
    "FIGURE = \"Figure_4\"\n",
    "\n",
    "bigscape = [i for i in (report_dir / \"bigscape/for_cytoscape_antismash_6.1.1/\").glob(\"*df_clusters_0.30.csv\")]\n",
    "assert len(bigscape) == 1\n",
    "bigscape = bigscape[0]\n",
    "\n",
    "bigfam = report_dir / \"bigslice/query_as_6.1.1/query_network.csv\"\n",
    "arts = report_dir / \"tables/df_arts_as-6.1.1.csv\"\n",
    "bgcs = report_dir / \"tables/df_regions_antismash_6.1.1.csv\"\n",
    "\n",
    "df_bigscape = pd.read_csv(bigscape)\n",
    "df_bigfam = pd.read_csv(bigfam)\n",
    "df_arts = pd.read_csv(arts)\n",
    "df_bgcs = pd.read_csv(bgcs)"
   ]
  },
  {
   "cell_type": "code",
   "execution_count": null,
   "id": "fac65504-78cf-4aa9-8f61-cdd730405ff0",
   "metadata": {},
   "outputs": [],
   "source": [
    "df_bigscape"
   ]
  },
  {
   "cell_type": "code",
   "execution_count": null,
   "id": "ebf69a5f-048d-40b2-86a4-4aca33f11bfa",
   "metadata": {},
   "outputs": [],
   "source": [
    "mapping = {\"known_family\":\"BiG-SCAPE known\", \n",
    "           \"unknown_family\":\"BiG-SCAPE unknown\"}\n",
    "df = df_bigscape.loc[:, [\"bgc_id\", \"bigscape_class\", 'fam_type_0.30', 'fam_id_0.30']].set_index(\"bgc_id\")\n",
    "df.loc[:, \"fam_type_0.30\"] = [mapping[df.loc[i, \"fam_type_0.30\"]] for i in df.index]\n",
    "df.head()"
   ]
  },
  {
   "cell_type": "code",
   "execution_count": null,
   "id": "cea2b4f8-2bfd-4098-94ed-365c1898857d",
   "metadata": {},
   "outputs": [],
   "source": [
    "mapping = {True : \"antiSMASH known\",\n",
    "           False: \"antiSMASH unknown\"}\n",
    "df2 = df_bgcs.loc[:, [\"bgc_id\", \"similarity\"]].fillna(0).set_index(\"bgc_id\")\n",
    "df2[\"known_cluster_blast\"] = df2.loc[:, \"similarity\"] >= 0.8\n",
    "df2[\"known_cluster_blast\"] = [mapping[df2.loc[i, \"known_cluster_blast\"]] for i in df2.index]\n",
    "df2 = df2.loc[:, \"known_cluster_blast\"]\n",
    "df2"
   ]
  },
  {
   "cell_type": "code",
   "execution_count": null,
   "id": "7a70e52c-1295-4fed-aa1b-b8b18ff30a77",
   "metadata": {},
   "outputs": [],
   "source": [
    "df3 = df_bigfam[df_bigfam.loc[:, \"rank\"] == 0].set_index(\"bgc_id\")\n",
    "df3[\"bigfam_hits\"] = \"BiG-FAM match\"\n",
    "df3 = df3.loc[:, [\"bigfam_hits\"]]\n",
    "df3"
   ]
  },
  {
   "cell_type": "code",
   "execution_count": null,
   "id": "1decf229-576c-413a-964e-c9fde90c72c0",
   "metadata": {},
   "outputs": [],
   "source": [
    "df4 = df_arts.loc[:, [\"bgc_id\", \"Core hits\"]].set_index(\"bgc_id\")\n",
    "df4[\"arts_hits\"] = \"ARTS2 match\"\n",
    "df4 = df4.loc[:, \"arts_hits\"]"
   ]
  },
  {
   "cell_type": "code",
   "execution_count": null,
   "id": "0bb9a3ee-ad12-4d7b-a8e8-e72d6849bd91",
   "metadata": {},
   "outputs": [],
   "source": [
    "df_final = pd.concat([df, df2, df3, df4], axis=1)\n",
    "df_final[\"bigfam_hits\"] = df_final[\"bigfam_hits\"].fillna(\"BiG-FAM unknown\")\n",
    "df_final[\"arts_hits\"] = df_final[\"arts_hits\"].fillna(\"ARTS2 unknown\")\n",
    "df_final = df_final.reset_index()\n",
    "for i in df_final.columns:\n",
    "    print(df_final[i].value_counts())\n",
    "    print(\"\")"
   ]
  },
  {
   "cell_type": "code",
   "execution_count": null,
   "id": "3f7031d3-9678-46f3-bc5b-2600430ac3eb",
   "metadata": {},
   "outputs": [],
   "source": [
    "label = \"Number of BGCs\"\n",
    "df_grouped = df_final.groupby([\"fam_type_0.30\", \"known_cluster_blast\",\"bigfam_hits\",  \"bigscape_class\", \"arts_hits\"]).count()[\"bgc_id\"].reset_index()\n",
    "df_grouped = df_grouped.rename(columns={\"bgc_id\" : label})"
   ]
  },
  {
   "cell_type": "code",
   "execution_count": null,
   "id": "104877f2-6c29-4acf-a5c5-8c052908e8dc",
   "metadata": {},
   "outputs": [],
   "source": [
    "fig = px.treemap(df_grouped, path=[px.Constant(\"all\"),'known_cluster_blast','fam_type_0.30',   \"bigfam_hits\", 'arts_hits', 'bigscape_class'], \n",
    "                 values=label, color=label, width=800, height=1000, color_continuous_scale='RdBu')\n",
    "fig.update_layout(margin = dict(t=25, l=25, r=25, b=25))\n",
    "fig.show()"
   ]
  },
  {
   "cell_type": "code",
   "execution_count": null,
   "id": "ddba2c76-ecb5-48ee-a8c8-4c5a245d0c32",
   "metadata": {},
   "outputs": [],
   "source": [
    "fig.write_image(f\"assets/figures/{FIGURE}/{FIGURE}a.svg\")\n",
    "df_final.columns"
   ]
  },
  {
   "cell_type": "code",
   "execution_count": null,
   "id": "f1fae152-c3fa-4122-a6d8-929f09bbb4fe",
   "metadata": {},
   "outputs": [],
   "source": [
    "val_dict = {}\n",
    "for g in df_final[\"fam_id_0.30\"].unique():\n",
    "    row_val = {}\n",
    "    subset = df_final[df_final['fam_id_0.30'] == g]\n",
    "    for c in df_final.columns:\n",
    "        if 'fam_id' in c:\n",
    "            pass\n",
    "        elif 'bgc_id' in c:\n",
    "            count = len(subset[c].unique())\n",
    "            row_val[\"family_size\"] = count\n",
    "        else:\n",
    "            value = list(subset[c].unique())\n",
    "            if len(value) > 1:\n",
    "                value = [i for i in value if 'unknown' not in i]\n",
    "                assert len(value) == 1\n",
    "            row_val[c] = value[0]\n",
    "    val_dict[g] = row_val\n",
    "#val_dict"
   ]
  },
  {
   "cell_type": "code",
   "execution_count": null,
   "id": "47b8184a-179d-4f20-b296-0ca00e7931b6",
   "metadata": {},
   "outputs": [],
   "source": [
    "df_edited = df_final.copy()\n",
    "for i in df_final.index:\n",
    "    gcf = df_final.loc[i, \"fam_id_0.30\"]\n",
    "    bgc_id = df_final.loc[i, \"bgc_id\"]\n",
    "    df_edited.loc[i, 'bgc_id'] = bgc_id\n",
    "    dict_map = val_dict[gcf]\n",
    "    for c in dict_map.keys():\n",
    "        df_edited.loc[i, c] = dict_map[c]\n",
    "df_edited"
   ]
  },
  {
   "cell_type": "code",
   "execution_count": null,
   "id": "da7fee78-d5d2-4f25-831b-0ca7dc2cee00",
   "metadata": {},
   "outputs": [],
   "source": [
    "label = \"Number of BGCs\"\n",
    "df_grouped = df_edited.groupby([\"fam_type_0.30\", \"known_cluster_blast\",\"bigfam_hits\",  \"bigscape_class\", \"arts_hits\"]).count()[\"bgc_id\"].reset_index()\n",
    "df_grouped = df_grouped.rename(columns={\"bgc_id\" : label})\n",
    "df_grouped.head()"
   ]
  },
  {
   "cell_type": "code",
   "execution_count": null,
   "id": "8b5770b0-dae2-4824-8c77-2b2ac836494d",
   "metadata": {},
   "outputs": [],
   "source": [
    "source = df_grouped.copy()\n",
    "fig = px.treemap(source, \n",
    "                 path=[px.Constant(\"all\"), 'fam_type_0.30', 'known_cluster_blast', \"bigfam_hits\", 'arts_hits', 'bigscape_class'], \n",
    "                 values=label, color=label,\n",
    "                 width=1000, height=1000, \n",
    "                 color_continuous_scale=[(0,\"#ef6f6c\"), (0.5,\"white\"), (1,\"#006e90\")],\n",
    "                 #color_continuous_scale=[(0,\"green\"), (0.5,\"white\"), (1,\"#006e90\")] \n",
    "                )\n",
    "\n",
    "\n",
    "figure_data = fig[\"data\"][0]\n",
    "#list of unique names in the dataframe\n",
    "\n",
    "for num, item in enumerate(figure_data['ids']):\n",
    "    values = len(item.split(\"/\"))\n",
    "    if values < 6:\n",
    "        end = item.split(\"/\")[-1]\n",
    "        if 'unknown' in end:\n",
    "            figure_data['marker']['colors'][num] = max(figure_data['marker']['colors'])\n",
    "        elif values == 1:\n",
    "            figure_data['marker']['colors'][num] = 0\n",
    "        else:\n",
    "            figure_data['marker']['colors'][num] = -max(figure_data['marker']['colors'])\n",
    "\n",
    "fig.update_layout(\n",
    "  hoverlabel=dict(\n",
    "        font_size=12,\n",
    "        font_family=\"Calibri\"\n",
    "    ),\n",
    "  template=\"plotly_white\",\n",
    "  paper_bgcolor=\"white\",\n",
    ")\n",
    "fig.data[0].hovertemplate = (\n",
    "  '<b>%{label}</b>'\n",
    "  '<br>' +\n",
    "  '# Number of BGCs: %{customdata[0]}'\n",
    ")\n",
    "\n",
    "fig.update_coloraxes(showscale=False)\n",
    "\n",
    "#fig.update_traces(root_color=\"lightgrey\")\n",
    "fig.data[0].textinfo = 'label+text+value'\n",
    "fig.show()\n",
    "fig.write_image(f\"assets/figures/{FIGURE}/{FIGURE}x.svg\")"
   ]
  },
  {
   "cell_type": "code",
   "execution_count": null,
   "id": "5dcc097d-4040-4748-9a8b-291d194efea7",
   "metadata": {},
   "outputs": [],
   "source": [
    "df_select = df_final.copy()\n",
    "df_select.set_index(\"bgc_id\", inplace=True)\n",
    "df_select = df_select[(df_select[\"fam_type_0.30\"] == \"BiG-SCAPE unknown\") & (df_select[\"known_cluster_blast\"] == \"antiSMASH unknown\") & (df_select[\"arts_hits\"] == \"ARTS2 match\")  ]"
   ]
  },
  {
   "cell_type": "code",
   "execution_count": null,
   "id": "8f9fdcf6-d9f8-4521-a25a-72e37b81bb9c",
   "metadata": {},
   "outputs": [],
   "source": [
    "df_select.value_counts(\"fam_id_0.30\").head(15)"
   ]
  },
  {
   "cell_type": "code",
   "execution_count": null,
   "id": "8ff10133-8717-4749-962e-bfb397831f21",
   "metadata": {},
   "outputs": [],
   "source": [
    "df_select"
   ]
  },
  {
   "cell_type": "code",
   "execution_count": null,
   "id": "a9a3aabb-d80d-47d8-bcb8-092879b9c77b",
   "metadata": {},
   "outputs": [],
   "source": [
    "df3 = df_bigfam[df_bigfam[\"rank\"] == 0]\n",
    "df4 = df3[df3.bgc_id.isin(df_select.index)]\n",
    "df4."
   ]
  },
  {
   "cell_type": "code",
   "execution_count": null,
   "id": "382c1800-8753-40c8-9676-70de53c67706",
   "metadata": {},
   "outputs": [],
   "source": [
    "df_bigfam_gcf = pd.read_csv(\"../bigslice/query_as_6.1.1/gcf_summary.csv\", index_col=0)\n",
    "df_bigfam_gcf.loc[df4.gcf_id.unique()]"
   ]
  },
  {
   "cell_type": "code",
   "execution_count": null,
   "id": "6bfc3438-b1ae-4cf8-8c09-9921f9b94633",
   "metadata": {},
   "outputs": [],
   "source": [
    "source = df_edited.copy()\n",
    "source.loc[:, \"fam_id_0.30\"] = [f\"GCF_{source.loc[i, 'fam_id_0.30']}\" for i in source.index]\n",
    "source['values'] = 1\n",
    "fig = px.treemap(source, \n",
    "                 path=[px.Constant(\"all\"), 'fam_type_0.30', 'known_cluster_blast', \"bigfam_hits\", 'arts_hits', 'bigscape_class', 'fam_id_0.30', 'bgc_id'], \n",
    "                 values=\"values\", color=\"values\",\n",
    "                 width=1000, height=1000, \n",
    "                 color_continuous_scale=[(0,\"#ef6f6c\"), (0.5,\"white\"), (1,\"#006e90\")],\n",
    "                 #color_continuous_scale=[(0,\"green\"), (0.5,\"white\"), (1,\"#006e90\")] \n",
    "                )\n",
    "\n",
    "\n",
    "figure_data = fig[\"data\"][0]\n",
    "#list of unique names in the dataframe\n",
    "\n",
    "for num, item in enumerate(figure_data['ids']):\n",
    "    values = len(item.split(\"/\"))\n",
    "    if values < 6:\n",
    "        end = item.split(\"/\")[-1]\n",
    "        if 'unknown' in end:\n",
    "            figure_data['marker']['colors'][num] = max(figure_data['marker']['colors'])\n",
    "        elif values == 1:\n",
    "            figure_data['marker']['colors'][num] = 0\n",
    "        else:\n",
    "            figure_data['marker']['colors'][num] = -max(figure_data['marker']['colors'])\n",
    "\n",
    "fig.update_layout(\n",
    "  hoverlabel=dict(\n",
    "        font_size=12,\n",
    "        font_family=\"Calibri\"\n",
    "    ),\n",
    "  template=\"plotly_white\",\n",
    "  paper_bgcolor=\"white\",\n",
    ")\n",
    "fig.data[0].hovertemplate = (\n",
    "  '<b>%{label}</b>'\n",
    "  '<br>' +\n",
    "  '# Number of BGCs: %{customdata[0]}'\n",
    ")\n",
    "\n",
    "fig.update_coloraxes(showscale=False)\n",
    "\n",
    "#fig.update_traces(root_color=\"lightgrey\")\n",
    "fig.data[0].textinfo = 'label+text+value'\n",
    "source.to_csv(\"assets/tables/network.csv\")\n",
    "fig.show()\n",
    "fig.write_html(\"assets/figures/Fig_4.html\")"
   ]
  },
  {
   "cell_type": "code",
   "execution_count": null,
   "id": "9558aef8-7860-4d77-8cd9-57216986e01d",
   "metadata": {},
   "outputs": [],
   "source": [
    "max(figure_data['marker']['colors'])"
   ]
  },
  {
   "cell_type": "code",
   "execution_count": null,
   "id": "fa4f0433-8034-4efd-9ce3-06783d616795",
   "metadata": {},
   "outputs": [],
   "source": [
    "figure_data['marker']['colors'][1]"
   ]
  },
  {
   "cell_type": "code",
   "execution_count": null,
   "id": "300b23ec-1210-49b1-b2a4-51832acbe454",
   "metadata": {},
   "outputs": [],
   "source": [
    "venn_category = {\"BiG-SCAPE MIBIG hits\" : set(df_edited[df_edited['fam_type_0.30'] == 'BiG-SCAPE known'].bgc_id),\n",
    "                 \"KnownClusterBlast hits\" : set(df_edited[df_edited['known_cluster_blast'] == 'antiSMASH known'].bgc_id),\n",
    "                 \"BiG-FAM hits\" : set(df_edited[df_edited['bigfam_hits'] == 'BiG-FAM match'].bgc_id),\n",
    "                 \"ARTS2 hits\" : set(df_edited[df_edited['arts_hits'] == 'ARTS2 match'].bgc_id),\n",
    "                 #\"All\" : set(df_edited.bgc_id)\n",
    "                }"
   ]
  },
  {
   "cell_type": "code",
   "execution_count": null,
   "id": "c21e82f7-d960-4339-ad44-9d10d0541a70",
   "metadata": {},
   "outputs": [],
   "source": [
    "#! pip install venn # we will use this later for visualization\n",
    "from venn import venn\n",
    "%matplotlib inline"
   ]
  },
  {
   "cell_type": "code",
   "execution_count": null,
   "id": "846b9155-b666-4141-b4d0-4f4cbe9e2b82",
   "metadata": {},
   "outputs": [],
   "source": [
    "venn_diagram = venn(venn_category)\n",
    "venn_diagram"
   ]
  },
  {
   "cell_type": "code",
   "execution_count": null,
   "id": "3492b4ab-ce49-41bd-b5ce-1855e892c0cb",
   "metadata": {},
   "outputs": [],
   "source": [
    "import pandas as pd\n",
    "import plotly.express as px \n",
    "import numpy as np\n",
    "\n",
    "df = pd.DataFrame({'Parent': ['Alba', 'John', 'John', 'Alba'],\n",
    "                   'Child': ['John', 'Alba', 'Jane', 'Mark']})\n",
    "\n",
    "# Create the treemap\n",
    "fig = px.treemap(df, path=['Parent', 'Child'])\n",
    "figure_data = fig[\"data\"][0]"
   ]
  },
  {
   "cell_type": "code",
   "execution_count": null,
   "id": "1f143c54-9f80-49e3-ae16-78e2ec57eee3",
   "metadata": {},
   "outputs": [],
   "source": [
    "figure_data"
   ]
  },
  {
   "cell_type": "code",
   "execution_count": null,
   "id": "84f9d91c-bfe7-481a-8f27-1da50e8ba439",
   "metadata": {},
   "outputs": [],
   "source": [
    "figure_data['marker']['colors']"
   ]
  },
  {
   "cell_type": "code",
   "execution_count": null,
   "id": "599099a6-804d-471d-b95d-cfd85b4c1f34",
   "metadata": {},
   "outputs": [],
   "source": [
    "source"
   ]
  },
  {
   "cell_type": "code",
   "execution_count": null,
   "id": "caa94bb2-8656-4496-a877-bcc731c64af1",
   "metadata": {},
   "outputs": [],
   "source": []
  }
 ],
 "metadata": {
  "kernelspec": {
   "display_name": "Python 3 (ipykernel)",
   "language": "python",
   "name": "python3"
  },
  "language_info": {
   "codemirror_mode": {
    "name": "ipython",
    "version": 3
   },
   "file_extension": ".py",
   "mimetype": "text/x-python",
   "name": "python",
   "nbconvert_exporter": "python",
   "pygments_lexer": "ipython3",
   "version": "3.9.16"
  }
 },
 "nbformat": 4,
 "nbformat_minor": 5
}
