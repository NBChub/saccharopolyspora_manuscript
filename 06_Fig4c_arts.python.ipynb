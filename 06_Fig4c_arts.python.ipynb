{
 "cells": [
  {
   "cell_type": "markdown",
   "id": "aa0f0d95-5e6b-436f-a971-9486d0841329",
   "metadata": {},
   "source": [
    "# ARTS2\n",
    "Summary of [ARTS2](link) results from project: `[{{ project().name }}]` \n",
    "\n",
    "## Description\n",
    "Antibiotic Resistant Target Seeker"
   ]
  },
  {
   "cell_type": "code",
   "execution_count": null,
   "id": "d21448bb-afe9-4fdb-b964-2143a0ccd1e4",
   "metadata": {
    "tags": []
   },
   "outputs": [],
   "source": [
    "import pandas as pd\n",
    "from pathlib import Path\n",
    "import plotly.graph_objects as go\n",
    "\n",
    "import altair as alt\n",
    "import ast\n",
    "import yaml\n",
    "\n",
    "import networkx as nx\n",
    "#! pip install pygraphviz\n",
    "\n",
    "import warnings\n",
    "warnings.filterwarnings('ignore')\n",
    "\n",
    "from IPython.display import display, Markdown, HTML\n",
    "from itables import to_html_datatable as DT\n",
    "import itables.options as opt\n",
    "opt.css = \"\"\"\n",
    ".itables table td { font-style: italic; font-size: .8em;}\n",
    ".itables table th { font-style: oblique; font-size: .8em; }\n",
    "\"\"\"\n",
    "opt.classes = [\"display\", \"compact\"]\n",
    "opt.lengthMenu = [5, 10, 20, 50, 100, 200, 500]"
   ]
  },
  {
   "cell_type": "markdown",
   "id": "4942908a-ac73-47c9-9adb-81a827cb8f02",
   "metadata": {},
   "source": [
    "## File configuration"
   ]
  },
  {
   "cell_type": "code",
   "execution_count": null,
   "id": "2a4cb9d9-d3da-4dfc-88bc-249cf632ca65",
   "metadata": {
    "tags": []
   },
   "outputs": [],
   "source": [
    "with open(\"config.yaml\", \"r\") as f:\n",
    "    notebook_configuration = yaml.safe_load(f)\n",
    "notebook_configuration"
   ]
  },
  {
   "cell_type": "code",
   "execution_count": null,
   "id": "53fb8b15-379c-4be1-827e-243602f89d95",
   "metadata": {
    "tags": []
   },
   "outputs": [],
   "source": [
    "bgcflow_dir = Path(notebook_configuration[\"bgcflow_dir\"])\n",
    "project_name = \"mq_saccharopolyspora\"\n",
    "report_dir = bgcflow_dir / f\"data/processed/{project_name}\"\n",
    "FIGURE = \"Figure_4\"\n",
    "\n",
    "\n",
    "df_arts = pd.read_csv(report_dir / \"tables/df_arts_as-6.1.1.csv\")\n",
    "\n",
    "bgc_path = report_dir / \"bigscape/for_cytoscape_antismash_6.1.1\"\n",
    "bgc_path = [i for i in bgc_path.glob(\"*df_clusters_0.30.csv\")][0]\n",
    "\n",
    "df_bgcs = pd.read_csv(bgc_path, index_col=0)"
   ]
  },
  {
   "cell_type": "code",
   "execution_count": null,
   "id": "78e1ec46-18db-46df-ad50-a1f3544a7625",
   "metadata": {
    "tags": []
   },
   "outputs": [],
   "source": [
    "df_tax = pd.read_csv(report_dir / \"tables/df_gtdb_meta.csv\", index_col=0)"
   ]
  },
  {
   "cell_type": "code",
   "execution_count": null,
   "id": "a6bf9656-6581-4ef3-9a2b-e57af6c43dea",
   "metadata": {
    "tags": []
   },
   "outputs": [],
   "source": [
    "lanthi_hits = []\n",
    "keyword = \"lanthi\"\n",
    "for i in df_arts.index:\n",
    "    if keyword in df_arts.loc[i, \"Type\"]:\n",
    "        lanthi_hits.append(i)\n",
    "print(f\"There are {len(df_arts.loc[lanthi_hits])} BGCs matched with keyword: {keyword}, with total of {df_arts.loc[lanthi_hits]['Core hits'].sum()} ARTS2 core hits\")"
   ]
  },
  {
   "cell_type": "code",
   "execution_count": null,
   "id": "5f27daf2-3407-4a34-9f71-ae4664d04f8e",
   "metadata": {
    "tags": []
   },
   "outputs": [],
   "source": [
    "result = {}\n",
    "ctr = 1\n",
    "for i in df_arts.index:\n",
    "    hits = ast.literal_eval(df_arts.loc[i, \"Genelist\"])\n",
    "    bgc_id = df_arts.loc[i, \"bgc_id\"]\n",
    "    for num, hits in enumerate(hits):\n",
    "        assert len(hits) == 7\n",
    "        arts_hits = {'arts_id' : int(hits[0]),\n",
    "                     'genome_id' : df_arts.loc[i, \"genome_id\"],\n",
    "                     'bgc_id' : bgc_id,\n",
    "                     'bgc_type' : df_arts.loc[i, \"Type\"],\n",
    "                     'profile' : hits[1],\n",
    "                     'start' : int(hits[2]),\n",
    "                     'stop' : int(hits[3]),\n",
    "                     'hits_type' : hits[4],\n",
    "                     'description' : hits[5],\n",
    "                     'function' : hits[6]\n",
    "                    }\n",
    "        if arts_hits['function'] == \"N/A\":\n",
    "            arts_hits['function'] = \"ResModel\"\n",
    "        result[ctr] = arts_hits\n",
    "        ctr = ctr + 1\n",
    "df_hits = pd.DataFrame.from_dict(result).T\n",
    "df_hits.to_csv(f\"assets/tables/{FIGURE}_df_arts_hits.csv\")\n",
    "\n",
    "display(HTML(DT(df_hits, columnDefs=[{\"className\": \"dt-center\", \"targets\": \"_all\"}],)))"
   ]
  },
  {
   "cell_type": "code",
   "execution_count": null,
   "id": "708692ec-91ca-4220-9712-22772aa8d352",
   "metadata": {
    "tags": []
   },
   "outputs": [],
   "source": [
    "summary_report = f\"A total of {len(df_hits.bgc_id.unique())} BGCs from {len(df_hits.genome_id.unique())} genomes have hits with {len(df_hits.profile.unique())} ARTS2 target.\"\n",
    "summary_report"
   ]
  },
  {
   "cell_type": "code",
   "execution_count": null,
   "id": "97017700-bac1-4a6b-9c07-de18d636465b",
   "metadata": {
    "tags": []
   },
   "outputs": [],
   "source": [
    "lanthi_hits = []\n",
    "for i in df_hits.index:\n",
    "    if 'lanthi' in df_hits.loc[i, \"bgc_type\"]:\n",
    "        lanthi_hits.append(i)\n",
    "lanthipeptide_report = f\"{len(df_hits.loc[lanthi_hits].bgc_id.unique())}, {len(df_hits.loc[lanthi_hits].profile.unique())}\"\n",
    "lanthipeptide_report"
   ]
  },
  {
   "cell_type": "code",
   "execution_count": null,
   "id": "034780a3-1432-4ebf-852b-3f353c1afa25",
   "metadata": {
    "tags": []
   },
   "outputs": [],
   "source": [
    "ctr = 0\n",
    "for item in [i for i in df_hits.bgc_type.value_counts().to_dict().keys() if 'lanthipeptide' in i]:\n",
    "    print(item, df_hits.bgc_type.value_counts().to_dict()[item])\n",
    "    ctr = ctr + df_hits.bgc_type.value_counts().to_dict()[item]\n",
    "ctr"
   ]
  },
  {
   "cell_type": "code",
   "execution_count": null,
   "id": "a0924e37-bea7-4194-b6b6-24d3981c286f",
   "metadata": {
    "tags": []
   },
   "outputs": [],
   "source": [
    "color = [\"#264653\", \"#287271\", \"#2a9d8f\", \"#8ab17d\", \"#e9c46a\", \"#f4a261\", \"#ee8959\", \"#e76f51\"]\n",
    "function_map = df_hits.function.value_counts().to_dict()\n",
    "arts_function_color_map = {}\n",
    "ctr = 0\n",
    "for item in function_map.keys():\n",
    "    if item == \"Unclassified\":\n",
    "        arts_function_color_map[item] = 'grey'\n",
    "        ctr = ctr - 1\n",
    "    elif ctr+1 > len(color):\n",
    "        arts_function_color_map[item] = 'grey'\n",
    "    elif item == \"ResModel\":\n",
    "        arts_function_color_map[item] = 'red'\n",
    "    else:\n",
    "        arts_function_color_map[item] = color[ctr]\n",
    "    ctr = ctr + 1\n",
    "\n",
    "arts_node_mapping = df_hits.loc[:, [\"profile\", \"description\", \"function\"]].drop_duplicates().set_index(\"profile\", drop=False)\n",
    "bgc_id_mapping = df_hits.loc[:, [\"bgc_id\", \"bgc_type\", \"genome_id\"]].drop_duplicates().set_index(\"bgc_id\", drop=False)#.T.to_dict()\n",
    "\n",
    "for c in [\"bgc_id\", \"bgc_type\", \"genome_id\"]:\n",
    "    arts_node_mapping[c] = None\n",
    "\n",
    "for c in [\"profile\", \"description\", \"function\"]:\n",
    "    bgc_id_mapping[c] = None\n",
    "    \n",
    "arts_node_mapping = arts_node_mapping.T.to_dict()\n",
    "bgc_id_mapping = bgc_id_mapping.T.to_dict()"
   ]
  },
  {
   "cell_type": "code",
   "execution_count": null,
   "id": "df3a2b07-ad54-478f-b0ea-06e157a8f563",
   "metadata": {
    "tags": []
   },
   "outputs": [],
   "source": [
    "color_map = []\n",
    "G = nx.from_pandas_edgelist(df_hits, source='bgc_id', target='profile')\n",
    "\n",
    "pos = nx.nx_agraph.graphviz_layout(G)\n",
    "\n",
    "for g in G.nodes:\n",
    "    # annotate ARTS model\n",
    "    if g in arts_node_mapping.keys():\n",
    "        for column in arts_node_mapping[g].keys():\n",
    "            attrib = str(column)\n",
    "            G.nodes[g][attrib] = arts_node_mapping[g][attrib]\n",
    "        color = arts_function_color_map[G.nodes[g]['function']]\n",
    "        color_map.append(color)\n",
    "        G.nodes[g][\"color\"] = color\n",
    "        G.nodes[g][\"node_type\"] = G.nodes[g][\"function\"]\n",
    "        G.nodes[g][\"text\"] = f\"{G.nodes[g]['profile']}<br>{G.nodes[g]['function']}<br>{G.nodes[g]['description']}\"\n",
    "    # annotate BGCs\n",
    "    elif g in bgc_id_mapping.keys():\n",
    "        for column in bgc_id_mapping[g].keys():\n",
    "            attrib = str(column)\n",
    "            G.nodes[g][attrib] = bgc_id_mapping[g][attrib]\n",
    "        color = \"blue\"\n",
    "        color_map.append(color)\n",
    "        G.nodes[g][\"color\"] = color\n",
    "        G.nodes[g][\"node_type\"] = \"BGC\"\n",
    "        taxonomy = df_tax.loc[G.nodes[g]['genome_id'], \"Organism\"]\n",
    "        GCF = df_bgcs.loc[g, \"fam_known_compounds_0.30\"]\n",
    "        G.nodes[g][\"text\"] = f\"{G.nodes[g]['bgc_id']}<br>{G.nodes[g]['bgc_type']}<br>{GCF}<br>{G.nodes[g]['genome_id']}<br>{taxonomy}\""
   ]
  },
  {
   "cell_type": "code",
   "execution_count": null,
   "id": "bca39649-4537-4324-9746-7609c3633894",
   "metadata": {
    "tags": []
   },
   "outputs": [],
   "source": [
    "for n, p in pos.items():\n",
    "    G.nodes[n]['pos'] = p"
   ]
  },
  {
   "cell_type": "code",
   "execution_count": null,
   "id": "21003596-1937-4837-9bd4-f8cc52df7a00",
   "metadata": {
    "tags": []
   },
   "outputs": [],
   "source": [
    "edge_trace = go.Scatter(\n",
    "    x=[],\n",
    "    y=[],\n",
    "    name=\"ARTS2 hit\",\n",
    "    line=dict(width=0.5,color='#888'),\n",
    "    hoverinfo='none',\n",
    "    mode='lines')\n",
    "\n",
    "for edge in G.edges():\n",
    "    x0, y0 = G.nodes[edge[0]]['pos']\n",
    "    x1, y1 = G.nodes[edge[1]]['pos']\n",
    "    edge_trace['x'] += tuple([x0, x1, None])\n",
    "    edge_trace['y'] += tuple([y0, y1, None])"
   ]
  },
  {
   "cell_type": "code",
   "execution_count": null,
   "id": "881256ce-f0dd-4f5b-88b9-b17aa360b7f0",
   "metadata": {
    "tags": []
   },
   "outputs": [],
   "source": [
    "def create_node_trace(G, node_type, shape=\"circle\", opacity=0.8):\n",
    "    node_color = []\n",
    "    for node in G.nodes():\n",
    "        if G.nodes[node]['node_type'] == node_type:\n",
    "            node_color.append(G.nodes[node]['color'])    \n",
    "\n",
    "    node_trace = go.Scatter(\n",
    "        x=[],\n",
    "        y=[],\n",
    "        name=node_type,\n",
    "        text=[],\n",
    "        mode='markers',\n",
    "        hoverinfo='text',\n",
    "        marker_symbol=shape,\n",
    "        opacity=opacity,\n",
    "        marker=dict(\n",
    "            showscale=False,\n",
    "            color=node_color,\n",
    "            size=10,\n",
    "            line=dict(width=0)))\n",
    "\n",
    "    for node in G.nodes():\n",
    "        if G.nodes[node]['node_type'] == node_type:\n",
    "            x, y = G.nodes[node]['pos']\n",
    "            node_trace['x'] += tuple([x])\n",
    "            node_trace['y'] += tuple([y])\n",
    "\n",
    "    for node, adjacencies in enumerate(G.adjacency()):\n",
    "        if G.nodes[adjacencies[0]]['node_type'] == node_type:\n",
    "            node_trace['marker']['color']+=tuple([len(adjacencies[1])])\n",
    "            node_type = G.nodes[adjacencies[0]]['node_type']\n",
    "            description = G.nodes[adjacencies[0]]['bgc_type']\n",
    "            node_info = G.nodes[adjacencies[0]]['text']\n",
    "            node_trace['text']+=tuple([node_info])\n",
    "    \n",
    "    return node_trace"
   ]
  },
  {
   "cell_type": "code",
   "execution_count": null,
   "id": "d5ca6931-3f2b-4635-9b78-f355e303efb3",
   "metadata": {
    "tags": []
   },
   "outputs": [],
   "source": [
    "node_traces = list(function_map.keys())\n",
    "node_traces.append(\"BGC\")\n",
    "traces = [edge_trace]\n",
    "for trace in node_traces:\n",
    "    shape = \"square\"\n",
    "    if trace == \"BGC\":\n",
    "        shape = \"circle\"\n",
    "    elif trace == \"ResModel\":\n",
    "        shape = \"star\"\n",
    "    new_trace = create_node_trace(G, trace, shape=shape)\n",
    "    traces.append(new_trace)"
   ]
  },
  {
   "cell_type": "code",
   "execution_count": null,
   "id": "187055f1-b476-47d5-9231-4898a8138557",
   "metadata": {
    "tags": []
   },
   "outputs": [],
   "source": [
    "fig = go.Figure(data=traces,\n",
    "                layout=go.Layout(\n",
    "                    paper_bgcolor='rgba(0,0,0,0)',\n",
    "                    plot_bgcolor='rgba(0,0,0,0)',\n",
    "                    showlegend=True,\n",
    "                    hovermode='closest',\n",
    "                    margin=dict(b=20,l=5,r=5,t=40),\n",
    "                    xaxis=dict(showgrid=False, zeroline=False, showticklabels=False),\n",
    "                    yaxis=dict(showgrid=False, zeroline=False, showticklabels=False),\n",
    "                    width=750, height=900))\n",
    "\n",
    "fig = fig.update_layout(legend=dict(\n",
    "    orientation=\"h\",\n",
    "    yanchor=\"top\",\n",
    "    y=0,\n",
    "    xanchor=\"left\",\n",
    "    x=0\n",
    "))\n",
    "fig"
   ]
  },
  {
   "cell_type": "code",
   "execution_count": null,
   "id": "eb1f227d-a31c-423c-a067-71123c407951",
   "metadata": {
    "tags": []
   },
   "outputs": [],
   "source": [
    "outfile = Path(f\"assets/figures/{FIGURE}/{FIGURE}c.svg\")\n",
    "outfile.parent.mkdir(parents=True, exist_ok=True)\n",
    "fig.write_image(outfile)"
   ]
  },
  {
   "cell_type": "code",
   "execution_count": null,
   "id": "eda90395-9bc7-477b-9541-a8d7556c7ad9",
   "metadata": {
    "tags": []
   },
   "outputs": [],
   "source": [
    "for node in G.nodes:\n",
    "    for attrib in G.nodes[node]:\n",
    "        if type(G.nodes[node][attrib]) == tuple:\n",
    "            G.nodes[node][attrib] = str(G.nodes[node][attrib])\n",
    "        elif G.nodes[node][attrib] == None:\n",
    "            G.nodes[node][attrib] = str(G.nodes[node][attrib])\n",
    "\n",
    "            \n",
    "output_path = Path(f\"assets/data/{FIGURE}_arts.graphml\")\n",
    "output_path.parent.mkdir(exist_ok=True, parents=True)\n",
    "nx.write_graphml(G, output_path)"
   ]
  },
  {
   "cell_type": "markdown",
   "id": "61288674-751b-44c1-8cb9-92ccb27bd0c6",
   "metadata": {},
   "source": [
    "## Figure DESCRIPTION"
   ]
  },
  {
   "cell_type": "code",
   "execution_count": null,
   "id": "e21d882c-072a-44fe-9743-3689b051bf2e",
   "metadata": {
    "tags": []
   },
   "outputs": [],
   "source": [
    "n_bgc_hits = len(df_hits.bgc_id.unique())\n",
    "n_arts_profile = len(df_hits.arts_id)\n",
    "n_arts_profile_unique = len(df_hits.profile.unique())\n",
    "\n",
    "# Load region table\n",
    "df_antismash = pd.read_csv(report_dir / \"tables/df_regions_antismash_6.1.1.csv\")\n",
    "df_antismash = df_antismash[df_antismash.bgc_id.isin(df_hits.bgc_id)]\n",
    "df_antismash_unknown = len(df_antismash[df_antismash.similarity < 0.8])\n",
    "\n",
    "resmodel_hits = len(df_hits[df_hits.function == 'ResModel'].profile.unique())\n",
    "core_hits = len(df_hits[df_hits.function != 'ResModel'].profile.unique())"
   ]
  },
  {
   "cell_type": "code",
   "execution_count": null,
   "id": "4c677849-5c2b-4bb8-9abb-7b2f760b143a",
   "metadata": {
    "tags": []
   },
   "outputs": [],
   "source": [
    "# how many BGCs have connection with ResModel?\n",
    "resmodel_nodes = [n for n in G.nodes if G.nodes[n]['function'] == \"ResModel\"]\n",
    "bgc_resmodel = []\n",
    "for resmodel in resmodel_nodes:\n",
    "    neighbors = nx.neighbors(G, resmodel)\n",
    "    result = [n for n in neighbors]\n",
    "    for r in result:\n",
    "        bgc_resmodel.append(r)\n",
    "n_bgc_resmodel = len(set(bgc_resmodel))"
   ]
  },
  {
   "cell_type": "code",
   "execution_count": null,
   "id": "e6e6e37a-8496-4774-b614-5b77605be4ae",
   "metadata": {
    "tags": []
   },
   "outputs": [],
   "source": [
    "# Use category table from Fig 4a\n",
    "df_treetable = pd.read_csv(\"assets/tables/Figure_4a_network.csv\", index_col=0)\n",
    "df_treetable_resfam = df_treetable[df_treetable.bgc_id.isin(bgc_resmodel)].known_cluster_blast.value_counts().to_dict()\n",
    "df_treetable_resfam"
   ]
  },
  {
   "cell_type": "markdown",
   "id": "8d0eb5ae-0473-422a-85f0-7358ca47d523",
   "metadata": {},
   "source": [
    "\n",
    "ARTS2 detection includes three criteria: duplication, localization within a biosynthetic gene cluster, and evidence of Horizontal Gene Transfer (HGT). We found 98 BGCs that had at least one gene with 3 criteria and 61 others with at least one gene with 2 criteria. Whereas the remaining 64 BGCs had genes with only one of the criteria being satisfied indicating relatively lower confidence of bioactivity.\n",
    "\"\"\""
   ]
  },
  {
   "cell_type": "code",
   "execution_count": null,
   "id": "71b87841-998d-4bc8-8ac0-a7ef3f2efc57",
   "metadata": {
    "tags": []
   },
   "outputs": [],
   "source": [
    "text1=f\"\"\"\n",
    "Many BGCs coding for known antibiotics also contain genes assisting in self-resistance. By looking for these resistance models, ARTS2 assists in prioritizing novel target screening with potential bioactivity. We detected {n_bgc_hits} BGCs that had hits against {n_arts_profile} ({n_arts_profile_unique} unique) gene profiles from the ARTS model (Figure 4C).\n",
    "\"\"\""
   ]
  },
  {
   "cell_type": "code",
   "execution_count": null,
   "id": "a4739374-f72c-419e-9425-f855f708817b",
   "metadata": {
    "tags": []
   },
   "outputs": [],
   "source": [
    "text2=f\"\"\"\n",
    "The interaction network represented an overview of BGCs in proximity to the ARTS resistance gene models ({resmodel_hits} unique) or the core genes models ({core_hits} unique) from different functional categories (Figure 4C). We found that {n_bgc_resmodel} BGCs had hits against resistance genes and are more likely to have an antibiotic potential. We also noted that {df_treetable_resfam['antiSMASH unknown']} of the {n_bgc_resmodel} BGCs had no similarity to known clusters (either from antiSMASH KonowClusterBlast or BiG-SCAPE results), thus representing novel bioactive potential of the genus. This analysis further motivated an exploratory analysis of set of BGCs of unknown function that shared proximity to the same resistance or core gene model ({df_antismash_unknown} BGCs), as represented in the last section of mycofactin-related BGCs of this study.\n",
    "\"\"\""
   ]
  },
  {
   "cell_type": "code",
   "execution_count": null,
   "id": "c49a5aab-0857-4895-a30d-28ec2fc16d11",
   "metadata": {
    "tags": []
   },
   "outputs": [],
   "source": [
    "print(text1, text2)"
   ]
  },
  {
   "cell_type": "code",
   "execution_count": null,
   "id": "f32200f0-0bae-49a4-ae05-823ab8b900a4",
   "metadata": {
    "tags": []
   },
   "outputs": [],
   "source": [
    "df_subset_resfam_unknown = df_treetable[df_treetable.bgc_id.isin(bgc_resmodel)]\n",
    "df_subset_resfam_unknown = df_subset_resfam_unknown[(df_subset_resfam_unknown.known_cluster_blast == \"antiSMASH unknown\") & (df_subset_resfam_unknown['fam_type_0.30'] == \"BiG-SCAPE unknown\")]"
   ]
  },
  {
   "cell_type": "code",
   "execution_count": null,
   "id": "5e64011e-c200-47c8-b71c-b3deb65dc2e0",
   "metadata": {
    "tags": []
   },
   "outputs": [],
   "source": [
    "df_antismash[df_antismash.bgc_id.isin(df_subset_resfam_unknown.bgc_id)].most_similar_known_cluster_description.value_counts()"
   ]
  },
  {
   "cell_type": "code",
   "execution_count": null,
   "id": "a7729f01-aa2b-4ca4-bde9-f1614e336abe",
   "metadata": {
    "tags": []
   },
   "outputs": [],
   "source": [
    "df_subset_resfam_unknown"
   ]
  },
  {
   "cell_type": "code",
   "execution_count": null,
   "id": "6b880137-f710-4775-8b10-45f69a090350",
   "metadata": {
    "tags": []
   },
   "outputs": [],
   "source": [
    "df_unknown[~df_unknown.bgc_id.isin(bgc_resmodel)]"
   ]
  },
  {
   "cell_type": "markdown",
   "id": "4d8fe1ca-30f9-472a-9e01-4e9db61825b8",
   "metadata": {},
   "source": [
    "## References\n",
    "\n",
    "<font size=\"2\">\n",
    "\n",
    "{% for i in project().rule_used['arts']['references'] %}\n",
    "- *{{ i }}*\n",
    "{% endfor %}\n",
    "\n",
    "</font>"
   ]
  }
 ],
 "metadata": {
  "kernelspec": {
   "display_name": "Python 3 (ipykernel)",
   "language": "python",
   "name": "python3"
  },
  "language_info": {
   "codemirror_mode": {
    "name": "ipython",
    "version": 3
   },
   "file_extension": ".py",
   "mimetype": "text/x-python",
   "name": "python",
   "nbconvert_exporter": "python",
   "pygments_lexer": "ipython3",
   "version": "3.9.16"
  }
 },
 "nbformat": 4,
 "nbformat_minor": 5
}
