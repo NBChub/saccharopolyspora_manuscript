{
 "cells": [
  {
   "cell_type": "code",
   "execution_count": null,
   "id": "38567cf4-ee71-4324-990a-db6294a89e20",
   "metadata": {},
   "outputs": [],
   "source": [
    "from svgutils.compose import *\n",
    "from svgutils.compose import Figure\n",
    "from pathlib import Path\n",
    "from cairosvg import svg2png"
   ]
  },
  {
   "cell_type": "code",
   "execution_count": null,
   "id": "b571c4b5-cce7-4f07-8be0-dcdae9cf3def",
   "metadata": {
    "tags": []
   },
   "outputs": [],
   "source": [
    "FIGURE = \"Figure_4\""
   ]
  },
  {
   "cell_type": "code",
   "execution_count": null,
   "id": "f6562df8-8184-4253-af8a-aa4cefaed27b",
   "metadata": {
    "tags": []
   },
   "outputs": [],
   "source": [
    "circle=\"\"\"<?xml version=\"1.0\" encoding=\"UTF-8\" standalone=\"no\"?>\n",
    "<svg xmlns=\"http://www.w3.org/2000/svg\" width=\"70\" height=\"70\">\n",
    "<circle cx=\"25\" cy=\"25\" r=\"30\" fill=\"#fff\" stroke=\"red\" stroke-width=\"1\" fill-opacity=\"0.0\"/>\n",
    "</svg>\"\"\"\n",
    "\n",
    "outfile = Path(f\"assets/figures/{FIGURE}/doodles/circle.svg\")\n",
    "outfile.parent.mkdir(parents=True, exist_ok=True)\n",
    "with open(outfile, \"w\") as f:\n",
    "    f.write(circle)"
   ]
  },
  {
   "cell_type": "code",
   "execution_count": null,
   "id": "42222dcb-9d20-4276-b75c-6ee8bc02db62",
   "metadata": {
    "tags": []
   },
   "outputs": [],
   "source": [
    "labels = {}\n",
    "targets = ['201888', '215691', '220008', '203048']\n",
    "\n",
    "with open(f\"assets/figures/{FIGURE}/{FIGURE}b.svg\", \"r\") as f:\n",
    "    xml_data = f.read().split(\">\")\n",
    "    for target in targets:\n",
    "        for num, line in enumerate(xml_data):\n",
    "            if f'BiG-FAM_id: {target}' in line:\n",
    "                coord = [i for i in line.split() if 'transform' in i][0].strip('transform=\"translate').strip(\"(\").strip(\")\").split(\",\")\n",
    "                coord = [float(i) for i in coord]\n",
    "                labels[target] = coord\n",
    "labels"
   ]
  },
  {
   "cell_type": "code",
   "execution_count": null,
   "id": "e21c0a8e-aeed-4eb9-970c-740f5a8d177f",
   "metadata": {
    "tags": []
   },
   "outputs": [],
   "source": [
    "\n",
    "final_figure = Figure(\"1200\", \"1200\",\n",
    "                      Panel(\n",
    "                          SVG(f\"assets/figures/{FIGURE}/{FIGURE}a.svg\").scale(0.7).move(0, -20),\n",
    "                          Text(\"(a)\", 0, 0, size=12, weight='bold'),\n",
    "                      ).move(0, 25),\n",
    "                      Panel(\n",
    "                          SVG(f\"assets/figures/{FIGURE}/{FIGURE}b.svg\").scale(1),\n",
    "                          Text(\"(b)\", 0, 0, size=12, weight='bold'),\n",
    "                          Text(f\"GCF_{targets[0]}\", labels[targets[0]][0]+40, labels[targets[0]][1]+5, size=6, weight='normal'),\n",
    "                          Text(f\"GCF_{targets[1]}\", labels[targets[1]][0]+30, labels[targets[1]][1]+20, size=6, weight='normal'),\n",
    "                          Text(f\"GCF_{targets[2]}\", labels[targets[2]][0]+40, labels[targets[2]][1]+8, size=6, weight='normal'),\n",
    "                          Text(f\"GCF_{targets[3]}\", labels[targets[3]][0]+20, labels[targets[3]][1]+5, size=6, weight='normal'),\n",
    "                      ).move(550, 25),\n",
    "                      Panel(\n",
    "                          SVG(f\"assets/figures/{FIGURE}/{FIGURE}c.svg\").scale(0.65).move(-20, 0),\n",
    "                          Text(\"(c)\", 0, 0, size=12, weight='bold'),\n",
    "                          SVG(f\"assets/figures/{FIGURE}/doodles/circle.svg\").scale(1).move(330, 165),\n",
    "                      ).move(550, 350),\n",
    "                     )\n",
    "final_figure"
   ]
  },
  {
   "cell_type": "code",
   "execution_count": null,
   "id": "02cc2830-b32d-4195-aa25-4c0a5e86155e",
   "metadata": {
    "tags": []
   },
   "outputs": [],
   "source": [
    "final_figure.save(f\"assets/figures/{FIGURE}/{FIGURE}.svg\")\n",
    "svg2png(url=f\"assets/figures/{FIGURE}/{FIGURE}.svg\", write_to=f\"assets/figures/{FIGURE}/{FIGURE}.png\")"
   ]
  }
 ],
 "metadata": {
  "kernelspec": {
   "display_name": "Python 3 (ipykernel)",
   "language": "python",
   "name": "python3"
  },
  "language_info": {
   "codemirror_mode": {
    "name": "ipython",
    "version": 3
   },
   "file_extension": ".py",
   "mimetype": "text/x-python",
   "name": "python",
   "nbconvert_exporter": "python",
   "pygments_lexer": "ipython3",
   "version": "3.9.16"
  }
 },
 "nbformat": 4,
 "nbformat_minor": 5
}
