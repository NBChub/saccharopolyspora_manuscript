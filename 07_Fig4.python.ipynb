{
 "cells": [
  {
   "cell_type": "code",
   "execution_count": null,
   "id": "38567cf4-ee71-4324-990a-db6294a89e20",
   "metadata": {},
   "outputs": [],
   "source": [
    "from svgutils.compose import *\n",
    "from svgutils.compose import Figure\n",
    "from pathlib import Path\n",
    "from cairosvg import svg2png"
   ]
  },
  {
   "cell_type": "code",
   "execution_count": null,
   "id": "b571c4b5-cce7-4f07-8be0-dcdae9cf3def",
   "metadata": {
    "tags": []
   },
   "outputs": [],
   "source": [
    "FIGURE = \"Figure_4\""
   ]
  },
  {
   "cell_type": "code",
   "execution_count": null,
   "id": "e21c0a8e-aeed-4eb9-970c-740f5a8d177f",
   "metadata": {
    "tags": []
   },
   "outputs": [],
   "source": [
    "final_figure = Figure(\"1200\", \"800\",\n",
    "                      Panel(\n",
    "                          SVG(f\"assets/figures/{FIGURE}/{FIGURE}a.svg\").scale(0.7),\n",
    "                          Text(\"(a)\", 0, 0, size=12, weight='bold'),\n",
    "                      ).move(0, 25),\n",
    "                      Panel(\n",
    "                          SVG(f\"assets/figures/{FIGURE}/{FIGURE}b.svg\").scale(0.7),\n",
    "                          Text(\"(b)\", 0, 0, size=12, weight='bold'),\n",
    "                      ).move(550, 25),\n",
    "                      Panel(\n",
    "                          SVG(f\"assets/figures/{FIGURE}/{FIGURE}c.svg\").scale(0.5),\n",
    "                          Text(\"(c)\", 0, 0, size=12, weight='bold'),\n",
    "                      ).move(550, 350),\n",
    "                     )\n",
    "final_figure"
   ]
  },
  {
   "cell_type": "code",
   "execution_count": null,
   "id": "02cc2830-b32d-4195-aa25-4c0a5e86155e",
   "metadata": {
    "tags": []
   },
   "outputs": [],
   "source": [
    "final_figure.save(f\"assets/figures/{FIGURE}/{FIGURE}.svg\")\n",
    "svg2png(url=f\"assets/figures/{FIGURE}/{FIGURE}.svg\", write_to=f\"assets/figures/{FIGURE}/{FIGURE}.png\")"
   ]
  }
 ],
 "metadata": {
  "kernelspec": {
   "display_name": "Python 3 (ipykernel)",
   "language": "python",
   "name": "python3"
  },
  "language_info": {
   "codemirror_mode": {
    "name": "ipython",
    "version": 3
   },
   "file_extension": ".py",
   "mimetype": "text/x-python",
   "name": "python",
   "nbconvert_exporter": "python",
   "pygments_lexer": "ipython3",
   "version": "3.9.16"
  }
 },
 "nbformat": 4,
 "nbformat_minor": 5
}
