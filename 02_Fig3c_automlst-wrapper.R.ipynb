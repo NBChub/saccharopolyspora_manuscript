{
 "cells": [
  {
   "cell_type": "markdown",
   "id": "aa0f0d95-5e6b-436f-a971-9486d0841329",
   "metadata": {},
   "source": [
    "# autoMLST Wrapper\n",
    "Summary of [AutoMLST Wrapper](https://github.com/KatSteinke/automlst-simplified-wrapper) results from project: `[{{ project().name }}]`\n",
    "\n",
    "## Description\n",
    "A fork of [autoMLST](https://bitbucket.org/ziemertlab/automlst) with a simplified wrapper script bypassing additional organism selection."
   ]
  },
  {
   "cell_type": "code",
   "execution_count": null,
   "id": "d21448bb-afe9-4fdb-b964-2143a0ccd1e4",
   "metadata": {
    "tags": []
   },
   "outputs": [],
   "source": [
    "import pandas as pd\n",
    "from pathlib import Path\n",
    "import yaml\n",
    "\n",
    "import warnings\n",
    "warnings.filterwarnings('ignore')\n",
    "\n",
    "%load_ext rpy2.ipython"
   ]
  },
  {
   "cell_type": "markdown",
   "id": "361672c3-96c0-4c80-b869-9ea7b74d325d",
   "metadata": {},
   "source": [
    "## File configurations"
   ]
  },
  {
   "cell_type": "code",
   "execution_count": null,
   "id": "f6e108e2-2990-4970-98dd-fe58a74c86e8",
   "metadata": {},
   "outputs": [],
   "source": [
    "with open(\"config.yaml\", \"r\") as f:\n",
    "    notebook_configuration = yaml.safe_load(f)\n",
    "notebook_configuration"
   ]
  },
  {
   "cell_type": "code",
   "execution_count": null,
   "id": "53fb8b15-379c-4be1-827e-243602f89d95",
   "metadata": {
    "tags": []
   },
   "outputs": [],
   "source": [
    "# Set up paths and input file\n",
    "bgcflow_dir = Path(notebook_configuration[\"bgcflow_dir\"])\n",
    "project_name = \"mq_saccharopolyspora\"\n",
    "report_dir = bgcflow_dir / f\"data/processed/{project_name}\"\n",
    "FIGURE = \"Figure_3\"\n",
    "\n",
    "with open(report_dir / \"automlst_wrapper/final.newick\", \"r\") as f:\n",
    "    data = f.readlines()\n",
    "\n",
    "value_to_replace = [i.split(\":\")[0] for i in data[0].replace(\"(\", \"\").split(\",\")]\n",
    "\n",
    "new_dict = {}\n",
    "df = pd.read_csv(report_dir / \"automlst_wrapper/df_genomes_tree.csv\")\n",
    "genome_ids = list(df.genome_id)\n",
    "for g in genome_ids:\n",
    "    for v in value_to_replace:\n",
    "        if v.startswith(g.split(\".\")[0]):\n",
    "            new_dict[v] = g\n",
    "            value_to_replace.remove(v)\n",
    "\n",
    "data = data[0]\n",
    "for k in new_dict.keys():\n",
    "    data = data.replace(k, new_dict[k])\n",
    "\n",
    "with open(report_dir / \"automlst_wrapper/final_corrected.newick\", \"w\") as f:\n",
    "    f.write(data)\n",
    "\n",
    "# Prepare data tables\n",
    "gtdtbk = Path(report_dir / \"tables/df_gtdb_meta.csv\")\n",
    "mash = Path(f\"assets/tables/{FIGURE}b_mash_hcluster.csv\")\n",
    "bigscape = Path(f\"assets/tables/{FIGURE}c_bigscape_class.csv\")\n",
    "antismash = Path(f\"assets/tables/{FIGURE}c_bgcs_count.csv\")\n",
    "seqfu = Path(f\"assets/tables/{FIGURE}a_df_seqfu_annotated.csv\")\n",
    "ncbi = report_dir / \"tables/df_ncbi_meta.csv\"\n",
    "\n",
    "# merge data tables for tree\n",
    "df_mash = pd.read_csv(mash, index_col=0)\n",
    "df_gtdbtk = pd.read_csv(gtdtbk, index_col=0)\n",
    "df_gtdbtk = df_gtdbtk.loc[:, [\"Domain\", \"Phylum\", \"Class\", \"Order\", \"Family\", \"Genus\", \"Species\", \"Organism\"]]\n",
    "df = pd.concat([df_mash, df_gtdbtk], axis=1, join=\"inner\")\n",
    "df_seqfu = pd.read_csv(seqfu, index_col=0).loc[:, \"sequence_quality\"]\n",
    "df = pd.concat([df, df_seqfu], axis=1, join=\"inner\")\n",
    "df_ncbi = pd.read_csv(ncbi, index_col=0).loc[:, \"strain\"]\n",
    "df = pd.concat([df, df_ncbi], axis=1, join=\"inner\")\n",
    "\n",
    "## manual annotation for tree\n",
    "### Rename MASH based Species Phylogroup\n",
    "# df[\"Species_Phylogroup\"] = [f\"P{i + 1}\" for i in df.hcluster]\n",
    "df = df.reset_index(drop=False).rename(columns={\"index\" : \"genome_id\"})"
   ]
  },
  {
   "cell_type": "code",
   "execution_count": null,
   "id": "87526a92-54a0-4ce6-800b-f13fa1d8b7cc",
   "metadata": {},
   "outputs": [],
   "source": [
    "# Renaming of some strains based on redundancy\n",
    "df.loc[9,\"strain\"] = \"NRRL 30141\"\n",
    "df.loc[8,\"strain\"] = \"DSM 44228\"\n",
    "df.loc[22,\"strain\"] = \"DSM 40517\"\n",
    "df.loc[24,\"strain\"] = \"DSM 40517\""
   ]
  },
  {
   "cell_type": "code",
   "execution_count": null,
   "id": "6d0a1ed2-e591-4d1b-997d-e8afb5754628",
   "metadata": {},
   "outputs": [],
   "source": [
    "### Set up tip labels to show\n",
    "df['tip_label'] = [f\"{df.loc[i, 'phylogroup']} | {df.loc[i, 'genome_id']} | {df.loc[i, 'Organism'].replace('s__Saccharopolyspora','S')} ({df.loc[i, 'strain']})\" for i in df.index]\n",
    "\n",
    "# save to intermediate file\n",
    "df.to_csv(f\"assets/tables/{FIGURE}c_ggtree.csv\", index=False)"
   ]
  },
  {
   "cell_type": "code",
   "execution_count": null,
   "id": "209961a4-d129-4c86-80c7-91b6cb14d437",
   "metadata": {},
   "outputs": [],
   "source": [
    "df_bgcs_count = pd.DataFrame()\n",
    "df_antismash = pd.read_csv(report_dir / \"tables/df_antismash_6.1.1_summary.csv\").set_index(\"genome_id\")\n",
    "#df_antismash = df_antismash.loc[:, [\"bgcs_count\", \"bgcs_on_contig_edge\"]]\n",
    "df_bgcs_count[\"bgcs_on_contig_edge\"] = df_antismash[\"bgcs_on_contig_edge\"]\n",
    "df_bgcs_count[\"complete_bgcs\"] = df_antismash[\"bgcs_count\"] - df_antismash[\"bgcs_on_contig_edge\"] "
   ]
  },
  {
   "cell_type": "code",
   "execution_count": null,
   "id": "85c7c54b-3046-4beb-aff2-badd278125a0",
   "metadata": {},
   "outputs": [],
   "source": [
    "df_bgcs_count.to_csv(antismash)"
   ]
  },
  {
   "cell_type": "code",
   "execution_count": null,
   "id": "15b649b0-54d0-44a1-bda0-099ad3f315ba",
   "metadata": {},
   "outputs": [],
   "source": [
    "# barchart on column 1\n",
    "#Path(\"assets/tables/\")\n",
    "df_antismash = pd.read_csv(antismash, index_col=0)\n",
    "df_antismash = df_antismash.stack().reset_index().rename(columns={\"level_1\" : \"bgc_status\", 0 : \"value\"})\n",
    "df_antismash.to_csv(f\"assets/tables/{FIGURE}c_bgcs_count_stacked.csv\", index=False)"
   ]
  },
  {
   "cell_type": "code",
   "execution_count": null,
   "id": "b7282c7e-f520-4b9f-8f87-70269a52c817",
   "metadata": {},
   "outputs": [],
   "source": [
    "# barchart on column 2\n",
    "bigscape_path = [i for i in (report_dir / \"bigscape/for_cytoscape_antismash_6.1.1/\").glob(\"*df_clusters_0.30.csv\")]\n",
    "assert len(bigscape_path) == 1\n",
    "df_bigscape = pd.read_csv(bigscape_path[0]).groupby([\"genome_id\", \"bigscape_class\"]).count()[\"bgc_id\"].reset_index()\n",
    "df_bigscape = df_bigscape.rename(columns={\"bgc_id\":\"value\"})\n",
    "df_bigscape.to_csv(f\"assets/tables/{FIGURE}c_bigscape_class_stacked.csv\", index=False)"
   ]
  },
  {
   "cell_type": "code",
   "execution_count": null,
   "id": "b6503227-61f9-44e1-8080-6d3c8266e02f",
   "metadata": {
    "tags": []
   },
   "outputs": [],
   "source": [
    "%%R\n",
    "library(\"treeio\")\n",
    "library(\"ggtree\")\n",
    "library(\"tidyverse\")\n",
    "library(\"ggstar\")\n",
    "library(\"ggnewscale\")\n",
    "library(\"ggtreeExtra\")\n",
    "library(\"phangorn\")\n",
    "library(\"svglite\")"
   ]
  },
  {
   "cell_type": "code",
   "execution_count": null,
   "id": "75503a9e-7c6c-4d1b-989b-71f20cf7cf48",
   "metadata": {},
   "outputs": [],
   "source": [
    "R_tree = str(report_dir / \"automlst_wrapper/final_corrected.newick\")\n",
    "R_data = f\"assets/tables/{FIGURE}c_ggtree.csv\"\n",
    "R_bgc_data = f\"assets/tables/{FIGURE}c_bgcs_count_stacked.csv\"\n",
    "R_bigscape_data = f\"assets/tables/{FIGURE}c_bigscape_class_stacked.csv\""
   ]
  },
  {
   "cell_type": "code",
   "execution_count": null,
   "id": "ff8d1fb5-c54b-47e0-89f7-8d8d7f482ac2",
   "metadata": {
    "tags": []
   },
   "outputs": [],
   "source": [
    "%%R  -w 1200 -h 1200 -i R_tree -i R_data\n",
    "tree <- read.tree(R_tree)\n",
    "#data <- read.csv(\"../automlst_wrapper/df_genomes_tree.csv\")\n",
    "data <- read.csv(R_data)\n",
    "\n",
    "# midpoint root\n",
    "tree <- phangorn::midpoint(tree)\n",
    "tree <- ladderize(reorder(tree))"
   ]
  },
  {
   "cell_type": "code",
   "execution_count": null,
   "id": "b3a93ac1-2472-4a78-94ef-284db5dfc9b8",
   "metadata": {},
   "outputs": [],
   "source": [
    "%%R  -w 600 -h 300\n",
    "\n",
    "p <- ggtree(tree)\n",
    "p <- p %<+% data\n",
    "#p"
   ]
  },
  {
   "cell_type": "code",
   "execution_count": null,
   "id": "cf97a3a1-7fc9-4e14-8b5a-06d957d7e8a3",
   "metadata": {},
   "outputs": [],
   "source": [
    "%%R\n",
    "p2 = p + geom_tiplab(aes(label=tip_label, fill=phylogroup),\n",
    "                     size=2.6, hjust=-0.03, family='sans',\n",
    "                    linetype = \"dotted\", linesize = 1) + # size of label border) +\n",
    "        hexpand(1.5) +\n",
    "        geom_tippoint(size=2.6, alpha=0.8, aes(colour=phylogroup, stroke=1, shape=sequence_quality)) + \n",
    "        scale_color_manual(labels=c(\"P1\", \"P2\", \"P3\", \"P4\", \"P5\", \"P6\", \"P7\", \"P8\"),\n",
    "                           values=c('#264653','#e9c46a','#808080', '#808080','#f4a261','#808080', '#e76f51', '#2a9d8f'))\n",
    "#p2"
   ]
  },
  {
   "cell_type": "code",
   "execution_count": null,
   "id": "b55baee0-b8a4-44e0-a0dc-520cf4cff8a7",
   "metadata": {},
   "outputs": [],
   "source": [
    "%%R -i R_bgc_data\n",
    "# add antismash_data\n",
    "bgc_data <- read.csv(R_bgc_data)\n",
    "p3 = p2 + new_scale_fill() + geom_facet(panel='BGCs Status',\n",
    "                     geom=geom_bar,\n",
    "                     data=bgc_data,\n",
    "                     mapping=aes(x=value, fill=bgc_status),\n",
    "                     position=\"stack\",\n",
    "                     orientation=\"y\", \n",
    "                     stat=\"identity\") +\n",
    "        scale_fill_manual(labels=c(\"bgcs_on_contig_edge\", \"complete_bgcs\"),\n",
    "                          values=c(\"#cc2936\", \"#08415c\")) \n",
    "#p3"
   ]
  },
  {
   "cell_type": "code",
   "execution_count": null,
   "id": "2a1c2f73-d7ee-45ff-ae1b-a1d61d0840d3",
   "metadata": {},
   "outputs": [],
   "source": [
    "%%R -w 800 -h 500 -u px -i R_bigscape_data\n",
    "# add bigscape_data\n",
    "bigscape_data <- read.csv(R_bigscape_data)\n",
    "p4 = p3 + new_scale_fill() + geom_facet(panel='BiG-SCAPE Class',\n",
    "                     geom=geom_bar,\n",
    "                     data=bigscape_data,\n",
    "                     mapping=aes(x=value, fill=bigscape_class),\n",
    "                     position=\"stack\",\n",
    "                     orientation=\"y\", \n",
    "                     stat=\"identity\") +\n",
    "        scale_fill_manual(labels=c(\"NRPS\", \"Others\", \"PKS-NRP Hybrids\", \"PKSI\", \n",
    "                                   \"PKSOther\", \"RiPPs\", \"Saccharides\", \"Terpene\"),\n",
    "                          values=c(\"#734f5a\", \"#264653\", \"#2a9d8f\", \"#e9c46a\", \n",
    "                                   \"#f4a261\", \"#e76f51\", \"#941c2f\", \"#c05761\")) \n",
    "\n",
    "p5 = p4 + theme(text=element_text(size=10, family=\"sans\")) + theme_bw() \n",
    "\n",
    "p6 = facet_widths(p5, widths = c(80, 20, 30))\n",
    "p6"
   ]
  },
  {
   "cell_type": "code",
   "execution_count": null,
   "id": "dea31883-0022-45eb-878d-c13bad7ec8a0",
   "metadata": {},
   "outputs": [],
   "source": [
    "R_fig3c_svg = f\"assets/figures/{FIGURE}/c.svg\"\n",
    "R_fig3c_pdf = f\"assets/figures/{FIGURE}/c.pdf\""
   ]
  },
  {
   "cell_type": "code",
   "execution_count": null,
   "id": "a3c579c2-2947-49b1-a8af-2e6636bbe843",
   "metadata": {},
   "outputs": [],
   "source": [
    "%%R -i R_fig3c_svg -i R_fig3c_pdf\n",
    "ggsave(file=R_fig3c_svg , plot=p6, device=svglite, width=3600, height=1800, units=\"px\")\n",
    "ggsave(plot=p6, width=3200, height=1600, units=\"px\", dpi=300, filename=R_fig3c_pdf, useDingbats=FALSE)"
   ]
  },
  {
   "cell_type": "markdown",
   "id": "4d8fe1ca-30f9-472a-9e01-4e9db61825b8",
   "metadata": {},
   "source": [
    "## References\n",
    "<font size=\"2\">\n",
    "{% for i in project().rule_used['automlst-wrapper']['references'] %}\n",
    "- *{{ i }}*\n",
    "{% endfor %}\n",
    "</font>"
   ]
  }
 ],
 "metadata": {
  "kernelspec": {
   "display_name": "Python 3 (ipykernel)",
   "language": "python",
   "name": "python3"
  },
  "language_info": {
   "codemirror_mode": {
    "name": "ipython",
    "version": 3
   },
   "file_extension": ".py",
   "mimetype": "text/x-python",
   "name": "python",
   "nbconvert_exporter": "python",
   "pygments_lexer": "ipython3",
   "version": "3.11.0"
  }
 },
 "nbformat": 4,
 "nbformat_minor": 5
}
