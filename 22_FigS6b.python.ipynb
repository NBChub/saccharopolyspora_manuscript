{
 "cells": [
  {
   "cell_type": "code",
   "execution_count": null,
   "id": "c2af7896-3827-40a5-8630-39a2ee7331c9",
   "metadata": {},
   "outputs": [],
   "source": [
    "# Load libraries\n",
    "from pathlib import Path\n",
    "import pandas as pd\n",
    "import os\n",
    "# import ncbi.datasets\n",
    "import seaborn as sns\n",
    "import matplotlib.pyplot as plt\n",
    "import datetime\n",
    "from matplotlib import rcParams\n",
    "import yaml\n",
    "\n",
    "import altair as alt\n",
    "\n",
    "sns.set_context(\"paper\")"
   ]
  },
  {
   "cell_type": "markdown",
   "id": "1030f1f0-2827-4b00-a519-4b95bfd3a419",
   "metadata": {},
   "source": [
    "# Figure S6.A"
   ]
  },
  {
   "cell_type": "markdown",
   "id": "c7f06240-981a-43f7-a13c-f4044b461e76",
   "metadata": {},
   "source": [
    "## File Configurations"
   ]
  },
  {
   "cell_type": "code",
   "execution_count": null,
   "id": "d84d3168-4eb5-4002-950b-e50fd9733e01",
   "metadata": {
    "tags": []
   },
   "outputs": [],
   "source": [
    "with open(\"config.yaml\", \"r\") as f:\n",
    "    notebook_configuration = yaml.safe_load(f)\n",
    "notebook_configuration"
   ]
  },
  {
   "cell_type": "code",
   "execution_count": null,
   "id": "a7237954-2c8b-4856-9570-d42e2983de73",
   "metadata": {
    "tags": []
   },
   "outputs": [],
   "source": [
    "bgcflow_dir = Path(notebook_configuration[\"bgcflow_dir\"])\n",
    "project_name = \"qc_saccharopolyspora\"\n",
    "report_dir = bgcflow_dir / f\"data/processed/{project_name}\"\n",
    "FIGURE = \"Figure_S6\""
   ]
  },
  {
   "cell_type": "code",
   "execution_count": null,
   "id": "3f4943ff-fa9e-43a1-b977-20ead77cc661",
   "metadata": {},
   "outputs": [],
   "source": [
    "external_data_dir = bgcflow_dir / 'data/external/'\n",
    "interim_data_dir = bgcflow_dir / 'data/interim/'\n",
    "processed_data_dir = bgcflow_dir / 'data/processed/'\n",
    "config_dir = bgcflow_dir / 'config/'"
   ]
  },
  {
   "cell_type": "code",
   "execution_count": null,
   "id": "66fbc530-aaa5-423a-97c2-0d95244ee086",
   "metadata": {},
   "outputs": [],
   "source": [
    "# load tables\n",
    "df_ncbi = pd.read_csv(processed_data_dir / project_name / 'tables/df_ncbi_meta.csv').set_index('genome_id', drop=False)\n",
    "df_seqfu = pd.read_csv(f'assets/tables/{FIGURE}_df_seqfu_annotated.csv').set_index('genome_id', drop=False)\n",
    "df_checkm = pd.read_csv(processed_data_dir / project_name / 'tables/df_checkm_stats.csv').set_index('genome_id', drop=False)\n",
    "df_gtdb = pd.read_csv(f\"assets/tables/{FIGURE}_df_gtdb.csv\")"
   ]
  },
  {
   "cell_type": "code",
   "execution_count": null,
   "id": "cbcdc5bd-ace3-48be-8e42-5ac9ce5a8085",
   "metadata": {},
   "outputs": [],
   "source": [
    "# load tables\n",
    "# ALTERNATIVE: use NCBI assembly category for HQ, use contig < 50 for MQ\n",
    "for i in df_checkm.index:\n",
    "    completeness = df_checkm.loc[i, \"Completeness\"]\n",
    "    contamination = df_checkm.loc[i, \"Contamination\"]\n",
    "    if (completeness > 90) and (contamination < 5):\n",
    "        df_checkm.loc[i, \"MIMAG_quality\"] = \"HQ\"\n",
    "    elif (completeness >= 50) and (contamination < 10):\n",
    "        df_checkm.loc[i, \"MIMAG_quality\"] = \"MQ\"\n",
    "    elif (completeness < 50) and (contamination < 10):\n",
    "        df_checkm.loc[i, \"MIMAG_quality\"] = \"LQ\"\n",
    "    else:\n",
    "        print(f\"{i} dropped!\")"
   ]
  },
  {
   "cell_type": "code",
   "execution_count": null,
   "id": "dda75bcb-2d4b-4d71-b980-6bac943bd9f7",
   "metadata": {},
   "outputs": [],
   "source": [
    "df_year = pd.DataFrame(index = df_ncbi.index, columns=['Date', 'Year'])\n",
    "for genome_id in df_ncbi.index:\n",
    "    date_str = df_ncbi.loc[genome_id, 'date']\n",
    "    date_obj = datetime.datetime.strptime(date_str, \"%Y-%m-%d\")\n",
    "    df_year.loc[genome_id, 'Year'] = str(date_obj.year)\n",
    "    df_year.loc[genome_id, 'Date'] = date_str\n",
    "    df_year.loc[genome_id, 'assembly_level'] = df_ncbi.loc[genome_id, 'assembly_level']\n",
    "    \n",
    "df_year.sort_values(by='Date', inplace=True)"
   ]
  },
  {
   "cell_type": "code",
   "execution_count": null,
   "id": "43d9cd7e-0b59-4bce-af1c-43f8779c2f5f",
   "metadata": {},
   "outputs": [],
   "source": [
    "for genome_id in df_year.index:\n",
    "    try:\n",
    "        df_year.loc[genome_id, \"MIMAG_quality\"] = df_checkm.loc[genome_id, \"MIMAG_quality\"]\n",
    "        df_year.loc[genome_id, \"Completeness\"] = df_checkm.loc[genome_id, \"Completeness\"]\n",
    "        df_year.loc[genome_id, \"Contamination\"] = df_checkm.loc[genome_id, \"Contamination\"]\n",
    "        df_year.loc[genome_id, \"sequence_quality\"] = df_seqfu.loc[genome_id, \"sequence_quality\"]\n",
    "        df_year.loc[genome_id, \"N50\"] = df_seqfu.loc[genome_id, \"N50\"]\n",
    "        df_year.loc[genome_id, \"number_of_contigs\"] = df_seqfu.loc[genome_id, \"Count\"]\n",
    "        df_year.loc[genome_id, \"sequence_length\"] = df_seqfu.loc[genome_id, \"Total\"]\n",
    "    except KeyError as e:\n",
    "        print(genome_id, e)"
   ]
  },
  {
   "cell_type": "code",
   "execution_count": null,
   "id": "cd3fa346-12b1-43fd-9ce4-98a7be592222",
   "metadata": {},
   "outputs": [],
   "source": [
    "source = df_year.copy().reset_index(drop=False).groupby(['Year', 'sequence_quality']).count().reset_index(drop=False)\n",
    "source = source.rename(columns={\"genome_id\" : \"genome_count\"})\n",
    "\n",
    "# fill missing years\n",
    "all_values = [i for i in range(source.Year.astype(int).min(), source.Year.astype(int).max() + 1)]\n",
    "stored_values = [int(i) for i in source.Year.unique()]\n",
    "[all_values.remove(i) for i in stored_values]\n",
    "missing_values = all_values\n",
    "\n",
    "missing_dict = {}\n",
    "idx = source.index.max() + 1\n",
    "for num, y in enumerate(missing_values):\n",
    "    for q in ['HQ', 'MQ', 'LQ']:\n",
    "        source.loc[idx, \"Year\"] = str(y)\n",
    "        source.loc[idx, 'sequence_quality'] = q\n",
    "        source.loc[idx, 'genome_count'] = 0\n",
    "        idx = idx + 1\n",
    "source = source.fillna(0)\n",
    "source = source.sort_values(by=\"Year\").reset_index()"
   ]
  },
  {
   "cell_type": "code",
   "execution_count": null,
   "id": "a42ea351-3cd5-4c6a-b7a8-e02d8809528d",
   "metadata": {},
   "outputs": [],
   "source": [
    "# calculate cumulative data\n",
    "data = dict()\n",
    "\n",
    "previous_year = None\n",
    "for year in source.Year.unique():\n",
    "    source_subset_year = source[source.loc[:, \"Year\"] == year]\n",
    "    \n",
    "    # initiate empty dict\n",
    "    if year not in data.keys():\n",
    "        data[year] = {}\n",
    "    \n",
    "    for sequence_quality in [\"HQ\", \"MQ\", \"LQ\"]: \n",
    "        value = source_subset_year[source_subset_year.loc[:, \"sequence_quality\"] == sequence_quality].genome_count.values\n",
    "        if len(value) == 0:\n",
    "            value = [0]\n",
    "        print(year, sequence_quality, value[0], previous_year)\n",
    "        \n",
    "        if previous_year is None:\n",
    "            previous_value = 0\n",
    "        else:\n",
    "            previous_value = data[previous_year][sequence_quality]\n",
    "    \n",
    "        data[year].update({sequence_quality : value[0] + previous_value})\n",
    "    \n",
    "    previous_year = year\n",
    "\n",
    "cumulative_data = {}\n",
    "index = 0\n",
    "for year in data.keys():\n",
    "    for sequence_quality in data[year].keys():\n",
    "        value = data[year][sequence_quality]\n",
    "        cumulative_data[index] = {\"year\" : year, \"sequence_quality\" : sequence_quality, \"count\" : value}\n",
    "        index = index + 1\n",
    "\n",
    "source = pd.DataFrame(cumulative_data).T"
   ]
  },
  {
   "cell_type": "code",
   "execution_count": null,
   "id": "9c3ff407-884c-4842-b900-10d924c01e44",
   "metadata": {},
   "outputs": [],
   "source": [
    "domain = ['LQ', 'MQ', 'HQ']\n",
    "range_ = ['red', 'orange', 'blue']\n",
    "\n",
    "base = alt.Chart(source).mark_bar().encode(\n",
    "    alt.X('year',\n",
    "          title='Year'),\n",
    "    alt.Y('count',\n",
    "          title=\"Number of Genomes\"),\n",
    "    color=alt.Color(\"sequence_quality:N\", legend=None, scale=alt.Scale(domain=domain, range=range_)),\n",
    ").configure_axis(\n",
    "    labelFontSize=10,\n",
    "    titleFontSize=12\n",
    ").configure_legend(\n",
    "    labelFontSize=10,\n",
    "    titleFontSize=12,\n",
    ").configure_view(\n",
    "    continuousHeight=250,\n",
    "    continuousWidth=250,\n",
    ")\n",
    "\n",
    "fig_S6a = base"
   ]
  },
  {
   "cell_type": "code",
   "execution_count": null,
   "id": "bddd67af-3550-403e-a906-ae88a2cfd310",
   "metadata": {
    "tags": []
   },
   "outputs": [],
   "source": [
    "fig_S6a"
   ]
  },
  {
   "cell_type": "markdown",
   "id": "95c9bae2-7a69-4e20-ac21-27c2f1bd19db",
   "metadata": {},
   "source": [
    "# Figure S6.B"
   ]
  },
  {
   "cell_type": "code",
   "execution_count": null,
   "id": "e109f74a-a464-41ee-bfd5-bc5111774e02",
   "metadata": {},
   "outputs": [],
   "source": [
    "source = df_year.copy()\n",
    "source = source.reset_index(drop=False)\n",
    "x_col = 'Completeness'\n",
    "y_col = 'Contamination'\n",
    "chart_one = alt.Chart(source).mark_point().encode(\n",
    "    alt.X(x_col,\n",
    "          scale=alt.Scale(domain=(92, 101)),\n",
    "          title=f'{x_col} (%)'),\n",
    "    alt.Y(y_col,\n",
    "          scale=alt.Scale(domain=(round(0, 1), \n",
    "                                  round(source[y_col].max() + 1, 2))),\n",
    "          title=f\"{y_col} (%)\"\n",
    "         ),\n",
    "    #shape='sequence_quality',\n",
    "    color=alt.Color(\"sequence_quality:N\", legend=None, scale=alt.Scale(domain=domain, range=range_)),\n",
    "    tooltip=['genome_id', 'Date', 'Year', 'assembly_level', 'MIMAG_quality', 'Completeness',\n",
    "       'Contamination', 'sequence_quality', 'N50', 'number_of_contigs',\n",
    "       'sequence_length']\n",
    ").mark_point(\n",
    "    filled=True,\n",
    "    stroke='black',\n",
    "    strokeWidth=0.5,\n",
    "    opacity=0.8,\n",
    "    size=100\n",
    ").configure_axis(\n",
    "    labelFontSize=10,\n",
    "    titleFontSize=12\n",
    ").configure_legend(\n",
    "    labelFontSize=10,\n",
    "    titleFontSize=12,\n",
    ").configure_view(\n",
    "    continuousHeight=250,\n",
    "    continuousWidth=250,\n",
    ").interactive()\n",
    "\n",
    "\n",
    "fig_S6b = chart_one"
   ]
  },
  {
   "cell_type": "code",
   "execution_count": null,
   "id": "0a90f4b4-e520-40ba-867d-b296ab3df6b2",
   "metadata": {},
   "outputs": [],
   "source": [
    "fig_S6b"
   ]
  },
  {
   "cell_type": "markdown",
   "id": "0b3d2348-22e0-4cc4-a6e9-c72d4f4f9adb",
   "metadata": {},
   "source": [
    "# Figure S6.C"
   ]
  },
  {
   "cell_type": "code",
   "execution_count": null,
   "id": "6c879526-b702-40ac-873a-1735ac2ba824",
   "metadata": {},
   "outputs": [],
   "source": [
    "import plotly.graph_objects as go"
   ]
  },
  {
   "cell_type": "code",
   "execution_count": null,
   "id": "a32c39e9-d2c6-4478-976f-d6eb6435f345",
   "metadata": {},
   "outputs": [],
   "source": [
    "project_name = \"qc_saccharopolyspora\"\n",
    "project_dir = bgcflow_dir / f\"data/processed/{project_name}\"\n",
    "ncbi_table = project_dir / \"tables/df_ncbi_meta.csv\""
   ]
  },
  {
   "cell_type": "code",
   "execution_count": null,
   "id": "0e9731fb-c0a8-4b0f-9a03-b4e64f67fe68",
   "metadata": {},
   "outputs": [],
   "source": [
    "df_ncbi = pd.read_csv(ncbi_table).set_index(\"genome_id\", drop=False)"
   ]
  },
  {
   "cell_type": "code",
   "execution_count": null,
   "id": "840f42c8-22db-44b0-9447-f121a5b0c7b2",
   "metadata": {},
   "outputs": [],
   "source": [
    "df_taxonomy = pd.DataFrame()\n",
    "df_gtdb = df_gtdb.set_index(\"genome_id\")\n",
    "for gid in df_gtdb.index:\n",
    "    df_taxonomy.loc[gid, \"genome_id\"] = gid\n",
    "    df_taxonomy.loc[gid, \"GTDB_Genus\"] = df_gtdb.loc[gid, \"Genus\"].strip(\"g__\")\n",
    "    df_taxonomy.loc[gid, \"GTDB_Species\"] = df_gtdb.loc[gid, \"Species\"]\n",
    "    df_taxonomy.loc[gid, \"NCBI_Genus\"] = df_ncbi.loc[gid, \"genus\"]\n",
    "    df_taxonomy.loc[gid, \"NCBI_Species\"] = df_ncbi.loc[gid, \"species\"]\n",
    "df_taxonomy"
   ]
  },
  {
   "cell_type": "code",
   "execution_count": null,
   "id": "d4df746b-53d0-4e85-9be8-11cd41c14431",
   "metadata": {},
   "outputs": [],
   "source": [
    "df = df_taxonomy.copy()#.reset_index()\n",
    "for i in df.index:\n",
    "    df.loc[i, \"GTDB_Species\"] = f'{df.loc[i, \"GTDB_Genus\"]} {df.loc[i, \"GTDB_Species\"]}'\n",
    "    df.loc[i, \"NCBI_Species\"] = f'{df.loc[i, \"NCBI_Genus\"]} {df.loc[i, \"NCBI_Species\"]}'\n",
    "\n",
    "# max color\n",
    "coolors_list = [\"#001219\",\"#005f73\",\"#0a9396\",\"#94d2bd\",\"#e9d8a6\",\"#ee9b00\",\"#ca6702\",\"#bb3e03\",\"#ae2012\",\"#9b2226\"]\n",
    "\n",
    "max_color = 10\n",
    "# generate color list\n",
    "gtdb_species_count = df.GTDB_Species.value_counts().to_dict()\n",
    "ncbi_species_count = df.NCBI_Species.value_counts().to_dict()\n",
    "dict_species_count = {}\n",
    "for species in set(list(gtdb_species_count.keys()) + list(ncbi_species_count.keys())):\n",
    "    value = 0\n",
    "    if species in ncbi_species_count.keys():\n",
    "        value = value + ncbi_species_count[species]\n",
    "    if species in gtdb_species_count.keys():\n",
    "        value = value + gtdb_species_count[species] \n",
    "    dict_species_count[species] = value\n",
    "\n",
    "coolors_dict = {}    \n",
    "ctr = 0\n",
    "for species in sorted(dict_species_count, key=dict_species_count.get, reverse=True):\n",
    "    if ctr < len(coolors_list):\n",
    "        color = coolors_list[ctr]\n",
    "    else:\n",
    "        color = \"#808080\"\n",
    "    coolors_dict[species] = color\n",
    "    ctr = ctr + 1\n",
    "#coolors_dict"
   ]
  },
  {
   "cell_type": "code",
   "execution_count": null,
   "id": "78dd48f5-316d-4bf8-9c4d-fb392595bf01",
   "metadata": {},
   "outputs": [],
   "source": [
    "df_sankey = df.groupby(['GTDB_Species','NCBI_Species']).count().iloc[:,:1].reset_index()\n",
    "df = df_sankey.copy()\n",
    "for i in df.index:\n",
    "    df.loc[i, \"GTDB_Species\"] = f' {df.loc[i, \"GTDB_Species\"]}'\n",
    "    # df.loc[i, \"NCBI_Species\"] = f'NCBI_{df.loc[i, \"NCBI_Species\"]}'\n",
    "cat_cols=['NCBI_Species', 'GTDB_Species']\n",
    "value_cols='genome_id'"
   ]
  },
  {
   "cell_type": "code",
   "execution_count": null,
   "id": "0b6f68e7-6a14-4fe8-8235-a0168383263e",
   "metadata": {
    "tags": []
   },
   "outputs": [],
   "source": [
    "df"
   ]
  },
  {
   "cell_type": "code",
   "execution_count": null,
   "id": "a857cc7b-7b0f-4203-acc9-23cb75dfffa7",
   "metadata": {},
   "outputs": [],
   "source": [
    "color_dict = dict()\n",
    "column_name = [\"NCBI_Species\", \"GTDB_Species\"]\n",
    "for col in column_name:\n",
    "    color_dict[col] = {}\n",
    "    for species in df[col]:\n",
    "        s = species.strip(f' {col.split(\"_\")[0]}')\n",
    "        value = {species : coolors_dict[s]}\n",
    "        color_dict[col].update(value)\n",
    "color_dict "
   ]
  },
  {
   "cell_type": "code",
   "execution_count": null,
   "id": "5dd999bc-b79b-4588-b2cd-1bd9a61c1bea",
   "metadata": {},
   "outputs": [],
   "source": [
    "labelList = []\n",
    "colorList = []\n",
    "for col in cat_cols:\n",
    "    labelList = labelList + list(set(df[col].values))\n",
    "    try:\n",
    "        colorList = colorList + [color_dict[col][label] for label in list(set(df[col].values))]\n",
    "    except KeyError:\n",
    "        #colorList = colorList + [color_dict[col][label] for label in list(set(df[col].values))]\n",
    "        pass\n",
    "labelList = list(dict.fromkeys(labelList))\n",
    "#labelList"
   ]
  },
  {
   "cell_type": "code",
   "execution_count": null,
   "id": "6ecc3afa-37bc-481e-9995-8e2944e0e8d6",
   "metadata": {},
   "outputs": [],
   "source": [
    "# transform df into a source-target pair\n",
    "for i in range(len(cat_cols)-1):\n",
    "    if i==0:\n",
    "        sourceTargetDf = df[[cat_cols[i],cat_cols[i+1],value_cols]]\n",
    "        sourceTargetDf.columns = ['source','target','count']\n",
    "    else:\n",
    "        tempDf = df[[cat_cols[i],cat_cols[i+1],value_cols]]\n",
    "        tempDf.columns = ['source','target','count']\n",
    "        sourceTargetDf = pd.concat([sourceTargetDf,tempDf])\n",
    "    sourceTargetDf = sourceTargetDf.groupby(['source','target']).agg({'count':'sum'}).reset_index()\n",
    "        \n",
    "        \n",
    "# add index for source-target pair\n",
    "sourceTargetDf['sourceID'] = sourceTargetDf['source'].apply(lambda x: labelList.index(x))\n",
    "sourceTargetDf['targetID'] = sourceTargetDf['target'].apply(lambda x: labelList.index(x))\n",
    "sourceTargetDf = sourceTargetDf.sort_values(by=[\"count\"]).reset_index()"
   ]
  },
  {
   "cell_type": "code",
   "execution_count": null,
   "id": "0d0415a2-eaff-4c27-9b16-f5fe005bd4e6",
   "metadata": {},
   "outputs": [],
   "source": [
    "# sourceTargetDf['color'] = [color_quality_dict[target_id] if target_id in color_quality_dict.keys() else '#2a9d8f' for target_id in sourceTargetDf['target']]\n",
    "    \n",
    "# creating the sankey diagram\n",
    "data = dict(\n",
    "        type='sankey',\n",
    "        node = dict(\n",
    "          pad = 15,\n",
    "          thickness = 100,\n",
    "          line = dict(\n",
    "            color = \"black\",\n",
    "            width = 0\n",
    "          ),\n",
    "          label = labelList,\n",
    "          color = colorList\n",
    "        ),\n",
    "        link = dict(\n",
    "          source = sourceTargetDf['sourceID'],\n",
    "          target = sourceTargetDf['targetID'],\n",
    "          value = sourceTargetDf['count'],\n",
    "          # color = sourceTargetDf['color'],\n",
    "        )\n",
    "      )\n",
    "    \n",
    "       \n",
    "fig_data = dict(data=[data])\n",
    "#data"
   ]
  },
  {
   "cell_type": "code",
   "execution_count": null,
   "id": "4152245e-496b-486b-8bf4-dad37138a8dc",
   "metadata": {},
   "outputs": [],
   "source": [
    "fig = go.Figure(data=fig_data)\n",
    "\n",
    "fig_S6c = fig.update_layout(font_size=11,\n",
    "                 width=800,\n",
    "                height=1200,)"
   ]
  },
  {
   "cell_type": "code",
   "execution_count": null,
   "id": "d6932b7e-7ecc-4862-abae-2d878d6c394a",
   "metadata": {},
   "outputs": [],
   "source": [
    "fig_S6c"
   ]
  },
  {
   "cell_type": "markdown",
   "id": "9ee72ca2-26b2-4f83-afe5-80c9f0c99b2d",
   "metadata": {},
   "source": [
    "# Figure S6.D"
   ]
  },
  {
   "cell_type": "code",
   "execution_count": null,
   "id": "8503b0b9-b071-486c-a147-eabde3f5c48c",
   "metadata": {},
   "outputs": [],
   "source": [
    "# Set up paths and input file\n",
    "report_dir = processed_data_dir / project_name\n",
    "\n",
    "# Seqfu result\n",
    "seqfu_table = report_dir / \"tables/df_seqfu_stats.csv\"\n",
    "\n",
    "# Taxonomic placement result\n",
    "#gtdb_table = report_dir / \"tables/df_gtdb_meta.csv\"\n",
    "#gtdb_table = report_dir / \"tables/df_gtdb_gtdbtk_meta.csv\"\n",
    "\n",
    "# NCBI report for later use (automatically build when using samples from NCBI)\n",
    "df_ncbi = pd.read_csv((processed_data_dir / project_name / \"tables/df_ncbi_meta.csv\")).set_index(\"genome_id\")\n",
    "\n",
    "# Integrate both result into single table\n",
    "df_seqfu = pd.read_csv(seqfu_table)\n",
    "df_seqfu = df_seqfu.rename(columns={'File' : 'genome_id'}).set_index('genome_id')\n",
    "#df_gtdb = pd.read_csv(gtdb_table).set_index('genome_id')\n",
    "df = pd.concat([df_seqfu, df_gtdb], axis=1).reset_index()\n",
    "df = df.set_index(\"genome_id\", drop=False)"
   ]
  },
  {
   "cell_type": "code",
   "execution_count": null,
   "id": "b4ff6f64-adc1-4ff7-8dd6-0f881be35659",
   "metadata": {},
   "outputs": [],
   "source": [
    "# adds NCBI assembly level column in main table\n",
    "for i in df.index:\n",
    "    df.loc[i, \"assembly_level\"] = df_ncbi.loc[i, \"assembly_level\"]"
   ]
  },
  {
   "cell_type": "code",
   "execution_count": null,
   "id": "b487de03-16ca-4ed7-9cac-fe2474dfc706",
   "metadata": {},
   "outputs": [],
   "source": [
    "count_cutoff = 50\n",
    "df_filtered = df[df.Count < count_cutoff]\n",
    "df_filtered_2 = df[df.N50 > 5000000]"
   ]
  },
  {
   "cell_type": "code",
   "execution_count": null,
   "id": "050eec6d-d800-49c2-a174-b27ea796b3e5",
   "metadata": {},
   "outputs": [],
   "source": [
    "for genome in df.index:\n",
    "    if genome in df_filtered_2.index:\n",
    "        df.loc[genome, \"sequence_quality\"] = \"HQ\"\n",
    "    elif genome in df_filtered.index:\n",
    "        df.loc[genome, \"sequence_quality\"] = \"MQ\"\n",
    "    else:\n",
    "        df.loc[genome, \"sequence_quality\"] = \"LQ\"\n",
    "#df"
   ]
  },
  {
   "cell_type": "code",
   "execution_count": null,
   "id": "96f093a2-7675-461b-bdf2-d2331c148b8c",
   "metadata": {},
   "outputs": [],
   "source": [
    "source = df.copy()\n",
    "#source = pd.concat([df, df_gtdb], axis=1)\n",
    "\n",
    "n50_cutoff = 5000000\n",
    "count_cutoff = 50\n",
    "\n",
    "source['count_cutoff'] = count_cutoff \n",
    "source['N50_cutoff'] = n50_cutoff\n",
    "\n",
    "chart_one = alt.Chart().mark_point().encode(\n",
    "    alt.X('Count:Q',\n",
    "          scale=alt.Scale(type=\"log\", domain=(0.99, 1000)),\n",
    "          axis=alt.Axis(format='.1s')),\n",
    "    alt.Y('N50:Q',\n",
    "          scale=alt.Scale(type=\"log\", domain=(10000, 10000001)),\n",
    "          axis=alt.Axis(format='.1s')),\n",
    "    #shape='sequence_quality',\n",
    "    color=alt.Color(\"sequence_quality:N\", legend=None, scale=alt.Scale(domain=domain, range=range_)),\n",
    "    tooltip=['genome_id', 'Organism', 'Count:Q', 'Total:Q', 'gc:Q', 'N50:Q', 'N75:Q', 'N90:Q', 'AuN:Q', 'Min:Q', 'Max:Q'],\n",
    ").mark_point(\n",
    "    filled=True,\n",
    "    stroke='black',\n",
    "    strokeWidth=0.5,\n",
    "    opacity=0.8,\n",
    "    size=100\n",
    ")\n",
    "\n",
    "chart_two = alt.Chart().mark_rule().encode(\n",
    "    alt.X('count_cutoff', \n",
    "          title=f'Contigs (cutoff = {count_cutoff})'),\n",
    "         strokeWidth=alt.value(0.01)\n",
    ")\n",
    "\n",
    "chart_three = alt.Chart().mark_rule().encode(\n",
    "    alt.Y('N50_cutoff', \n",
    "          title=f\"N50 (cutoff = {n50_cutoff})\"),\n",
    "    strokeWidth=alt.value(0.01)\n",
    ")\n",
    "\n",
    "merged_chart = (chart_one+chart_two+chart_three).facet(column='Quality filtering', data=source).interactive().configure_header(\n",
    "    title=None,\n",
    "    labels=False\n",
    ").configure_axis(\n",
    "    labelFontSize=10,\n",
    "    titleFontSize=12\n",
    ").configure_legend(\n",
    "    labelFontSize=10,\n",
    "    titleFontSize=12,\n",
    ").configure_view(\n",
    "    continuousHeight=250,\n",
    "    continuousWidth=250,\n",
    ")\n",
    "\n",
    "fig_S6d = merged_chart"
   ]
  },
  {
   "cell_type": "code",
   "execution_count": null,
   "id": "e8eaba6c-e813-4a22-8cfa-f0d1da2a6aba",
   "metadata": {},
   "outputs": [],
   "source": [
    "#! pip install altair_saver\n",
    "#! pip install selenium==4.2.0\n",
    "#from altair_saver import save"
   ]
  },
  {
   "cell_type": "code",
   "execution_count": null,
   "id": "e76ff341-20b9-430a-88bd-24af82aa2de0",
   "metadata": {
    "tags": []
   },
   "outputs": [],
   "source": [
    "fig_S6d\n",
    "outfile = Path(f\"assets/figures/{FIGURE}/{FIGURE}d.svg\")\n",
    "outfile.parent.mkdir(parents=True, exist_ok=True)\n",
    "fig_S6d.save(outfile)"
   ]
  },
  {
   "cell_type": "code",
   "execution_count": null,
   "id": "4cc29f06-682e-42f5-a08b-f940adcedfa8",
   "metadata": {},
   "outputs": [],
   "source": [
    "fig_S6a #'assets/Figure_S6/S6_A.svg')#.data # HAVE STACKS IN THE ORDER OF HQ, MQ, and LQ\n",
    "outfile = Path(f\"assets/figures/{FIGURE}/{FIGURE}a.svg\")\n",
    "outfile.parent.mkdir(parents=True, exist_ok=True)\n",
    "fig_S6a.save(outfile)"
   ]
  },
  {
   "cell_type": "code",
   "execution_count": null,
   "id": "d8aa3cba-3c2b-4ff5-b2e0-29bcbe2fa2e0",
   "metadata": {},
   "outputs": [],
   "source": [
    "fig_S6b#.data # HAVE STACKS IN THE ORDER OF HQ, MQ, and LQ\n",
    "outfile = Path(f\"assets/figures/{FIGURE}/{FIGURE}b.svg\")\n",
    "outfile.parent.mkdir(parents=True, exist_ok=True)\n",
    "fig_S6b.save(outfile)"
   ]
  },
  {
   "cell_type": "markdown",
   "id": "e8defca2-60d1-4ebf-8952-596dec758921",
   "metadata": {},
   "source": [
    "Why is there a HQ sequence which has more than 5% contamination?"
   ]
  },
  {
   "cell_type": "code",
   "execution_count": null,
   "id": "b9725ace-f2f5-44b6-9a26-a91dcc3cae2a",
   "metadata": {},
   "outputs": [],
   "source": [
    "fig_S6c"
   ]
  },
  {
   "cell_type": "code",
   "execution_count": null,
   "id": "bdd41daf-c5d3-4429-a6e6-bc4f805529f0",
   "metadata": {},
   "outputs": [],
   "source": [
    "outfile = Path(f\"assets/figures/{FIGURE}/{FIGURE}c.svg\")\n",
    "outfile.parent.mkdir(parents=True, exist_ok=True)\n",
    "fig_S6c.write_image(outfile)"
   ]
  },
  {
   "cell_type": "code",
   "execution_count": null,
   "id": "729702e9-451e-4201-a72b-4edd5743f2a1",
   "metadata": {},
   "outputs": [],
   "source": [
    "fig_S6d.data[fig_S6d.data.sequence_quality != \"LQ\"].shape"
   ]
  },
  {
   "cell_type": "markdown",
   "id": "189887fd-4a8b-45f5-9d51-4d4da43ea4dc",
   "metadata": {},
   "source": [
    "**Figure S6. Overview of timeline, quality and taxonomic placement of 42 Saccharopolyspora genomes**\n",
    "\n",
    "- a) Sankey diagram representing the species assignment differences between NCBI and GTDB.\n",
    "\n",
    "- b) Cumulative barchart of the number of genomes over last 15 years with different assembly qualities,. \n",
    "\n",
    "- c) Distribution of contamination vs completeness metrics calculated using CheckM, where colors represent the assembly qualities. \n",
    "\n",
    "- d) Scatterplot representing distribution of N50 values vs number of contigs. The cutoff of **50** contings is used to filter the low quality genomes, whereas 5 Mbp of N50 value cutoff was used to define high-quality genome. The remaining genomes were defined as medium-quality.\n"
   ]
  },
  {
   "cell_type": "code",
   "execution_count": null,
   "id": "7c95df3e-d127-4239-91c9-888a6628086f",
   "metadata": {},
   "outputs": [],
   "source": [
    "df_ncbi.shape"
   ]
  },
  {
   "cell_type": "code",
   "execution_count": null,
   "id": "a16acbf5-33f2-4a2d-b128-e2225aa83706",
   "metadata": {},
   "outputs": [],
   "source": [
    "#! pip install svgutils\n",
    "import svgutils.compose as sc"
   ]
  },
  {
   "cell_type": "code",
   "execution_count": null,
   "id": "d6cebf95-c5b9-4392-baac-6a8340a7aabb",
   "metadata": {},
   "outputs": [],
   "source": [
    "from svgutils.compose import *\n",
    "\n",
    "final_figure = Figure(\"800\", \"720\",\n",
    "                      Panel(\n",
    "                          SVG(f\"assets/figures/{FIGURE}/{FIGURE}c.svg\").scale(0.62),\n",
    "                          Text(\"(a)\", 0, 25, size=12, weight='bold'),\n",
    "                          Text(\"NCBI\", 50, 35, size=12, weight='bold'),\n",
    "                          Text(\"GTDB\", 375, 35, size=12, weight='bold'),\n",
    "                      ).move(0, 0),\n",
    "                      Panel(\n",
    "                          SVG(f\"assets/figures/{FIGURE}/{FIGURE}a.svg\").scale(0.7),\n",
    "                          Text(\"(b)\", -10, 0, size=12, weight='bold')\n",
    "                      ).move(480, 25),\n",
    "                      Panel(\n",
    "                          SVG(f\"assets/figures/{FIGURE}/{FIGURE}b.svg\").scale(0.8),\n",
    "                          Text(\"(c)\", -10, 0, size=12, weight='bold')\n",
    "                      ).move(480, 250),\n",
    "                      Panel(\n",
    "                          SVG(f\"assets/figures/{FIGURE}/{FIGURE}d.svg\").scale(0.8),\n",
    "                          Text(\"(d)\", 0, 0, size=12, weight='bold'),\n",
    "                      ).move(470, 485),\n",
    "                     )\n",
    "final_figure"
   ]
  },
  {
   "cell_type": "code",
   "execution_count": null,
   "id": "e091b7ce-9e9f-4cd6-b744-ec9af746a6dc",
   "metadata": {
    "tags": []
   },
   "outputs": [],
   "source": [
    "final_figure.save(f\"assets/figures/{FIGURE}/{FIGURE}.svg\")"
   ]
  },
  {
   "cell_type": "code",
   "execution_count": null,
   "id": "d593cfbd-79c0-48c8-9ac6-cca757d53a66",
   "metadata": {},
   "outputs": [],
   "source": [
    "import svgutils.transform as sg"
   ]
  },
  {
   "cell_type": "code",
   "execution_count": null,
   "id": "4e3dab9c-2183-478a-a444-57167800c5ed",
   "metadata": {
    "tags": []
   },
   "outputs": [],
   "source": [
    "from cairosvg import svg2png\n",
    "svg2png(url=f\"assets/figures/{FIGURE}/{FIGURE}.svg\", write_to=f\"assets/figures/{FIGURE}/{FIGURE}.png\")"
   ]
  }
 ],
 "metadata": {
  "kernelspec": {
   "display_name": "Python 3 (ipykernel)",
   "language": "python",
   "name": "python3"
  },
  "language_info": {
   "codemirror_mode": {
    "name": "ipython",
    "version": 3
   },
   "file_extension": ".py",
   "mimetype": "text/x-python",
   "name": "python",
   "nbconvert_exporter": "python",
   "pygments_lexer": "ipython3",
   "version": "3.9.16"
  }
 },
 "nbformat": 4,
 "nbformat_minor": 5
}
