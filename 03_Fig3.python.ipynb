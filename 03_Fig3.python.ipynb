{
 "cells": [
  {
   "cell_type": "code",
   "execution_count": null,
   "id": "6be4c905-238c-428b-91a4-acfc764855db",
   "metadata": {
    "tags": []
   },
   "outputs": [],
   "source": [
    "%%bash\n",
    "pip install svgutils\n",
    "pip install cairosvg"
   ]
  },
  {
   "cell_type": "code",
   "execution_count": null,
   "id": "ce4dca09-2db5-4abe-8426-6d38dd7c39a7",
   "metadata": {},
   "outputs": [],
   "source": [
    "from svgutils.compose import *\n",
    "from svgutils.compose import Figure\n",
    "from pathlib import Path\n",
    "from cairosvg import svg2png"
   ]
  },
  {
   "cell_type": "code",
   "execution_count": null,
   "id": "392e348c-2baa-4e60-8191-545986f64fa5",
   "metadata": {
    "tags": []
   },
   "outputs": [],
   "source": [
    "FIGURE = \"Figure_3\""
   ]
  },
  {
   "cell_type": "code",
   "execution_count": null,
   "id": "87ea1846-fcc2-44da-a114-1d76fb922800",
   "metadata": {},
   "outputs": [],
   "source": [
    "circle=\"\"\"<?xml version=\"1.0\" encoding=\"UTF-8\" standalone=\"no\"?>\n",
    "<svg xmlns=\"http://www.w3.org/2000/svg\" width=\"50\" height=\"50\">\n",
    "<circle cx=\"25\" cy=\"25\" r=\"20\" fill=\"#fff\" stroke=\"#000\" stroke-width=\"1\" fill-opacity=\"0.0\"/>\n",
    "</svg>\"\"\""
   ]
  },
  {
   "cell_type": "code",
   "execution_count": null,
   "id": "c2fc3cff-91bf-4e1e-a48f-31dd8821772c",
   "metadata": {},
   "outputs": [],
   "source": [
    "outfile = Path(\"assets/figures/Figure_3/doodles/circle.svg\")\n",
    "outfile.parent.mkdir(parents=True, exist_ok=True)\n",
    "with open(outfile, \"w\") as f:\n",
    "    f.write(circle)"
   ]
  },
  {
   "cell_type": "code",
   "execution_count": null,
   "id": "80668435-6d9e-474e-9e7f-3dc300cc699b",
   "metadata": {},
   "outputs": [],
   "source": [
    "ellipse =\"\"\"<?xml version=\"1.0\" encoding=\"UTF-8\" standalone=\"no\"?>\n",
    "<svg xmlns=\"http://www.w3.org/2000/svg\" width=\"50\" height=\"120\">\n",
    "  <ellipse cx=\"25\" cy=\"60\" rx=\"10\" ry=\"55\" fill=\"#fff\" stroke=\"#000\" stroke-width=\"1\" fill-opacity=\"0.0\"/>\n",
    "</svg>\"\"\""
   ]
  },
  {
   "cell_type": "code",
   "execution_count": null,
   "id": "8459beae-24e1-4e9d-afdc-62780d354769",
   "metadata": {},
   "outputs": [],
   "source": [
    "outfile = Path(f\"assets/figures/{FIGURE}/doodles/ellipse.svg\")\n",
    "outfile.parent.mkdir(parents=True, exist_ok=True)\n",
    "with open(outfile, \"w\") as f:\n",
    "    f.write(ellipse)"
   ]
  },
  {
   "cell_type": "code",
   "execution_count": null,
   "id": "cf023ba2-75f3-4544-a828-667c8d9593c2",
   "metadata": {},
   "outputs": [],
   "source": [
    "final_figure = Figure(\"900\", \"900\",\n",
    "                      Panel(\n",
    "                          SVG(f\"assets/figures/{FIGURE}/a.svg\").scale(1),\n",
    "                          Text(\"(a)\", 0, -25, size=12, weight='bold'),\n",
    "                          Text(\"S. spinosa/pogona\", 100, 90+25, size=10),\n",
    "                          Text(\"S. erythrea\", 215, 110+45, size=10),\n",
    "                      ).move(25, 25+25),\n",
    "                      Panel(\n",
    "                          SVG(f\"assets/figures/{FIGURE}/doodles/ellipse.svg\")\n",
    "                      ).move(82, 80+25).rotate(-5),\n",
    "                      Panel(\n",
    "                          SVG(f\"assets/figures/{FIGURE}/doodles/circle.svg\").scale(0.6)\n",
    "                      ).move(210, 145+42),\n",
    "                      Panel(\n",
    "                          SVG(f\"assets/figures/{FIGURE}/b.svg\").scale(0.7),\n",
    "                          Text(\"(b)\", 0, 0, size=12, weight='bold'),\n",
    "                          Text(\"P1\", 110, 120, size=12, weight='bold'),\n",
    "                          Text(\"P2\", 170, 180, size=12, weight='bold'),\n",
    "                          Text(\"P5\", 235, 248, size=12, weight='bold'),\n",
    "                          Text(\"P7\", 280, 295, size=12, weight='bold'),\n",
    "                          Text(\"P8\", 325, 335, size=12, weight='bold'),\n",
    "                      ).move(360, 25),\n",
    "                      Panel(\n",
    "                          SVG(f\"assets/figures/{FIGURE}/c.svg\").scale(1),\n",
    "                          Text(\"(c)\", 0, 0, size=12, weight='bold'),\n",
    "                      ).move(25, 425),\n",
    "                     )\n",
    "final_figure"
   ]
  },
  {
   "cell_type": "code",
   "execution_count": null,
   "id": "e0b96017-a84c-4cc2-a34b-058d7e4243c9",
   "metadata": {},
   "outputs": [],
   "source": [
    "final_figure.save(f\"assets/figures/{FIGURE}/{FIGURE}.svg\")"
   ]
  },
  {
   "cell_type": "code",
   "execution_count": null,
   "id": "2306cdc5-894f-4d31-aae4-0ca8fe9cb9a3",
   "metadata": {},
   "outputs": [],
   "source": [
    "svg2png(url=f\"assets/figures/{FIGURE}/{FIGURE}.svg\", write_to=f\"assets/figures/{FIGURE}/{FIGURE}.png\")"
   ]
  }
 ],
 "metadata": {
  "kernelspec": {
   "display_name": "Python 3 (ipykernel)",
   "language": "python",
   "name": "python3"
  },
  "language_info": {
   "codemirror_mode": {
    "name": "ipython",
    "version": 3
   },
   "file_extension": ".py",
   "mimetype": "text/x-python",
   "name": "python",
   "nbconvert_exporter": "python",
   "pygments_lexer": "ipython3",
   "version": "3.9.16"
  }
 },
 "nbformat": 4,
 "nbformat_minor": 5
}
