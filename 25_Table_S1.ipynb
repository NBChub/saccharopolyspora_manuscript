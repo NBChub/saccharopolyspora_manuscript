{
 "cells": [
  {
   "cell_type": "code",
   "execution_count": null,
   "id": "2eb9aaac-b7fb-4957-9e55-7de6a6e0f7a3",
   "metadata": {
    "tags": []
   },
   "outputs": [],
   "source": [
    "import pandas as pd\n",
    "import networkx as nx\n",
    "from pathlib import Path\n",
    "import yaml"
   ]
  },
  {
   "cell_type": "code",
   "execution_count": null,
   "id": "a40f12dd-a9c1-46dd-a413-f0300012b8dc",
   "metadata": {},
   "outputs": [],
   "source": [
    "df_manual = pd.read_excel(\"assets/data/Table_S1.xlsx\", index_col=0, converters={'version':str})"
   ]
  },
  {
   "cell_type": "code",
   "execution_count": null,
   "id": "543f57bc-a01d-4caf-9cf6-d572b26b4c21",
   "metadata": {
    "tags": []
   },
   "outputs": [],
   "source": [
    "G = nx.read_graphml(\"assets/data/Figure_2/rulegrah_numbers.graphml\")\n",
    "G2 = nx.read_graphml(\"assets/data/Figure_2/rulegraph_tidy_fin.graphml\")"
   ]
  },
  {
   "cell_type": "code",
   "execution_count": null,
   "id": "c6d467ea-3e90-44d0-9318-da9abf591947",
   "metadata": {
    "tags": []
   },
   "outputs": [],
   "source": [
    "sup_table_1 = {}\n",
    "\n",
    "for n in [n for n in G2.nodes]:\n",
    "    x1,y1 = G.nodes[n]['x'], G.nodes[n]['y']\n",
    "    x2,y2 = G2.nodes[n]['x'], G2.nodes[n]['y']\n",
    "    assert x1 == x2\n",
    "    assert y1 == y2\n",
    "    label = G2.nodes[n]['label']\n",
    "    number = G.nodes[n]['label']\n",
    "    sup_table_1[number] = {'Rule Name' : label}\n",
    "\n",
    "sup_table_1"
   ]
  },
  {
   "cell_type": "code",
   "execution_count": null,
   "id": "57cb9393-b020-451e-961c-263ebcab6467",
   "metadata": {
    "tags": []
   },
   "outputs": [],
   "source": [
    "df = pd.DataFrame.from_dict(sup_table_1).T\n",
    "df2 = df.reindex(columns = df.columns.tolist() + [\"Tool Name\", \"Version\", \"Description\", \"Link\", \"References\"])\n",
    "df2.T.to_json(\"assets/data/Table_S1.json\")\n",
    "df2['Rule Name']"
   ]
  },
  {
   "cell_type": "code",
   "execution_count": null,
   "id": "3f5f1947-fd35-4ae4-ad05-bb2c7c743ea4",
   "metadata": {},
   "outputs": [],
   "source": [
    "paper = [3, 6, 11, 5, 4, 14, 31, 22, 36, 55, 48, 27, 34, 44]\n",
    "keep_rule = []\n",
    "for i in df_manual.index:\n",
    "    rule_name = df_manual.loc[i, \"Rule Name\"]\n",
    "    \n",
    "    target = df2[df2['Rule Name'] == rule_name].index\n",
    "    for c in df_manual.columns:\n",
    "        df2.loc[target, c] = df_manual.loc[i, c]\n",
    "    df_manual.loc[i, \"node_number\"] = target\n",
    "    print(i, target, rule_name, rule_name in list(df2['Rule Name']))\n",
    "    if target in [str(i) for i in paper]:\n",
    "        pass\n",
    "        keep_rule.append(i)\n",
    "    else:\n",
    "        print(f\"drop {rule_name}\")\n",
    "df_table_s1 = df_manual.loc[keep_rule].copy().reset_index(drop=True)\n",
    "df_table_s1"
   ]
  },
  {
   "cell_type": "code",
   "execution_count": null,
   "id": "bc552002-ad33-4d5b-8af8-43cde1be9641",
   "metadata": {},
   "outputs": [],
   "source": [
    "df_table_s1.to_excel(\"assets/supplementary_materials/TABLE_S1.xlsx\", index=None)"
   ]
  },
  {
   "cell_type": "code",
   "execution_count": null,
   "id": "d459c0c9-76e3-4705-a968-72757f9a5709",
   "metadata": {},
   "outputs": [],
   "source": [
    "df2.index.name = \"node_number\"\n",
    "df2.to_excel(\"assets/supplementary_materials/TABLE_S2.xlsx\", index=None)"
   ]
  },
  {
   "cell_type": "code",
   "execution_count": null,
   "id": "dd92d9e9-6308-48af-bc92-ed9b500477f1",
   "metadata": {
    "tags": []
   },
   "outputs": [],
   "source": [
    "rule_dir = Path(\"../workflow/rules/\")\n",
    "smk = rule_dir / \"bgc_analytics.smk\""
   ]
  },
  {
   "cell_type": "raw",
   "id": "1b172869-945e-457a-97f9-f2a9d65aab0d",
   "metadata": {
    "tags": []
   },
   "source": [
    "import snakemake\n",
    "import os\n",
    "def call_snakemake(workdir, targets=None):\n",
    "    return snakemake.snakemake(\n",
    "        os.path.join(workdir, 'workflow/Snakefile'),\n",
    "        configfiles=[os.path.join(workdir, 'config/config.yaml')],\n",
    "        workdir=workdir,\n",
    "        dryrun=True,\n",
    "        targets=targets,\n",
    "        use_conda=True,\n",
    "        quiet=True,\n",
    "        force_incomplete=True\n",
    "        )"
   ]
  },
  {
   "cell_type": "raw",
   "id": "ee512c99-a3b0-480c-8d08-bbe86b01f726",
   "metadata": {
    "tags": []
   },
   "source": [
    "item = call_snakemake(\"/datadrive/bgcflow/\")"
   ]
  },
  {
   "cell_type": "raw",
   "id": "391b48cf-6d13-4abc-9f83-1ada0800d49d",
   "metadata": {
    "tags": []
   },
   "source": [
    "bgcflow = snakemake.workflow"
   ]
  },
  {
   "cell_type": "raw",
   "id": "9b7b60e7-0aa5-4502-aaba-843624a6da32",
   "metadata": {
    "tags": []
   },
   "source": [
    "bgcflow = Workflow(snakefile=\"/datadrive/bgcflow/workflow/Snakefile\")\n",
    "bgcflow.configfile(\"/datadrive/bgcflow/config/config.yaml\")\n",
    "bgcflow.workdir(\"/datadrive/bgcflow/\")"
   ]
  },
  {
   "cell_type": "raw",
   "id": "1a3c8b7d-ceb6-483f-b0ea-16aa9c5d2c53",
   "metadata": {
    "tags": []
   },
   "source": [
    "bgcflow."
   ]
  },
  {
   "cell_type": "code",
   "execution_count": null,
   "id": "6d363e3a-a014-487a-9325-5f23461e2626",
   "metadata": {
    "tags": []
   },
   "outputs": [],
   "source": []
  },
  {
   "cell_type": "raw",
   "id": "fbaf775d-90fb-46ed-9bd8-cbde724c9330",
   "metadata": {
    "tags": []
   },
   "source": [
    "from snakemake.parser import parse"
   ]
  },
  {
   "cell_type": "raw",
   "id": "fe3dc10d-5175-4fba-ad74-070a19dc5821",
   "metadata": {
    "tags": []
   },
   "source": [
    "parse(workflow=\"../bgcflow/workflow/rules/antismash.smk\")"
   ]
  },
  {
   "cell_type": "raw",
   "id": "c944521a-a2c5-4e08-aaf9-c06ce7142ba9",
   "metadata": {
    "tags": []
   },
   "source": [
    "parse(Path(\"../bgcflow/workflow/rules/antismash.smk\"), bgcflow)"
   ]
  },
  {
   "cell_type": "code",
   "execution_count": null,
   "id": "4e5e9c40-ebc5-4b68-b21b-2ec1518f492e",
   "metadata": {},
   "outputs": [],
   "source": []
  }
 ],
 "metadata": {
  "kernelspec": {
   "display_name": "Python 3 (ipykernel)",
   "language": "python",
   "name": "python3"
  },
  "language_info": {
   "codemirror_mode": {
    "name": "ipython",
    "version": 3
   },
   "file_extension": ".py",
   "mimetype": "text/x-python",
   "name": "python",
   "nbconvert_exporter": "python",
   "pygments_lexer": "ipython3",
   "version": "3.9.16"
  }
 },
 "nbformat": 4,
 "nbformat_minor": 5
}
