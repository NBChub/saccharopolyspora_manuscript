{
 "cells": [
  {
   "cell_type": "code",
   "execution_count": null,
   "id": "2eb9aaac-b7fb-4957-9e55-7de6a6e0f7a3",
   "metadata": {
    "tags": []
   },
   "outputs": [],
   "source": [
    "import pandas as pd\n",
    "import networkx as nx\n",
    "from pathlib import Path\n",
    "import yaml"
   ]
  },
  {
   "cell_type": "code",
   "execution_count": null,
   "id": "543f57bc-a01d-4caf-9cf6-d572b26b4c21",
   "metadata": {
    "tags": []
   },
   "outputs": [],
   "source": [
    "G = nx.read_graphml(\"assets/data/Figure_2/rulegrah_numbers.graphml\")\n",
    "G2 = nx.read_graphml(\"assets/data/Figure_2/rulegraph_tidy_fin.graphml\")"
   ]
  },
  {
   "cell_type": "code",
   "execution_count": null,
   "id": "c6d467ea-3e90-44d0-9318-da9abf591947",
   "metadata": {
    "tags": []
   },
   "outputs": [],
   "source": [
    "sup_table_1 = {}\n",
    "\n",
    "for n in [n for n in G2.nodes]:\n",
    "    x1,y1 = G.nodes[n]['x'], G.nodes[n]['y']\n",
    "    x2,y2 = G2.nodes[n]['x'], G2.nodes[n]['y']\n",
    "    assert x1 == x2\n",
    "    assert y1 == y2\n",
    "    label = G2.nodes[n]['label']\n",
    "    number = G.nodes[n]['label']\n",
    "    sup_table_1[number] = {'Rule Name' : label}\n",
    "\n",
    "sup_table_1"
   ]
  },
  {
   "cell_type": "code",
   "execution_count": null,
   "id": "57cb9393-b020-451e-961c-263ebcab6467",
   "metadata": {
    "tags": []
   },
   "outputs": [],
   "source": [
    "df = pd.DataFrame.from_dict(sup_table_1).T\n",
    "df2 = df.reindex(columns = df.columns.tolist() + [\"Tool Name\", \"Version\", \"Description\", \"Link\", \"References\"])\n",
    "df2"
   ]
  },
  {
   "cell_type": "code",
   "execution_count": null,
   "id": "dd92d9e9-6308-48af-bc92-ed9b500477f1",
   "metadata": {
    "tags": []
   },
   "outputs": [],
   "source": [
    "rule_dir = Path(\"../workflow/rules/\")\n",
    "smk = rule_dir / \"bgc_analytics.smk\""
   ]
  },
  {
   "cell_type": "code",
   "execution_count": null,
   "id": "b0a09ef0-ceae-4def-97c6-4100e882724a",
   "metadata": {
    "tags": []
   },
   "outputs": [],
   "source": [
    "import snakemake\n",
    "import os\n",
    "def call_snakemake(workdir, targets=None):\n",
    "    return snakemake.snakemake(\n",
    "        os.path.join(workdir, 'workflow/Snakefile'),\n",
    "        configfiles=[os.path.join(workdir, 'config/config.yaml')],\n",
    "        workdir=workdir,\n",
    "        dryrun=True,\n",
    "        targets=targets,\n",
    "        use_conda=True,\n",
    "        quiet=True,\n",
    "        force_incomplete=True\n",
    "        )"
   ]
  },
  {
   "cell_type": "code",
   "execution_count": null,
   "id": "5afa5549-a316-4b3b-bab1-9653beaec72d",
   "metadata": {
    "tags": []
   },
   "outputs": [],
   "source": [
    "item = call_snakemake(\"/datadrive/bgcflow/\")"
   ]
  },
  {
   "cell_type": "code",
   "execution_count": null,
   "id": "8cff0386-f816-4b2b-8a8d-a3912095a8f0",
   "metadata": {
    "tags": []
   },
   "outputs": [],
   "source": [
    "bgcflow = snakemake.workflow"
   ]
  },
  {
   "cell_type": "raw",
   "id": "9b7b60e7-0aa5-4502-aaba-843624a6da32",
   "metadata": {
    "tags": []
   },
   "source": [
    "bgcflow = Workflow(snakefile=\"/datadrive/bgcflow/workflow/Snakefile\")\n",
    "bgcflow.configfile(\"/datadrive/bgcflow/config/config.yaml\")\n",
    "bgcflow.workdir(\"/datadrive/bgcflow/\")"
   ]
  },
  {
   "cell_type": "code",
   "execution_count": null,
   "id": "32eb104c-94fd-4796-9e98-96b56e669b25",
   "metadata": {
    "tags": []
   },
   "outputs": [],
   "source": [
    "bgcflow."
   ]
  },
  {
   "cell_type": "code",
   "execution_count": null,
   "id": "6d363e3a-a014-487a-9325-5f23461e2626",
   "metadata": {
    "tags": []
   },
   "outputs": [],
   "source": []
  },
  {
   "cell_type": "code",
   "execution_count": null,
   "id": "50b0b965-721d-48cd-b040-c7c75743233e",
   "metadata": {
    "tags": []
   },
   "outputs": [],
   "source": [
    "from snakemake.parser import parse"
   ]
  },
  {
   "cell_type": "code",
   "execution_count": null,
   "id": "ed69eebb-fbb1-4653-9bcc-8b0018c4cccd",
   "metadata": {
    "tags": []
   },
   "outputs": [],
   "source": [
    "parse(workflow=\"../bgcflow/workflow/rules/antismash.smk\")"
   ]
  },
  {
   "cell_type": "code",
   "execution_count": null,
   "id": "06daea97-6bea-4f6f-83ca-5bcb42c7d968",
   "metadata": {
    "tags": []
   },
   "outputs": [],
   "source": [
    "parse(Path(\"../bgcflow/workflow/rules/antismash.smk\"), bgcflow)"
   ]
  },
  {
   "cell_type": "code",
   "execution_count": null,
   "id": "4e5e9c40-ebc5-4b68-b21b-2ec1518f492e",
   "metadata": {},
   "outputs": [],
   "source": []
  }
 ],
 "metadata": {
  "kernelspec": {
   "display_name": "Python 3 (ipykernel)",
   "language": "python",
   "name": "python3"
  },
  "language_info": {
   "codemirror_mode": {
    "name": "ipython",
    "version": 3
   },
   "file_extension": ".py",
   "mimetype": "text/x-python",
   "name": "python",
   "nbconvert_exporter": "python",
   "pygments_lexer": "ipython3",
   "version": "3.9.16"
  }
 },
 "nbformat": 4,
 "nbformat_minor": 5
}
