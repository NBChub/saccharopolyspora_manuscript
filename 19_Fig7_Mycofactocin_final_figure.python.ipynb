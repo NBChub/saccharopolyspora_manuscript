{
 "cells": [
  {
   "cell_type": "markdown",
   "id": "b43a88ac-91dc-4a3d-ba42-79c07db0f1ad",
   "metadata": {},
   "source": [
    "## Merge Visualization"
   ]
  },
  {
   "cell_type": "code",
   "execution_count": null,
   "id": "24e3e4e7-44c9-4836-8c5c-6bfbb7472849",
   "metadata": {
    "tags": []
   },
   "outputs": [],
   "source": [
    "from svgutils.compose import *\n",
    "from svgutils.compose import Figure\n",
    "from pathlib import Path"
   ]
  },
  {
   "cell_type": "code",
   "execution_count": null,
   "id": "5afd35ac-8922-4bae-8289-f5d2f1fe097e",
   "metadata": {
    "tags": []
   },
   "outputs": [],
   "source": [
    "FIGURE = \"Figure_7\""
   ]
  },
  {
   "cell_type": "code",
   "execution_count": null,
   "id": "468571c8-143f-4f27-956c-916391ef4b33",
   "metadata": {
    "tags": []
   },
   "outputs": [],
   "source": [
    "cutoff = \"0.30\"\n",
    "final_figure = Figure(\"900\", \"800\",\n",
    "                      Panel(\n",
    "                          SVG(f\"assets/figures/{FIGURE}/{FIGURE}B_{cutoff}.svg\").scale(0.5).move(0, 30),\n",
    "                          #Text(\"A\", 30, 30, size=18, weight='bold'),\n",
    "                      ),\n",
    "                      Panel(\n",
    "                          SVG(f\"assets/figures/{FIGURE}/{FIGURE}D_{cutoff}.svg\").scale(0.2).move(200, 0),\n",
    "                          Text(\"A\", 0, 30, size=18, weight='bold'),\n",
    "                      ),\n",
    "                      Panel(\n",
    "                          SVG(f\"assets/figures/{FIGURE}/b.svg\").scale(0.8).move(330, 0),\n",
    "                          Text(\"B\", 350, 30, size=18, weight='bold'),\n",
    "                      ),                      \n",
    "                      Panel(\n",
    "                          SVG(f\"assets/figures/{FIGURE}/{FIGURE}c.svg\").scale(0.75).move(350, 350),\n",
    "                          Text(\"D\", 350, 350, size=18, weight='bold'),                        \n",
    "                      ),                      \n",
    "                      Panel(\n",
    "                          #SVG(f\"assets/figures/Figure_7/Mycofactocin_Biosynthesis_Annotated.svg\").scale(0.75).move(350, 350),\n",
    "                          Text(\"C\", 0, 350, size=18, weight='bold'),                        \n",
    "                      ),\n",
    "                     )\n",
    "outfile = Path(f\"assets/figures/{FIGURE}/{FIGURE}_{cutoff}_new.svg\")\n",
    "outfile.parent.mkdir(parents=True, exist_ok=True)\n",
    "final_figure.save(outfile)\n",
    "final_figure"
   ]
  },
  {
   "cell_type": "code",
   "execution_count": null,
   "id": "09216476-7752-42c2-a7a2-da9eab16b00a",
   "metadata": {},
   "outputs": [],
   "source": []
  }
 ],
 "metadata": {
  "kernelspec": {
   "display_name": "Python 3 (ipykernel)",
   "language": "python",
   "name": "python3"
  },
  "language_info": {
   "codemirror_mode": {
    "name": "ipython",
    "version": 3
   },
   "file_extension": ".py",
   "mimetype": "text/x-python",
   "name": "python",
   "nbconvert_exporter": "python",
   "pygments_lexer": "ipython3",
   "version": "3.11.0"
  }
 },
 "nbformat": 4,
 "nbformat_minor": 5
}
